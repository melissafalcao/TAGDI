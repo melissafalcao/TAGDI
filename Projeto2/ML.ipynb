{
  "nbformat": 4,
  "nbformat_minor": 0,
  "metadata": {
    "colab": {
      "name": "Proj2.ipynb",
      "provenance": [],
      "collapsed_sections": [
        "L3mgMFmCchIK",
        "kHQgp-F1dEDx",
        "Avwiqzgbc8oS",
        "RZBvpotEdLX1"
      ]
    },
    "kernelspec": {
      "name": "python3",
      "display_name": "Python 3"
    },
    "language_info": {
      "name": "python"
    }
  },
  "cells": [
    {
      "cell_type": "markdown",
      "metadata": {
        "id": "T7XyMhjQdgyp"
      },
      "source": [
        "# **Dependências**"
      ]
    },
    {
      "cell_type": "code",
      "metadata": {
        "id": "5ZIZhdsw-4J9",
        "colab": {
          "base_uri": "https://localhost:8080/"
        },
        "outputId": "9d4f5b2f-1b07-453b-e6fb-44ac87741cc0"
      },
      "source": [
        "!pip install mlflow --quiet"
      ],
      "execution_count": null,
      "outputs": [
        {
          "output_type": "stream",
          "text": [
            "\u001b[K     |████████████████████████████████| 14.4 MB 60 kB/s \n",
            "\u001b[K     |████████████████████████████████| 636 kB 39.3 MB/s \n",
            "\u001b[K     |████████████████████████████████| 56 kB 5.9 MB/s \n",
            "\u001b[K     |████████████████████████████████| 146 kB 58.6 MB/s \n",
            "\u001b[K     |████████████████████████████████| 170 kB 56.6 MB/s \n",
            "\u001b[K     |████████████████████████████████| 1.1 MB 31.9 MB/s \n",
            "\u001b[K     |████████████████████████████████| 79 kB 9.9 MB/s \n",
            "\u001b[K     |████████████████████████████████| 52 kB 2.0 MB/s \n",
            "\u001b[K     |████████████████████████████████| 63 kB 2.4 MB/s \n",
            "\u001b[?25h  Building wheel for alembic (setup.py) ... \u001b[?25l\u001b[?25hdone\n",
            "  Building wheel for databricks-cli (setup.py) ... \u001b[?25l\u001b[?25hdone\n",
            "  Building wheel for prometheus-flask-exporter (setup.py) ... \u001b[?25l\u001b[?25hdone\n"
          ],
          "name": "stdout"
        }
      ]
    },
    {
      "cell_type": "code",
      "metadata": {
        "id": "jW1heNfn_FCf"
      },
      "source": [
        "!pip install mlflow --quiet"
      ],
      "execution_count": null,
      "outputs": []
    },
    {
      "cell_type": "code",
      "metadata": {
        "id": "cquT4Oa-_boi"
      },
      "source": [
        "!pip install optuna --quiet"
      ],
      "execution_count": null,
      "outputs": []
    },
    {
      "cell_type": "code",
      "metadata": {
        "id": "fNSTdZStSM07",
        "colab": {
          "base_uri": "https://localhost:8080/"
        },
        "outputId": "0df07b80-ce63-42d7-9c89-450600c67031"
      },
      "source": [
        "!pip install pyngrok --quiet"
      ],
      "execution_count": null,
      "outputs": [
        {
          "output_type": "stream",
          "text": [
            "\u001b[?25l\r\u001b[K     |▍                               | 10 kB 28.8 MB/s eta 0:00:01\r\u001b[K     |▉                               | 20 kB 32.1 MB/s eta 0:00:01\r\u001b[K     |█▎                              | 30 kB 25.7 MB/s eta 0:00:01\r\u001b[K     |█▊                              | 40 kB 19.5 MB/s eta 0:00:01\r\u001b[K     |██▏                             | 51 kB 9.3 MB/s eta 0:00:01\r\u001b[K     |██▋                             | 61 kB 9.7 MB/s eta 0:00:01\r\u001b[K     |███                             | 71 kB 8.1 MB/s eta 0:00:01\r\u001b[K     |███▌                            | 81 kB 9.1 MB/s eta 0:00:01\r\u001b[K     |████                            | 92 kB 8.3 MB/s eta 0:00:01\r\u001b[K     |████▍                           | 102 kB 8.6 MB/s eta 0:00:01\r\u001b[K     |████▉                           | 112 kB 8.6 MB/s eta 0:00:01\r\u001b[K     |█████▎                          | 122 kB 8.6 MB/s eta 0:00:01\r\u001b[K     |█████▊                          | 133 kB 8.6 MB/s eta 0:00:01\r\u001b[K     |██████▏                         | 143 kB 8.6 MB/s eta 0:00:01\r\u001b[K     |██████▋                         | 153 kB 8.6 MB/s eta 0:00:01\r\u001b[K     |███████                         | 163 kB 8.6 MB/s eta 0:00:01\r\u001b[K     |███████▌                        | 174 kB 8.6 MB/s eta 0:00:01\r\u001b[K     |████████                        | 184 kB 8.6 MB/s eta 0:00:01\r\u001b[K     |████████▍                       | 194 kB 8.6 MB/s eta 0:00:01\r\u001b[K     |████████▊                       | 204 kB 8.6 MB/s eta 0:00:01\r\u001b[K     |█████████▏                      | 215 kB 8.6 MB/s eta 0:00:01\r\u001b[K     |█████████▋                      | 225 kB 8.6 MB/s eta 0:00:01\r\u001b[K     |██████████                      | 235 kB 8.6 MB/s eta 0:00:01\r\u001b[K     |██████████▌                     | 245 kB 8.6 MB/s eta 0:00:01\r\u001b[K     |███████████                     | 256 kB 8.6 MB/s eta 0:00:01\r\u001b[K     |███████████▍                    | 266 kB 8.6 MB/s eta 0:00:01\r\u001b[K     |███████████▉                    | 276 kB 8.6 MB/s eta 0:00:01\r\u001b[K     |████████████▎                   | 286 kB 8.6 MB/s eta 0:00:01\r\u001b[K     |████████████▊                   | 296 kB 8.6 MB/s eta 0:00:01\r\u001b[K     |█████████████▏                  | 307 kB 8.6 MB/s eta 0:00:01\r\u001b[K     |█████████████▋                  | 317 kB 8.6 MB/s eta 0:00:01\r\u001b[K     |██████████████                  | 327 kB 8.6 MB/s eta 0:00:01\r\u001b[K     |██████████████▌                 | 337 kB 8.6 MB/s eta 0:00:01\r\u001b[K     |███████████████                 | 348 kB 8.6 MB/s eta 0:00:01\r\u001b[K     |███████████████▍                | 358 kB 8.6 MB/s eta 0:00:01\r\u001b[K     |███████████████▉                | 368 kB 8.6 MB/s eta 0:00:01\r\u001b[K     |████████████████▎               | 378 kB 8.6 MB/s eta 0:00:01\r\u001b[K     |████████████████▊               | 389 kB 8.6 MB/s eta 0:00:01\r\u001b[K     |█████████████████▏              | 399 kB 8.6 MB/s eta 0:00:01\r\u001b[K     |█████████████████▌              | 409 kB 8.6 MB/s eta 0:00:01\r\u001b[K     |██████████████████              | 419 kB 8.6 MB/s eta 0:00:01\r\u001b[K     |██████████████████▍             | 430 kB 8.6 MB/s eta 0:00:01\r\u001b[K     |██████████████████▉             | 440 kB 8.6 MB/s eta 0:00:01\r\u001b[K     |███████████████████▎            | 450 kB 8.6 MB/s eta 0:00:01\r\u001b[K     |███████████████████▊            | 460 kB 8.6 MB/s eta 0:00:01\r\u001b[K     |████████████████████▏           | 471 kB 8.6 MB/s eta 0:00:01\r\u001b[K     |████████████████████▋           | 481 kB 8.6 MB/s eta 0:00:01\r\u001b[K     |█████████████████████           | 491 kB 8.6 MB/s eta 0:00:01\r\u001b[K     |█████████████████████▌          | 501 kB 8.6 MB/s eta 0:00:01\r\u001b[K     |██████████████████████          | 512 kB 8.6 MB/s eta 0:00:01\r\u001b[K     |██████████████████████▍         | 522 kB 8.6 MB/s eta 0:00:01\r\u001b[K     |██████████████████████▉         | 532 kB 8.6 MB/s eta 0:00:01\r\u001b[K     |███████████████████████▎        | 542 kB 8.6 MB/s eta 0:00:01\r\u001b[K     |███████████████████████▊        | 552 kB 8.6 MB/s eta 0:00:01\r\u001b[K     |████████████████████████▏       | 563 kB 8.6 MB/s eta 0:00:01\r\u001b[K     |████████████████████████▋       | 573 kB 8.6 MB/s eta 0:00:01\r\u001b[K     |█████████████████████████       | 583 kB 8.6 MB/s eta 0:00:01\r\u001b[K     |█████████████████████████▌      | 593 kB 8.6 MB/s eta 0:00:01\r\u001b[K     |██████████████████████████      | 604 kB 8.6 MB/s eta 0:00:01\r\u001b[K     |██████████████████████████▎     | 614 kB 8.6 MB/s eta 0:00:01\r\u001b[K     |██████████████████████████▊     | 624 kB 8.6 MB/s eta 0:00:01\r\u001b[K     |███████████████████████████▏    | 634 kB 8.6 MB/s eta 0:00:01\r\u001b[K     |███████████████████████████▋    | 645 kB 8.6 MB/s eta 0:00:01\r\u001b[K     |████████████████████████████    | 655 kB 8.6 MB/s eta 0:00:01\r\u001b[K     |████████████████████████████▌   | 665 kB 8.6 MB/s eta 0:00:01\r\u001b[K     |█████████████████████████████   | 675 kB 8.6 MB/s eta 0:00:01\r\u001b[K     |█████████████████████████████▍  | 686 kB 8.6 MB/s eta 0:00:01\r\u001b[K     |█████████████████████████████▉  | 696 kB 8.6 MB/s eta 0:00:01\r\u001b[K     |██████████████████████████████▎ | 706 kB 8.6 MB/s eta 0:00:01\r\u001b[K     |██████████████████████████████▊ | 716 kB 8.6 MB/s eta 0:00:01\r\u001b[K     |███████████████████████████████▏| 727 kB 8.6 MB/s eta 0:00:01\r\u001b[K     |███████████████████████████████▋| 737 kB 8.6 MB/s eta 0:00:01\r\u001b[K     |████████████████████████████████| 746 kB 8.6 MB/s \n",
            "\u001b[?25h  Building wheel for pyngrok (setup.py) ... \u001b[?25l\u001b[?25hdone\n"
          ],
          "name": "stdout"
        }
      ]
    },
    {
      "cell_type": "code",
      "metadata": {
        "id": "iXk2xKC2TmFI",
        "colab": {
          "base_uri": "https://localhost:8080/"
        },
        "outputId": "60fc6243-6311-408a-8036-95d2e099d1fa"
      },
      "source": [
        "!pip install ngrok --quiet"
      ],
      "execution_count": null,
      "outputs": [
        {
          "output_type": "stream",
          "text": [
            "\u001b[33mWARNING: Discarding https://files.pythonhosted.org/packages/03/ac/9a3f332f8d7d27cd8929922b2e225842c1623760364b37fc79dc0f65e77d/ping-0.2.tar.gz#sha256=ecb32294c2af8ae075de4a3743f568db376480ad81c2e010a7f1ce1cee7b030f (from https://pypi.org/simple/ping/). Command errored out with exit status 1: python setup.py egg_info Check the logs for full command output.\u001b[0m\n",
            "\u001b[33mWARNING: Discarding https://files.pythonhosted.org/packages/e6/e1/0d6a865e59fc27e13c0f39afea889f34a62b209046bfb863b62b614e5a3a/ping-0.1.tar.gz#sha256=e86c646487241be6e44262b182f0fbfdc2c00f2a4a0b7b3f0c499137957d81c1 (from https://pypi.org/simple/ping/). Command errored out with exit status 1: python setup.py egg_info Check the logs for full command output.\u001b[0m\n",
            "  Building wheel for ngrok (setup.py) ... \u001b[?25l\u001b[?25hdone\n"
          ],
          "name": "stdout"
        }
      ]
    },
    {
      "cell_type": "code",
      "metadata": {
        "id": "piIchDdVZV1B"
      },
      "source": [
        "\n",
        "import pandas as pd\n",
        "import numpy as np\n",
        "import mlflow\n",
        "import mlflow.sklearn\n",
        "import optuna\n",
        "import matplotlib.pyplot as plt\n",
        "import seaborn as sns\n",
        "from scipy import stats\n",
        "\n"
      ],
      "execution_count": null,
      "outputs": []
    },
    {
      "cell_type": "code",
      "metadata": {
        "id": "askb0I6FFuP3"
      },
      "source": [
        "from sklearn.model_selection import train_test_split\n",
        "from sklearn.neighbors import KNeighborsRegressor\n",
        "from sklearn import neighbors\n",
        "from sklearn.linear_model import LinearRegression\n",
        "from sklearn.svm import SVR\n",
        "from sklearn import tree\n",
        "from sklearn.metrics import mean_squared_error, r2_score, mean_absolute_error\n",
        "from sklearn import preprocessing"
      ],
      "execution_count": null,
      "outputs": []
    },
    {
      "cell_type": "markdown",
      "metadata": {
        "id": "IpFBPry1eFfv"
      },
      "source": [
        "# **Dataframe**"
      ]
    },
    {
      "cell_type": "code",
      "metadata": {
        "id": "PAMCUzmhL6NK"
      },
      "source": [
        "data = pd.read_csv(\"https://raw.githubusercontent.com/melissafalcao/TAGDI/main/Dataset/saida.csv?token=AHWTHUF2H4CJSPRUBUT545TBEBECK\", encoding =\"UTF-8\")"
      ],
      "execution_count": null,
      "outputs": []
    },
    {
      "cell_type": "code",
      "metadata": {
        "id": "yiJl1twHKXVi"
      },
      "source": [
        "data = data.drop(data.columns[0], axis=1)"
      ],
      "execution_count": null,
      "outputs": []
    },
    {
      "cell_type": "code",
      "metadata": {
        "colab": {
          "base_uri": "https://localhost:8080/",
          "height": 588
        },
        "id": "ixKFlUToMWg0",
        "outputId": "81b299ee-a8d8-4d63-9324-d091a12a2bd6"
      },
      "source": [
        "data.head(5)"
      ],
      "execution_count": null,
      "outputs": [
        {
          "output_type": "execute_result",
          "data": {
            "text/html": [
              "<div>\n",
              "<style scoped>\n",
              "    .dataframe tbody tr th:only-of-type {\n",
              "        vertical-align: middle;\n",
              "    }\n",
              "\n",
              "    .dataframe tbody tr th {\n",
              "        vertical-align: top;\n",
              "    }\n",
              "\n",
              "    .dataframe thead th {\n",
              "        text-align: right;\n",
              "    }\n",
              "</style>\n",
              "<table border=\"1\" class=\"dataframe\">\n",
              "  <thead>\n",
              "    <tr style=\"text-align: right;\">\n",
              "      <th></th>\n",
              "      <th>Name</th>\n",
              "      <th>Score</th>\n",
              "      <th>Genders</th>\n",
              "      <th>Type</th>\n",
              "      <th>Episodes</th>\n",
              "      <th>Producers</th>\n",
              "      <th>Studios</th>\n",
              "      <th>Source</th>\n",
              "      <th>Duration</th>\n",
              "      <th>Rating</th>\n",
              "      <th>Members</th>\n",
              "      <th>Favorites</th>\n",
              "      <th>Watching</th>\n",
              "      <th>Completed</th>\n",
              "      <th>On-Hold</th>\n",
              "      <th>Dropped</th>\n",
              "      <th>Plan to Watch</th>\n",
              "      <th>Score-10</th>\n",
              "      <th>Score-9</th>\n",
              "      <th>Score-8</th>\n",
              "      <th>Score-7</th>\n",
              "      <th>Score-6</th>\n",
              "      <th>Score-5</th>\n",
              "      <th>Score-4</th>\n",
              "      <th>Score-3</th>\n",
              "      <th>Score-2</th>\n",
              "      <th>Score-1</th>\n",
              "      <th>Finished</th>\n",
              "      <th>Estreia</th>\n",
              "      <th>GendersList</th>\n",
              "      <th>StudiosList</th>\n",
              "      <th>members_log</th>\n",
              "      <th>Score-10/1</th>\n",
              "      <th>MembersClass</th>\n",
              "    </tr>\n",
              "  </thead>\n",
              "  <tbody>\n",
              "    <tr>\n",
              "      <th>0</th>\n",
              "      <td>Cowboy Bebop</td>\n",
              "      <td>0.944142</td>\n",
              "      <td>Action, Adventure, Comedy, Drama, Sci-Fi, Space</td>\n",
              "      <td>TV</td>\n",
              "      <td>0.008181</td>\n",
              "      <td>Bandai Visual</td>\n",
              "      <td>Sunrise</td>\n",
              "      <td>Original</td>\n",
              "      <td>24 min. per ep.</td>\n",
              "      <td>R - 17+ (violence &amp; profanity)</td>\n",
              "      <td>0.483459</td>\n",
              "      <td>0.336956</td>\n",
              "      <td>0.119243</td>\n",
              "      <td>0.329041</td>\n",
              "      <td>0.380552</td>\n",
              "      <td>0.152699</td>\n",
              "      <td>329800.0</td>\n",
              "      <td>0.320601</td>\n",
              "      <td>0.340261</td>\n",
              "      <td>0.286693</td>\n",
              "      <td>0.205156</td>\n",
              "      <td>0.109786</td>\n",
              "      <td>0.071328</td>\n",
              "      <td>0.039222</td>\n",
              "      <td>0.030677</td>\n",
              "      <td>0.029168</td>\n",
              "      <td>0.046787</td>\n",
              "      <td>0.788462</td>\n",
              "      <td>0.778846</td>\n",
              "      <td>['Action', 'Adventure', 'Comedy', 'Drama', 'Sc...</td>\n",
              "      <td>['Sunrise']</td>\n",
              "      <td>6.097590</td>\n",
              "      <td>2.161501</td>\n",
              "      <td>SS</td>\n",
              "    </tr>\n",
              "    <tr>\n",
              "      <th>1</th>\n",
              "      <td>Cowboy Bebop: Tengoku no Tobira</td>\n",
              "      <td>0.891008</td>\n",
              "      <td>Action, Drama, Mystery, Sci-Fi, Space</td>\n",
              "      <td>Movie</td>\n",
              "      <td>0.000000</td>\n",
              "      <td>Sunrise, Bandai Visual</td>\n",
              "      <td>Bones</td>\n",
              "      <td>Original</td>\n",
              "      <td>1 hr. 55 min.</td>\n",
              "      <td>R - 17+ (violence &amp; profanity)</td>\n",
              "      <td>0.105469</td>\n",
              "      <td>0.006383</td>\n",
              "      <td>0.004669</td>\n",
              "      <td>0.095452</td>\n",
              "      <td>0.010297</td>\n",
              "      <td>0.004407</td>\n",
              "      <td>57964.0</td>\n",
              "      <td>0.042028</td>\n",
              "      <td>0.091919</td>\n",
              "      <td>0.107826</td>\n",
              "      <td>0.074490</td>\n",
              "      <td>0.030802</td>\n",
              "      <td>0.015030</td>\n",
              "      <td>0.007098</td>\n",
              "      <td>0.004977</td>\n",
              "      <td>0.004257</td>\n",
              "      <td>0.011200</td>\n",
              "      <td>0.807692</td>\n",
              "      <td>0.807692</td>\n",
              "      <td>['Action', 'Drama', 'Mystery', 'Sci-Fi', 'Space']</td>\n",
              "      <td>['Bones']</td>\n",
              "      <td>5.436393</td>\n",
              "      <td>1.899104</td>\n",
              "      <td>SS</td>\n",
              "    </tr>\n",
              "    <tr>\n",
              "      <th>2</th>\n",
              "      <td>Trigun</td>\n",
              "      <td>0.870572</td>\n",
              "      <td>Action, Sci-Fi, Adventure, Comedy, Drama, Shounen</td>\n",
              "      <td>TV</td>\n",
              "      <td>0.008181</td>\n",
              "      <td>Victor Entertainment</td>\n",
              "      <td>Madhouse</td>\n",
              "      <td>Manga</td>\n",
              "      <td>24 min. per ep.</td>\n",
              "      <td>PG-13 - Teens 13 or older</td>\n",
              "      <td>0.215824</td>\n",
              "      <td>0.070381</td>\n",
              "      <td>0.032810</td>\n",
              "      <td>0.157378</td>\n",
              "      <td>0.135511</td>\n",
              "      <td>0.079704</td>\n",
              "      <td>146918.0</td>\n",
              "      <td>0.070268</td>\n",
              "      <td>0.141336</td>\n",
              "      <td>0.187625</td>\n",
              "      <td>0.162703</td>\n",
              "      <td>0.081595</td>\n",
              "      <td>0.046764</td>\n",
              "      <td>0.024201</td>\n",
              "      <td>0.014999</td>\n",
              "      <td>0.012416</td>\n",
              "      <td>0.015763</td>\n",
              "      <td>0.778846</td>\n",
              "      <td>0.778846</td>\n",
              "      <td>['Action', 'Sci-Fi', 'Adventure', 'Comedy', 'D...</td>\n",
              "      <td>['Madhouse']</td>\n",
              "      <td>5.747344</td>\n",
              "      <td>1.974227</td>\n",
              "      <td>SS</td>\n",
              "    </tr>\n",
              "    <tr>\n",
              "      <th>3</th>\n",
              "      <td>Witch Hunter Robin</td>\n",
              "      <td>0.738420</td>\n",
              "      <td>Action, Mystery, Police, Supernatural, Drama, ...</td>\n",
              "      <td>TV</td>\n",
              "      <td>0.008181</td>\n",
              "      <td>TV Tokyo, Bandai Visual, Dentsu, Victor Entert...</td>\n",
              "      <td>Sunrise</td>\n",
              "      <td>Original</td>\n",
              "      <td>25 min. per ep.</td>\n",
              "      <td>PG-13 - Teens 13 or older</td>\n",
              "      <td>0.036552</td>\n",
              "      <td>0.003192</td>\n",
              "      <td>0.004846</td>\n",
              "      <td>0.021152</td>\n",
              "      <td>0.027251</td>\n",
              "      <td>0.030782</td>\n",
              "      <td>33719.0</td>\n",
              "      <td>0.003051</td>\n",
              "      <td>0.008977</td>\n",
              "      <td>0.022058</td>\n",
              "      <td>0.038237</td>\n",
              "      <td>0.030292</td>\n",
              "      <td>0.023386</td>\n",
              "      <td>0.013333</td>\n",
              "      <td>0.007963</td>\n",
              "      <td>0.006425</td>\n",
              "      <td>0.003852</td>\n",
              "      <td>0.817308</td>\n",
              "      <td>0.817308</td>\n",
              "      <td>['Action', 'Mystery', 'Police', 'Supernatural'...</td>\n",
              "      <td>['Sunrise']</td>\n",
              "      <td>4.976272</td>\n",
              "      <td>1.221583</td>\n",
              "      <td>SS</td>\n",
              "    </tr>\n",
              "    <tr>\n",
              "      <th>4</th>\n",
              "      <td>Bouken Ou Beet</td>\n",
              "      <td>0.698910</td>\n",
              "      <td>Adventure, Fantasy, Shounen, Supernatural</td>\n",
              "      <td>TV</td>\n",
              "      <td>0.016688</td>\n",
              "      <td>TV Tokyo, Dentsu</td>\n",
              "      <td>Toei Animation</td>\n",
              "      <td>Manga</td>\n",
              "      <td>23 min. per ep.</td>\n",
              "      <td>PG - Children</td>\n",
              "      <td>0.005094</td>\n",
              "      <td>0.000098</td>\n",
              "      <td>0.000724</td>\n",
              "      <td>0.003351</td>\n",
              "      <td>0.004076</td>\n",
              "      <td>0.006342</td>\n",
              "      <td>3394.0</td>\n",
              "      <td>0.000435</td>\n",
              "      <td>0.000986</td>\n",
              "      <td>0.002703</td>\n",
              "      <td>0.005635</td>\n",
              "      <td>0.005663</td>\n",
              "      <td>0.005071</td>\n",
              "      <td>0.003253</td>\n",
              "      <td>0.001855</td>\n",
              "      <td>0.001931</td>\n",
              "      <td>0.000770</td>\n",
              "      <td>0.846154</td>\n",
              "      <td>0.836538</td>\n",
              "      <td>['Adventure', 'Fantasy', 'Shounen', 'Supernatu...</td>\n",
              "      <td>['Toei Animation']</td>\n",
              "      <td>4.121363</td>\n",
              "      <td>1.062791</td>\n",
              "      <td>S</td>\n",
              "    </tr>\n",
              "  </tbody>\n",
              "</table>\n",
              "</div>"
            ],
            "text/plain": [
              "                              Name     Score  ... Score-10/1 MembersClass\n",
              "0                     Cowboy Bebop  0.944142  ...   2.161501           SS\n",
              "1  Cowboy Bebop: Tengoku no Tobira  0.891008  ...   1.899104           SS\n",
              "2                           Trigun  0.870572  ...   1.974227           SS\n",
              "3               Witch Hunter Robin  0.738420  ...   1.221583           SS\n",
              "4                   Bouken Ou Beet  0.698910  ...   1.062791            S\n",
              "\n",
              "[5 rows x 34 columns]"
            ]
          },
          "metadata": {
            "tags": []
          },
          "execution_count": 10
        }
      ]
    },
    {
      "cell_type": "code",
      "metadata": {
        "id": "0yY6-1IBMqAi",
        "colab": {
          "base_uri": "https://localhost:8080/"
        },
        "outputId": "e36c751c-77ef-42db-9d6c-59cf872eca71"
      },
      "source": [
        "data.info()"
      ],
      "execution_count": null,
      "outputs": [
        {
          "output_type": "stream",
          "text": [
            "<class 'pandas.core.frame.DataFrame'>\n",
            "RangeIndex: 12421 entries, 0 to 12420\n",
            "Data columns (total 34 columns):\n",
            " #   Column         Non-Null Count  Dtype  \n",
            "---  ------         --------------  -----  \n",
            " 0   Name           12421 non-null  object \n",
            " 1   Score          12421 non-null  float64\n",
            " 2   Genders        12421 non-null  object \n",
            " 3   Type           12421 non-null  object \n",
            " 4   Episodes       12421 non-null  float64\n",
            " 5   Producers      12421 non-null  object \n",
            " 6   Studios        12421 non-null  object \n",
            " 7   Source         12421 non-null  object \n",
            " 8   Duration       12421 non-null  object \n",
            " 9   Rating         12421 non-null  object \n",
            " 10  Members        12421 non-null  float64\n",
            " 11  Favorites      12421 non-null  float64\n",
            " 12  Watching       12421 non-null  float64\n",
            " 13  Completed      12421 non-null  float64\n",
            " 14  On-Hold        12421 non-null  float64\n",
            " 15  Dropped        12421 non-null  float64\n",
            " 16  Plan to Watch  12421 non-null  float64\n",
            " 17  Score-10       12421 non-null  float64\n",
            " 18  Score-9        12421 non-null  float64\n",
            " 19  Score-8        12421 non-null  float64\n",
            " 20  Score-7        12421 non-null  float64\n",
            " 21  Score-6        12421 non-null  float64\n",
            " 22  Score-5        12421 non-null  float64\n",
            " 23  Score-4        12421 non-null  float64\n",
            " 24  Score-3        12421 non-null  float64\n",
            " 25  Score-2        12421 non-null  float64\n",
            " 26  Score-1        12421 non-null  float64\n",
            " 27  Finished       12421 non-null  float64\n",
            " 28  Estreia        12421 non-null  float64\n",
            " 29  GendersList    12421 non-null  object \n",
            " 30  StudiosList    12421 non-null  object \n",
            " 31  members_log    12421 non-null  float64\n",
            " 32  Score-10/1     12421 non-null  float64\n",
            " 33  MembersClass   12421 non-null  object \n",
            "dtypes: float64(23), object(11)\n",
            "memory usage: 3.2+ MB\n"
          ],
          "name": "stdout"
        }
      ]
    },
    {
      "cell_type": "code",
      "metadata": {
        "id": "NraO6o4Ba-RS"
      },
      "source": [
        "data['Genders'] = data['Genders'].astype('category')\n",
        "data['Type'] = data['Type'].astype('category')\n",
        "data['Producers'] = data['Producers'].astype('category')\n",
        "data['Duration'] = data['Duration'].astype('category')\n",
        "data['Studios'] = data['Studios'].astype('category')\n",
        "data['Source'] = data['Source'].astype('category')\n",
        "data['Rating'] = data['Rating'].astype('category')\n",
        "data['MembersClass'] = data['MembersClass'].astype('category')"
      ],
      "execution_count": null,
      "outputs": []
    },
    {
      "cell_type": "code",
      "metadata": {
        "colab": {
          "base_uri": "https://localhost:8080/"
        },
        "id": "PNf53FN1dV3j",
        "outputId": "2d0e9dd1-2141-4a41-e18b-7fd6bdb8a5b3"
      },
      "source": [
        "data.info()"
      ],
      "execution_count": null,
      "outputs": [
        {
          "output_type": "stream",
          "text": [
            "<class 'pandas.core.frame.DataFrame'>\n",
            "RangeIndex: 12421 entries, 0 to 12420\n",
            "Data columns (total 34 columns):\n",
            " #   Column         Non-Null Count  Dtype   \n",
            "---  ------         --------------  -----   \n",
            " 0   Name           12421 non-null  object  \n",
            " 1   Score          12421 non-null  float64 \n",
            " 2   Genders        12421 non-null  category\n",
            " 3   Type           12421 non-null  category\n",
            " 4   Episodes       12421 non-null  float64 \n",
            " 5   Producers      12421 non-null  category\n",
            " 6   Studios        12421 non-null  category\n",
            " 7   Source         12421 non-null  category\n",
            " 8   Duration       12421 non-null  category\n",
            " 9   Rating         12421 non-null  category\n",
            " 10  Members        12421 non-null  float64 \n",
            " 11  Favorites      12421 non-null  float64 \n",
            " 12  Watching       12421 non-null  float64 \n",
            " 13  Completed      12421 non-null  float64 \n",
            " 14  On-Hold        12421 non-null  float64 \n",
            " 15  Dropped        12421 non-null  float64 \n",
            " 16  Plan to Watch  12421 non-null  float64 \n",
            " 17  Score-10       12421 non-null  float64 \n",
            " 18  Score-9        12421 non-null  float64 \n",
            " 19  Score-8        12421 non-null  float64 \n",
            " 20  Score-7        12421 non-null  float64 \n",
            " 21  Score-6        12421 non-null  float64 \n",
            " 22  Score-5        12421 non-null  float64 \n",
            " 23  Score-4        12421 non-null  float64 \n",
            " 24  Score-3        12421 non-null  float64 \n",
            " 25  Score-2        12421 non-null  float64 \n",
            " 26  Score-1        12421 non-null  float64 \n",
            " 27  Finished       12421 non-null  float64 \n",
            " 28  Estreia        12421 non-null  float64 \n",
            " 29  GendersList    12421 non-null  object  \n",
            " 30  StudiosList    12421 non-null  object  \n",
            " 31  members_log    12421 non-null  float64 \n",
            " 32  Score-10/1     12421 non-null  float64 \n",
            " 33  MembersClass   12421 non-null  category\n",
            "dtypes: category(8), float64(23), object(3)\n",
            "memory usage: 3.0+ MB\n"
          ],
          "name": "stdout"
        }
      ]
    },
    {
      "cell_type": "code",
      "metadata": {
        "id": "Yu8x1mPEgAUv"
      },
      "source": [
        "le = preprocessing.LabelEncoder()\n",
        "data['Genders'] = le.fit_transform(data['Genders'])\n",
        "data['Source'] = le.fit_transform(data['Source'])\n",
        "data['Type'] = le.fit_transform(data['Type'])\n",
        "data['Producers'] = le.fit_transform(data['Producers'])\n",
        "data['Duration'] = le.fit_transform(data['Duration'])\n",
        "data['Studios'] = le.fit_transform(data['Studios'])\n",
        "data['Rating'] = le.fit_transform(data['Rating'])\n",
        "data['MembersClass'] = le.fit_transform(data['MembersClass'])"
      ],
      "execution_count": null,
      "outputs": []
    },
    {
      "cell_type": "code",
      "metadata": {
        "colab": {
          "base_uri": "https://localhost:8080/",
          "height": 377
        },
        "id": "G5J5ldapgtBg",
        "outputId": "d9bf77ff-790e-402d-8fd2-f496af3cd771"
      },
      "source": [
        "data.head(3)"
      ],
      "execution_count": null,
      "outputs": [
        {
          "output_type": "execute_result",
          "data": {
            "text/html": [
              "<div>\n",
              "<style scoped>\n",
              "    .dataframe tbody tr th:only-of-type {\n",
              "        vertical-align: middle;\n",
              "    }\n",
              "\n",
              "    .dataframe tbody tr th {\n",
              "        vertical-align: top;\n",
              "    }\n",
              "\n",
              "    .dataframe thead th {\n",
              "        text-align: right;\n",
              "    }\n",
              "</style>\n",
              "<table border=\"1\" class=\"dataframe\">\n",
              "  <thead>\n",
              "    <tr style=\"text-align: right;\">\n",
              "      <th></th>\n",
              "      <th>Name</th>\n",
              "      <th>Score</th>\n",
              "      <th>Genders</th>\n",
              "      <th>Type</th>\n",
              "      <th>Episodes</th>\n",
              "      <th>Producers</th>\n",
              "      <th>Studios</th>\n",
              "      <th>Source</th>\n",
              "      <th>Duration</th>\n",
              "      <th>Rating</th>\n",
              "      <th>Members</th>\n",
              "      <th>Favorites</th>\n",
              "      <th>Watching</th>\n",
              "      <th>Completed</th>\n",
              "      <th>On-Hold</th>\n",
              "      <th>Dropped</th>\n",
              "      <th>Plan to Watch</th>\n",
              "      <th>Score-10</th>\n",
              "      <th>Score-9</th>\n",
              "      <th>Score-8</th>\n",
              "      <th>Score-7</th>\n",
              "      <th>Score-6</th>\n",
              "      <th>Score-5</th>\n",
              "      <th>Score-4</th>\n",
              "      <th>Score-3</th>\n",
              "      <th>Score-2</th>\n",
              "      <th>Score-1</th>\n",
              "      <th>Finished</th>\n",
              "      <th>Estreia</th>\n",
              "      <th>GendersList</th>\n",
              "      <th>StudiosList</th>\n",
              "      <th>members_log</th>\n",
              "      <th>Score-10/1</th>\n",
              "      <th>MembersClass</th>\n",
              "    </tr>\n",
              "  </thead>\n",
              "  <tbody>\n",
              "    <tr>\n",
              "      <th>0</th>\n",
              "      <td>Cowboy Bebop</td>\n",
              "      <td>0.944142</td>\n",
              "      <td>28</td>\n",
              "      <td>5</td>\n",
              "      <td>0.008181</td>\n",
              "      <td>473</td>\n",
              "      <td>772</td>\n",
              "      <td>10</td>\n",
              "      <td>155</td>\n",
              "      <td>4</td>\n",
              "      <td>0.483459</td>\n",
              "      <td>0.336956</td>\n",
              "      <td>0.119243</td>\n",
              "      <td>0.329041</td>\n",
              "      <td>0.380552</td>\n",
              "      <td>0.152699</td>\n",
              "      <td>329800.0</td>\n",
              "      <td>0.320601</td>\n",
              "      <td>0.340261</td>\n",
              "      <td>0.286693</td>\n",
              "      <td>0.205156</td>\n",
              "      <td>0.109786</td>\n",
              "      <td>0.071328</td>\n",
              "      <td>0.039222</td>\n",
              "      <td>0.030677</td>\n",
              "      <td>0.029168</td>\n",
              "      <td>0.046787</td>\n",
              "      <td>0.788462</td>\n",
              "      <td>0.778846</td>\n",
              "      <td>['Action', 'Adventure', 'Comedy', 'Drama', 'Sc...</td>\n",
              "      <td>['Sunrise']</td>\n",
              "      <td>6.097590</td>\n",
              "      <td>2.161501</td>\n",
              "      <td>5</td>\n",
              "    </tr>\n",
              "    <tr>\n",
              "      <th>1</th>\n",
              "      <td>Cowboy Bebop: Tengoku no Tobira</td>\n",
              "      <td>0.891008</td>\n",
              "      <td>742</td>\n",
              "      <td>0</td>\n",
              "      <td>0.000000</td>\n",
              "      <td>2704</td>\n",
              "      <td>124</td>\n",
              "      <td>10</td>\n",
              "      <td>64</td>\n",
              "      <td>4</td>\n",
              "      <td>0.105469</td>\n",
              "      <td>0.006383</td>\n",
              "      <td>0.004669</td>\n",
              "      <td>0.095452</td>\n",
              "      <td>0.010297</td>\n",
              "      <td>0.004407</td>\n",
              "      <td>57964.0</td>\n",
              "      <td>0.042028</td>\n",
              "      <td>0.091919</td>\n",
              "      <td>0.107826</td>\n",
              "      <td>0.074490</td>\n",
              "      <td>0.030802</td>\n",
              "      <td>0.015030</td>\n",
              "      <td>0.007098</td>\n",
              "      <td>0.004977</td>\n",
              "      <td>0.004257</td>\n",
              "      <td>0.011200</td>\n",
              "      <td>0.807692</td>\n",
              "      <td>0.807692</td>\n",
              "      <td>['Action', 'Drama', 'Mystery', 'Sci-Fi', 'Space']</td>\n",
              "      <td>['Bones']</td>\n",
              "      <td>5.436393</td>\n",
              "      <td>1.899104</td>\n",
              "      <td>5</td>\n",
              "    </tr>\n",
              "    <tr>\n",
              "      <th>2</th>\n",
              "      <td>Trigun</td>\n",
              "      <td>0.870572</td>\n",
              "      <td>1322</td>\n",
              "      <td>5</td>\n",
              "      <td>0.008181</td>\n",
              "      <td>3322</td>\n",
              "      <td>408</td>\n",
              "      <td>6</td>\n",
              "      <td>155</td>\n",
              "      <td>3</td>\n",
              "      <td>0.215824</td>\n",
              "      <td>0.070381</td>\n",
              "      <td>0.032810</td>\n",
              "      <td>0.157378</td>\n",
              "      <td>0.135511</td>\n",
              "      <td>0.079704</td>\n",
              "      <td>146918.0</td>\n",
              "      <td>0.070268</td>\n",
              "      <td>0.141336</td>\n",
              "      <td>0.187625</td>\n",
              "      <td>0.162703</td>\n",
              "      <td>0.081595</td>\n",
              "      <td>0.046764</td>\n",
              "      <td>0.024201</td>\n",
              "      <td>0.014999</td>\n",
              "      <td>0.012416</td>\n",
              "      <td>0.015763</td>\n",
              "      <td>0.778846</td>\n",
              "      <td>0.778846</td>\n",
              "      <td>['Action', 'Sci-Fi', 'Adventure', 'Comedy', 'D...</td>\n",
              "      <td>['Madhouse']</td>\n",
              "      <td>5.747344</td>\n",
              "      <td>1.974227</td>\n",
              "      <td>5</td>\n",
              "    </tr>\n",
              "  </tbody>\n",
              "</table>\n",
              "</div>"
            ],
            "text/plain": [
              "                              Name     Score  ...  Score-10/1  MembersClass\n",
              "0                     Cowboy Bebop  0.944142  ...    2.161501             5\n",
              "1  Cowboy Bebop: Tengoku no Tobira  0.891008  ...    1.899104             5\n",
              "2                           Trigun  0.870572  ...    1.974227             5\n",
              "\n",
              "[3 rows x 34 columns]"
            ]
          },
          "metadata": {
            "tags": []
          },
          "execution_count": 16
        }
      ]
    },
    {
      "cell_type": "code",
      "metadata": {
        "id": "WwP-QRMSjPvC"
      },
      "source": [
        "data = data.drop(columns=['Name','GendersList', 'StudiosList'])"
      ],
      "execution_count": null,
      "outputs": []
    },
    {
      "cell_type": "code",
      "metadata": {
        "colab": {
          "base_uri": "https://localhost:8080/",
          "height": 177
        },
        "id": "Ztzk9odMkHfS",
        "outputId": "8aa2b184-6d2f-4147-aada-035341b548c6"
      },
      "source": [
        "data.head(3)"
      ],
      "execution_count": null,
      "outputs": [
        {
          "output_type": "execute_result",
          "data": {
            "text/html": [
              "<div>\n",
              "<style scoped>\n",
              "    .dataframe tbody tr th:only-of-type {\n",
              "        vertical-align: middle;\n",
              "    }\n",
              "\n",
              "    .dataframe tbody tr th {\n",
              "        vertical-align: top;\n",
              "    }\n",
              "\n",
              "    .dataframe thead th {\n",
              "        text-align: right;\n",
              "    }\n",
              "</style>\n",
              "<table border=\"1\" class=\"dataframe\">\n",
              "  <thead>\n",
              "    <tr style=\"text-align: right;\">\n",
              "      <th></th>\n",
              "      <th>Score</th>\n",
              "      <th>Genders</th>\n",
              "      <th>Type</th>\n",
              "      <th>Episodes</th>\n",
              "      <th>Producers</th>\n",
              "      <th>Studios</th>\n",
              "      <th>Source</th>\n",
              "      <th>Duration</th>\n",
              "      <th>Rating</th>\n",
              "      <th>Members</th>\n",
              "      <th>Favorites</th>\n",
              "      <th>Watching</th>\n",
              "      <th>Completed</th>\n",
              "      <th>On-Hold</th>\n",
              "      <th>Dropped</th>\n",
              "      <th>Plan to Watch</th>\n",
              "      <th>Score-10</th>\n",
              "      <th>Score-9</th>\n",
              "      <th>Score-8</th>\n",
              "      <th>Score-7</th>\n",
              "      <th>Score-6</th>\n",
              "      <th>Score-5</th>\n",
              "      <th>Score-4</th>\n",
              "      <th>Score-3</th>\n",
              "      <th>Score-2</th>\n",
              "      <th>Score-1</th>\n",
              "      <th>Finished</th>\n",
              "      <th>Estreia</th>\n",
              "      <th>members_log</th>\n",
              "      <th>Score-10/1</th>\n",
              "      <th>MembersClass</th>\n",
              "    </tr>\n",
              "  </thead>\n",
              "  <tbody>\n",
              "    <tr>\n",
              "      <th>0</th>\n",
              "      <td>0.944142</td>\n",
              "      <td>28</td>\n",
              "      <td>5</td>\n",
              "      <td>0.008181</td>\n",
              "      <td>473</td>\n",
              "      <td>772</td>\n",
              "      <td>10</td>\n",
              "      <td>155</td>\n",
              "      <td>4</td>\n",
              "      <td>0.483459</td>\n",
              "      <td>0.336956</td>\n",
              "      <td>0.119243</td>\n",
              "      <td>0.329041</td>\n",
              "      <td>0.380552</td>\n",
              "      <td>0.152699</td>\n",
              "      <td>329800.0</td>\n",
              "      <td>0.320601</td>\n",
              "      <td>0.340261</td>\n",
              "      <td>0.286693</td>\n",
              "      <td>0.205156</td>\n",
              "      <td>0.109786</td>\n",
              "      <td>0.071328</td>\n",
              "      <td>0.039222</td>\n",
              "      <td>0.030677</td>\n",
              "      <td>0.029168</td>\n",
              "      <td>0.046787</td>\n",
              "      <td>0.788462</td>\n",
              "      <td>0.778846</td>\n",
              "      <td>6.097590</td>\n",
              "      <td>2.161501</td>\n",
              "      <td>5</td>\n",
              "    </tr>\n",
              "    <tr>\n",
              "      <th>1</th>\n",
              "      <td>0.891008</td>\n",
              "      <td>742</td>\n",
              "      <td>0</td>\n",
              "      <td>0.000000</td>\n",
              "      <td>2704</td>\n",
              "      <td>124</td>\n",
              "      <td>10</td>\n",
              "      <td>64</td>\n",
              "      <td>4</td>\n",
              "      <td>0.105469</td>\n",
              "      <td>0.006383</td>\n",
              "      <td>0.004669</td>\n",
              "      <td>0.095452</td>\n",
              "      <td>0.010297</td>\n",
              "      <td>0.004407</td>\n",
              "      <td>57964.0</td>\n",
              "      <td>0.042028</td>\n",
              "      <td>0.091919</td>\n",
              "      <td>0.107826</td>\n",
              "      <td>0.074490</td>\n",
              "      <td>0.030802</td>\n",
              "      <td>0.015030</td>\n",
              "      <td>0.007098</td>\n",
              "      <td>0.004977</td>\n",
              "      <td>0.004257</td>\n",
              "      <td>0.011200</td>\n",
              "      <td>0.807692</td>\n",
              "      <td>0.807692</td>\n",
              "      <td>5.436393</td>\n",
              "      <td>1.899104</td>\n",
              "      <td>5</td>\n",
              "    </tr>\n",
              "    <tr>\n",
              "      <th>2</th>\n",
              "      <td>0.870572</td>\n",
              "      <td>1322</td>\n",
              "      <td>5</td>\n",
              "      <td>0.008181</td>\n",
              "      <td>3322</td>\n",
              "      <td>408</td>\n",
              "      <td>6</td>\n",
              "      <td>155</td>\n",
              "      <td>3</td>\n",
              "      <td>0.215824</td>\n",
              "      <td>0.070381</td>\n",
              "      <td>0.032810</td>\n",
              "      <td>0.157378</td>\n",
              "      <td>0.135511</td>\n",
              "      <td>0.079704</td>\n",
              "      <td>146918.0</td>\n",
              "      <td>0.070268</td>\n",
              "      <td>0.141336</td>\n",
              "      <td>0.187625</td>\n",
              "      <td>0.162703</td>\n",
              "      <td>0.081595</td>\n",
              "      <td>0.046764</td>\n",
              "      <td>0.024201</td>\n",
              "      <td>0.014999</td>\n",
              "      <td>0.012416</td>\n",
              "      <td>0.015763</td>\n",
              "      <td>0.778846</td>\n",
              "      <td>0.778846</td>\n",
              "      <td>5.747344</td>\n",
              "      <td>1.974227</td>\n",
              "      <td>5</td>\n",
              "    </tr>\n",
              "  </tbody>\n",
              "</table>\n",
              "</div>"
            ],
            "text/plain": [
              "      Score  Genders  Type  ...  members_log  Score-10/1  MembersClass\n",
              "0  0.944142       28     5  ...     6.097590    2.161501             5\n",
              "1  0.891008      742     0  ...     5.436393    1.899104             5\n",
              "2  0.870572     1322     5  ...     5.747344    1.974227             5\n",
              "\n",
              "[3 rows x 31 columns]"
            ]
          },
          "metadata": {
            "tags": []
          },
          "execution_count": 18
        }
      ]
    },
    {
      "cell_type": "code",
      "metadata": {
        "colab": {
          "base_uri": "https://localhost:8080/"
        },
        "id": "gPMVq8YOK1Lu",
        "outputId": "3e18b6a3-2082-413b-e907-592b853ba6f3"
      },
      "source": [
        "y = data['Score']\n",
        "x = data.copy()\n",
        "print(y)\n",
        "x = x.drop(columns=['Score','members_log','Score-10/1','MembersClass'])"
      ],
      "execution_count": null,
      "outputs": [
        {
          "output_type": "stream",
          "text": [
            "0        0.944142\n",
            "1        0.891008\n",
            "2        0.870572\n",
            "3        0.738420\n",
            "4        0.698910\n",
            "           ...   \n",
            "12416    0.645777\n",
            "12417    0.772480\n",
            "12418    0.678474\n",
            "12419    0.403270\n",
            "12420    0.636240\n",
            "Name: Score, Length: 12421, dtype: float64\n"
          ],
          "name": "stdout"
        }
      ]
    },
    {
      "cell_type": "code",
      "metadata": {
        "colab": {
          "base_uri": "https://localhost:8080/",
          "height": 238
        },
        "id": "T3uTWovpK1Lv",
        "outputId": "12fcad11-e42d-43df-82ad-45ba42fbb86d"
      },
      "source": [
        "x.head()"
      ],
      "execution_count": null,
      "outputs": [
        {
          "output_type": "execute_result",
          "data": {
            "text/html": [
              "<div>\n",
              "<style scoped>\n",
              "    .dataframe tbody tr th:only-of-type {\n",
              "        vertical-align: middle;\n",
              "    }\n",
              "\n",
              "    .dataframe tbody tr th {\n",
              "        vertical-align: top;\n",
              "    }\n",
              "\n",
              "    .dataframe thead th {\n",
              "        text-align: right;\n",
              "    }\n",
              "</style>\n",
              "<table border=\"1\" class=\"dataframe\">\n",
              "  <thead>\n",
              "    <tr style=\"text-align: right;\">\n",
              "      <th></th>\n",
              "      <th>Genders</th>\n",
              "      <th>Type</th>\n",
              "      <th>Episodes</th>\n",
              "      <th>Producers</th>\n",
              "      <th>Studios</th>\n",
              "      <th>Source</th>\n",
              "      <th>Duration</th>\n",
              "      <th>Rating</th>\n",
              "      <th>Members</th>\n",
              "      <th>Favorites</th>\n",
              "      <th>Watching</th>\n",
              "      <th>Completed</th>\n",
              "      <th>On-Hold</th>\n",
              "      <th>Dropped</th>\n",
              "      <th>Plan to Watch</th>\n",
              "      <th>Score-10</th>\n",
              "      <th>Score-9</th>\n",
              "      <th>Score-8</th>\n",
              "      <th>Score-7</th>\n",
              "      <th>Score-6</th>\n",
              "      <th>Score-5</th>\n",
              "      <th>Score-4</th>\n",
              "      <th>Score-3</th>\n",
              "      <th>Score-2</th>\n",
              "      <th>Score-1</th>\n",
              "      <th>Finished</th>\n",
              "      <th>Estreia</th>\n",
              "    </tr>\n",
              "  </thead>\n",
              "  <tbody>\n",
              "    <tr>\n",
              "      <th>0</th>\n",
              "      <td>28</td>\n",
              "      <td>5</td>\n",
              "      <td>0.008181</td>\n",
              "      <td>473</td>\n",
              "      <td>772</td>\n",
              "      <td>10</td>\n",
              "      <td>155</td>\n",
              "      <td>4</td>\n",
              "      <td>0.483459</td>\n",
              "      <td>0.336956</td>\n",
              "      <td>0.119243</td>\n",
              "      <td>0.329041</td>\n",
              "      <td>0.380552</td>\n",
              "      <td>0.152699</td>\n",
              "      <td>329800.0</td>\n",
              "      <td>0.320601</td>\n",
              "      <td>0.340261</td>\n",
              "      <td>0.286693</td>\n",
              "      <td>0.205156</td>\n",
              "      <td>0.109786</td>\n",
              "      <td>0.071328</td>\n",
              "      <td>0.039222</td>\n",
              "      <td>0.030677</td>\n",
              "      <td>0.029168</td>\n",
              "      <td>0.046787</td>\n",
              "      <td>0.788462</td>\n",
              "      <td>0.778846</td>\n",
              "    </tr>\n",
              "    <tr>\n",
              "      <th>1</th>\n",
              "      <td>742</td>\n",
              "      <td>0</td>\n",
              "      <td>0.000000</td>\n",
              "      <td>2704</td>\n",
              "      <td>124</td>\n",
              "      <td>10</td>\n",
              "      <td>64</td>\n",
              "      <td>4</td>\n",
              "      <td>0.105469</td>\n",
              "      <td>0.006383</td>\n",
              "      <td>0.004669</td>\n",
              "      <td>0.095452</td>\n",
              "      <td>0.010297</td>\n",
              "      <td>0.004407</td>\n",
              "      <td>57964.0</td>\n",
              "      <td>0.042028</td>\n",
              "      <td>0.091919</td>\n",
              "      <td>0.107826</td>\n",
              "      <td>0.074490</td>\n",
              "      <td>0.030802</td>\n",
              "      <td>0.015030</td>\n",
              "      <td>0.007098</td>\n",
              "      <td>0.004977</td>\n",
              "      <td>0.004257</td>\n",
              "      <td>0.011200</td>\n",
              "      <td>0.807692</td>\n",
              "      <td>0.807692</td>\n",
              "    </tr>\n",
              "    <tr>\n",
              "      <th>2</th>\n",
              "      <td>1322</td>\n",
              "      <td>5</td>\n",
              "      <td>0.008181</td>\n",
              "      <td>3322</td>\n",
              "      <td>408</td>\n",
              "      <td>6</td>\n",
              "      <td>155</td>\n",
              "      <td>3</td>\n",
              "      <td>0.215824</td>\n",
              "      <td>0.070381</td>\n",
              "      <td>0.032810</td>\n",
              "      <td>0.157378</td>\n",
              "      <td>0.135511</td>\n",
              "      <td>0.079704</td>\n",
              "      <td>146918.0</td>\n",
              "      <td>0.070268</td>\n",
              "      <td>0.141336</td>\n",
              "      <td>0.187625</td>\n",
              "      <td>0.162703</td>\n",
              "      <td>0.081595</td>\n",
              "      <td>0.046764</td>\n",
              "      <td>0.024201</td>\n",
              "      <td>0.014999</td>\n",
              "      <td>0.012416</td>\n",
              "      <td>0.015763</td>\n",
              "      <td>0.778846</td>\n",
              "      <td>0.778846</td>\n",
              "    </tr>\n",
              "    <tr>\n",
              "      <th>3</th>\n",
              "      <td>1243</td>\n",
              "      <td>5</td>\n",
              "      <td>0.008181</td>\n",
              "      <td>2877</td>\n",
              "      <td>772</td>\n",
              "      <td>10</td>\n",
              "      <td>158</td>\n",
              "      <td>3</td>\n",
              "      <td>0.036552</td>\n",
              "      <td>0.003192</td>\n",
              "      <td>0.004846</td>\n",
              "      <td>0.021152</td>\n",
              "      <td>0.027251</td>\n",
              "      <td>0.030782</td>\n",
              "      <td>33719.0</td>\n",
              "      <td>0.003051</td>\n",
              "      <td>0.008977</td>\n",
              "      <td>0.022058</td>\n",
              "      <td>0.038237</td>\n",
              "      <td>0.030292</td>\n",
              "      <td>0.023386</td>\n",
              "      <td>0.013333</td>\n",
              "      <td>0.007963</td>\n",
              "      <td>0.006425</td>\n",
              "      <td>0.003852</td>\n",
              "      <td>0.817308</td>\n",
              "      <td>0.817308</td>\n",
              "    </tr>\n",
              "    <tr>\n",
              "      <th>4</th>\n",
              "      <td>1946</td>\n",
              "      <td>5</td>\n",
              "      <td>0.016688</td>\n",
              "      <td>2889</td>\n",
              "      <td>849</td>\n",
              "      <td>6</td>\n",
              "      <td>152</td>\n",
              "      <td>2</td>\n",
              "      <td>0.005094</td>\n",
              "      <td>0.000098</td>\n",
              "      <td>0.000724</td>\n",
              "      <td>0.003351</td>\n",
              "      <td>0.004076</td>\n",
              "      <td>0.006342</td>\n",
              "      <td>3394.0</td>\n",
              "      <td>0.000435</td>\n",
              "      <td>0.000986</td>\n",
              "      <td>0.002703</td>\n",
              "      <td>0.005635</td>\n",
              "      <td>0.005663</td>\n",
              "      <td>0.005071</td>\n",
              "      <td>0.003253</td>\n",
              "      <td>0.001855</td>\n",
              "      <td>0.001931</td>\n",
              "      <td>0.000770</td>\n",
              "      <td>0.846154</td>\n",
              "      <td>0.836538</td>\n",
              "    </tr>\n",
              "  </tbody>\n",
              "</table>\n",
              "</div>"
            ],
            "text/plain": [
              "   Genders  Type  Episodes  Producers  ...   Score-2   Score-1  Finished   Estreia\n",
              "0       28     5  0.008181        473  ...  0.029168  0.046787  0.788462  0.778846\n",
              "1      742     0  0.000000       2704  ...  0.004257  0.011200  0.807692  0.807692\n",
              "2     1322     5  0.008181       3322  ...  0.012416  0.015763  0.778846  0.778846\n",
              "3     1243     5  0.008181       2877  ...  0.006425  0.003852  0.817308  0.817308\n",
              "4     1946     5  0.016688       2889  ...  0.001931  0.000770  0.846154  0.836538\n",
              "\n",
              "[5 rows x 27 columns]"
            ]
          },
          "metadata": {
            "tags": []
          },
          "execution_count": 20
        }
      ]
    },
    {
      "cell_type": "code",
      "metadata": {
        "id": "J-kuSevjCO-j"
      },
      "source": [
        "x['Genders'] = (x['Genders'] - x['Genders'].min()) / (x['Genders'].max() - x['Genders'].min())\n",
        "x['Type'] = (x['Type'] - x['Type'].min()) / (x['Type'].max() - x['Type'].min())\n",
        "x['Producers'] = (x['Producers'] - x['Producers'].min()) / (x['Producers'].max() - x['Producers'].min())\n",
        "x['Studios'] = (x['Studios'] - x['Studios'].min()) / (x['Studios'].max() - x['Studios'].min())\n",
        "x['Source'] = (x['Source'] - x['Source'].min()) / (x['Source'].max() - x['Source'].min())\n",
        "x['Duration'] = (x['Duration'] - x['Duration'].min()) / (x['Duration'].max() - x['Duration'].min())\n",
        "x['Rating'] = (x['Rating'] - x['Rating'].min()) / (x['Rating'].max() - x['Rating'].min())\n",
        "x['Plan to Watch'] = (x['Plan to Watch'] - x['Plan to Watch'].min()) / (x['Plan to Watch'].max() - x['Plan to Watch'].min())"
      ],
      "execution_count": null,
      "outputs": []
    },
    {
      "cell_type": "code",
      "metadata": {
        "colab": {
          "base_uri": "https://localhost:8080/"
        },
        "id": "5N0Woof69Tlm",
        "outputId": "c8df33cd-ae24-4fee-8e40-3590bee6dc72"
      },
      "source": [
        "data.isnull().sum()"
      ],
      "execution_count": null,
      "outputs": [
        {
          "output_type": "execute_result",
          "data": {
            "text/plain": [
              "Score            0\n",
              "Genders          0\n",
              "Type             0\n",
              "Episodes         0\n",
              "Producers        0\n",
              "Studios          0\n",
              "Source           0\n",
              "Duration         0\n",
              "Rating           0\n",
              "Members          0\n",
              "Favorites        0\n",
              "Watching         0\n",
              "Completed        0\n",
              "On-Hold          0\n",
              "Dropped          0\n",
              "Plan to Watch    0\n",
              "Score-10         0\n",
              "Score-9          0\n",
              "Score-8          0\n",
              "Score-7          0\n",
              "Score-6          0\n",
              "Score-5          0\n",
              "Score-4          0\n",
              "Score-3          0\n",
              "Score-2          0\n",
              "Score-1          0\n",
              "Finished         0\n",
              "Estreia          0\n",
              "members_log      0\n",
              "Score-10/1       0\n",
              "MembersClass     0\n",
              "dtype: int64"
            ]
          },
          "metadata": {
            "tags": []
          },
          "execution_count": 22
        }
      ]
    },
    {
      "cell_type": "code",
      "metadata": {
        "colab": {
          "base_uri": "https://localhost:8080/"
        },
        "id": "oRlxGgzx_vVu",
        "outputId": "c313fc69-7c11-427f-b707-a8ce67992edd"
      },
      "source": [
        "print(x.to_numpy)"
      ],
      "execution_count": null,
      "outputs": [
        {
          "output_type": "stream",
          "text": [
            "<bound method DataFrame.to_numpy of         Genders  Type  Episodes  ...   Score-1  Finished   Estreia\n",
            "0      0.006295   1.0  0.008181  ...  0.046787  0.788462  0.778846\n",
            "1      0.166817   0.0  0.000000  ...  0.011200  0.807692  0.807692\n",
            "2      0.297212   1.0  0.008181  ...  0.015763  0.778846  0.778846\n",
            "3      0.279451   1.0  0.008181  ...  0.003852  0.817308  0.817308\n",
            "4      0.437500   1.0  0.016688  ...  0.000770  0.846154  0.836538\n",
            "...         ...   ...       ...  ...       ...       ...       ...\n",
            "12416  0.477068   0.4  0.000982  ...  0.001244  1.000000  1.000000\n",
            "12417  0.831610   0.2  0.000000  ...  0.000000  1.000000  1.000000\n",
            "12418  0.941772   0.8  0.000000  ...  0.000000  1.000000  1.000000\n",
            "12419  0.857914   0.8  0.000000  ...  0.021364  1.000000  1.000000\n",
            "12420  0.604541   0.8  0.000000  ...  0.001600  1.000000  1.000000\n",
            "\n",
            "[12421 rows x 27 columns]>\n"
          ],
          "name": "stdout"
        }
      ]
    },
    {
      "cell_type": "code",
      "metadata": {
        "id": "yu2Ad7daFu2P"
      },
      "source": [
        "X_train, X_test, y_train, y_test = train_test_split(x, y, test_size=0.30, random_state=2020)\n",
        "X_test, X_val, y_test, y_val = train_test_split(X_test, y_test, test_size=0.5, random_state=2020)"
      ],
      "execution_count": null,
      "outputs": []
    },
    {
      "cell_type": "code",
      "metadata": {
        "colab": {
          "base_uri": "https://localhost:8080/",
          "height": 451
        },
        "id": "hQzi7ROjdIE7",
        "outputId": "3299beff-a7f9-4137-8f94-2a4905183e9d"
      },
      "source": [
        "data.head(1864)"
      ],
      "execution_count": null,
      "outputs": [
        {
          "output_type": "execute_result",
          "data": {
            "text/html": [
              "<div>\n",
              "<style scoped>\n",
              "    .dataframe tbody tr th:only-of-type {\n",
              "        vertical-align: middle;\n",
              "    }\n",
              "\n",
              "    .dataframe tbody tr th {\n",
              "        vertical-align: top;\n",
              "    }\n",
              "\n",
              "    .dataframe thead th {\n",
              "        text-align: right;\n",
              "    }\n",
              "</style>\n",
              "<table border=\"1\" class=\"dataframe\">\n",
              "  <thead>\n",
              "    <tr style=\"text-align: right;\">\n",
              "      <th></th>\n",
              "      <th>Score</th>\n",
              "      <th>Genders</th>\n",
              "      <th>Type</th>\n",
              "      <th>Episodes</th>\n",
              "      <th>Producers</th>\n",
              "      <th>Studios</th>\n",
              "      <th>Source</th>\n",
              "      <th>Duration</th>\n",
              "      <th>Rating</th>\n",
              "      <th>Members</th>\n",
              "      <th>Favorites</th>\n",
              "      <th>Watching</th>\n",
              "      <th>Completed</th>\n",
              "      <th>On-Hold</th>\n",
              "      <th>Dropped</th>\n",
              "      <th>Plan to Watch</th>\n",
              "      <th>Score-10</th>\n",
              "      <th>Score-9</th>\n",
              "      <th>Score-8</th>\n",
              "      <th>Score-7</th>\n",
              "      <th>Score-6</th>\n",
              "      <th>Score-5</th>\n",
              "      <th>Score-4</th>\n",
              "      <th>Score-3</th>\n",
              "      <th>Score-2</th>\n",
              "      <th>Score-1</th>\n",
              "      <th>Finished</th>\n",
              "      <th>Estreia</th>\n",
              "      <th>members_log</th>\n",
              "      <th>Score-10/1</th>\n",
              "      <th>MembersClass</th>\n",
              "    </tr>\n",
              "  </thead>\n",
              "  <tbody>\n",
              "    <tr>\n",
              "      <th>0</th>\n",
              "      <td>0.944142</td>\n",
              "      <td>28</td>\n",
              "      <td>5</td>\n",
              "      <td>0.008181</td>\n",
              "      <td>473</td>\n",
              "      <td>772</td>\n",
              "      <td>10</td>\n",
              "      <td>155</td>\n",
              "      <td>4</td>\n",
              "      <td>0.483459</td>\n",
              "      <td>0.336956</td>\n",
              "      <td>0.119243</td>\n",
              "      <td>0.329041</td>\n",
              "      <td>0.380552</td>\n",
              "      <td>0.152699</td>\n",
              "      <td>329800.0</td>\n",
              "      <td>0.320601</td>\n",
              "      <td>0.340261</td>\n",
              "      <td>0.286693</td>\n",
              "      <td>0.205156</td>\n",
              "      <td>0.109786</td>\n",
              "      <td>0.071328</td>\n",
              "      <td>0.039222</td>\n",
              "      <td>0.030677</td>\n",
              "      <td>0.029168</td>\n",
              "      <td>0.046787</td>\n",
              "      <td>0.788462</td>\n",
              "      <td>0.778846</td>\n",
              "      <td>6.097590</td>\n",
              "      <td>2.161501</td>\n",
              "      <td>5</td>\n",
              "    </tr>\n",
              "    <tr>\n",
              "      <th>1</th>\n",
              "      <td>0.891008</td>\n",
              "      <td>742</td>\n",
              "      <td>0</td>\n",
              "      <td>0.000000</td>\n",
              "      <td>2704</td>\n",
              "      <td>124</td>\n",
              "      <td>10</td>\n",
              "      <td>64</td>\n",
              "      <td>4</td>\n",
              "      <td>0.105469</td>\n",
              "      <td>0.006383</td>\n",
              "      <td>0.004669</td>\n",
              "      <td>0.095452</td>\n",
              "      <td>0.010297</td>\n",
              "      <td>0.004407</td>\n",
              "      <td>57964.0</td>\n",
              "      <td>0.042028</td>\n",
              "      <td>0.091919</td>\n",
              "      <td>0.107826</td>\n",
              "      <td>0.074490</td>\n",
              "      <td>0.030802</td>\n",
              "      <td>0.015030</td>\n",
              "      <td>0.007098</td>\n",
              "      <td>0.004977</td>\n",
              "      <td>0.004257</td>\n",
              "      <td>0.011200</td>\n",
              "      <td>0.807692</td>\n",
              "      <td>0.807692</td>\n",
              "      <td>5.436393</td>\n",
              "      <td>1.899104</td>\n",
              "      <td>5</td>\n",
              "    </tr>\n",
              "    <tr>\n",
              "      <th>2</th>\n",
              "      <td>0.870572</td>\n",
              "      <td>1322</td>\n",
              "      <td>5</td>\n",
              "      <td>0.008181</td>\n",
              "      <td>3322</td>\n",
              "      <td>408</td>\n",
              "      <td>6</td>\n",
              "      <td>155</td>\n",
              "      <td>3</td>\n",
              "      <td>0.215824</td>\n",
              "      <td>0.070381</td>\n",
              "      <td>0.032810</td>\n",
              "      <td>0.157378</td>\n",
              "      <td>0.135511</td>\n",
              "      <td>0.079704</td>\n",
              "      <td>146918.0</td>\n",
              "      <td>0.070268</td>\n",
              "      <td>0.141336</td>\n",
              "      <td>0.187625</td>\n",
              "      <td>0.162703</td>\n",
              "      <td>0.081595</td>\n",
              "      <td>0.046764</td>\n",
              "      <td>0.024201</td>\n",
              "      <td>0.014999</td>\n",
              "      <td>0.012416</td>\n",
              "      <td>0.015763</td>\n",
              "      <td>0.778846</td>\n",
              "      <td>0.778846</td>\n",
              "      <td>5.747344</td>\n",
              "      <td>1.974227</td>\n",
              "      <td>5</td>\n",
              "    </tr>\n",
              "    <tr>\n",
              "      <th>3</th>\n",
              "      <td>0.738420</td>\n",
              "      <td>1243</td>\n",
              "      <td>5</td>\n",
              "      <td>0.008181</td>\n",
              "      <td>2877</td>\n",
              "      <td>772</td>\n",
              "      <td>10</td>\n",
              "      <td>158</td>\n",
              "      <td>3</td>\n",
              "      <td>0.036552</td>\n",
              "      <td>0.003192</td>\n",
              "      <td>0.004846</td>\n",
              "      <td>0.021152</td>\n",
              "      <td>0.027251</td>\n",
              "      <td>0.030782</td>\n",
              "      <td>33719.0</td>\n",
              "      <td>0.003051</td>\n",
              "      <td>0.008977</td>\n",
              "      <td>0.022058</td>\n",
              "      <td>0.038237</td>\n",
              "      <td>0.030292</td>\n",
              "      <td>0.023386</td>\n",
              "      <td>0.013333</td>\n",
              "      <td>0.007963</td>\n",
              "      <td>0.006425</td>\n",
              "      <td>0.003852</td>\n",
              "      <td>0.817308</td>\n",
              "      <td>0.817308</td>\n",
              "      <td>4.976272</td>\n",
              "      <td>1.221583</td>\n",
              "      <td>5</td>\n",
              "    </tr>\n",
              "    <tr>\n",
              "      <th>4</th>\n",
              "      <td>0.698910</td>\n",
              "      <td>1946</td>\n",
              "      <td>5</td>\n",
              "      <td>0.016688</td>\n",
              "      <td>2889</td>\n",
              "      <td>849</td>\n",
              "      <td>6</td>\n",
              "      <td>152</td>\n",
              "      <td>2</td>\n",
              "      <td>0.005094</td>\n",
              "      <td>0.000098</td>\n",
              "      <td>0.000724</td>\n",
              "      <td>0.003351</td>\n",
              "      <td>0.004076</td>\n",
              "      <td>0.006342</td>\n",
              "      <td>3394.0</td>\n",
              "      <td>0.000435</td>\n",
              "      <td>0.000986</td>\n",
              "      <td>0.002703</td>\n",
              "      <td>0.005635</td>\n",
              "      <td>0.005663</td>\n",
              "      <td>0.005071</td>\n",
              "      <td>0.003253</td>\n",
              "      <td>0.001855</td>\n",
              "      <td>0.001931</td>\n",
              "      <td>0.000770</td>\n",
              "      <td>0.846154</td>\n",
              "      <td>0.836538</td>\n",
              "      <td>4.121363</td>\n",
              "      <td>1.062791</td>\n",
              "      <td>4</td>\n",
              "    </tr>\n",
              "    <tr>\n",
              "      <th>...</th>\n",
              "      <td>...</td>\n",
              "      <td>...</td>\n",
              "      <td>...</td>\n",
              "      <td>...</td>\n",
              "      <td>...</td>\n",
              "      <td>...</td>\n",
              "      <td>...</td>\n",
              "      <td>...</td>\n",
              "      <td>...</td>\n",
              "      <td>...</td>\n",
              "      <td>...</td>\n",
              "      <td>...</td>\n",
              "      <td>...</td>\n",
              "      <td>...</td>\n",
              "      <td>...</td>\n",
              "      <td>...</td>\n",
              "      <td>...</td>\n",
              "      <td>...</td>\n",
              "      <td>...</td>\n",
              "      <td>...</td>\n",
              "      <td>...</td>\n",
              "      <td>...</td>\n",
              "      <td>...</td>\n",
              "      <td>...</td>\n",
              "      <td>...</td>\n",
              "      <td>...</td>\n",
              "      <td>...</td>\n",
              "      <td>...</td>\n",
              "      <td>...</td>\n",
              "      <td>...</td>\n",
              "      <td>...</td>\n",
              "    </tr>\n",
              "    <tr>\n",
              "      <th>1859</th>\n",
              "      <td>0.726158</td>\n",
              "      <td>87</td>\n",
              "      <td>5</td>\n",
              "      <td>0.023560</td>\n",
              "      <td>1870</td>\n",
              "      <td>860</td>\n",
              "      <td>6</td>\n",
              "      <td>158</td>\n",
              "      <td>3</td>\n",
              "      <td>0.005598</td>\n",
              "      <td>0.000359</td>\n",
              "      <td>0.001011</td>\n",
              "      <td>0.003070</td>\n",
              "      <td>0.005114</td>\n",
              "      <td>0.005512</td>\n",
              "      <td>5007.0</td>\n",
              "      <td>0.000455</td>\n",
              "      <td>0.001057</td>\n",
              "      <td>0.002561</td>\n",
              "      <td>0.006129</td>\n",
              "      <td>0.005365</td>\n",
              "      <td>0.003317</td>\n",
              "      <td>0.001331</td>\n",
              "      <td>0.000792</td>\n",
              "      <td>0.000709</td>\n",
              "      <td>0.000267</td>\n",
              "      <td>0.653846</td>\n",
              "      <td>0.634615</td>\n",
              "      <td>4.162236</td>\n",
              "      <td>1.513218</td>\n",
              "      <td>4</td>\n",
              "    </tr>\n",
              "    <tr>\n",
              "      <th>1860</th>\n",
              "      <td>0.719346</td>\n",
              "      <td>2351</td>\n",
              "      <td>5</td>\n",
              "      <td>0.016688</td>\n",
              "      <td>1511</td>\n",
              "      <td>737</td>\n",
              "      <td>10</td>\n",
              "      <td>155</td>\n",
              "      <td>0</td>\n",
              "      <td>0.003997</td>\n",
              "      <td>0.000652</td>\n",
              "      <td>0.001100</td>\n",
              "      <td>0.001513</td>\n",
              "      <td>0.004060</td>\n",
              "      <td>0.003062</td>\n",
              "      <td>4806.0</td>\n",
              "      <td>0.000309</td>\n",
              "      <td>0.000572</td>\n",
              "      <td>0.001311</td>\n",
              "      <td>0.002801</td>\n",
              "      <td>0.002728</td>\n",
              "      <td>0.002235</td>\n",
              "      <td>0.000715</td>\n",
              "      <td>0.000837</td>\n",
              "      <td>0.000670</td>\n",
              "      <td>0.000356</td>\n",
              "      <td>0.644231</td>\n",
              "      <td>0.634615</td>\n",
              "      <td>4.016281</td>\n",
              "      <td>1.232410</td>\n",
              "      <td>4</td>\n",
              "    </tr>\n",
              "    <tr>\n",
              "      <th>1861</th>\n",
              "      <td>0.598093</td>\n",
              "      <td>2353</td>\n",
              "      <td>3</td>\n",
              "      <td>0.000000</td>\n",
              "      <td>1870</td>\n",
              "      <td>737</td>\n",
              "      <td>10</td>\n",
              "      <td>26</td>\n",
              "      <td>0</td>\n",
              "      <td>0.000389</td>\n",
              "      <td>0.000000</td>\n",
              "      <td>0.000045</td>\n",
              "      <td>0.000197</td>\n",
              "      <td>0.000112</td>\n",
              "      <td>0.000286</td>\n",
              "      <td>498.0</td>\n",
              "      <td>0.000027</td>\n",
              "      <td>0.000019</td>\n",
              "      <td>0.000050</td>\n",
              "      <td>0.000197</td>\n",
              "      <td>0.000425</td>\n",
              "      <td>0.000304</td>\n",
              "      <td>0.000160</td>\n",
              "      <td>0.000204</td>\n",
              "      <td>0.000118</td>\n",
              "      <td>0.000059</td>\n",
              "      <td>0.644231</td>\n",
              "      <td>0.644231</td>\n",
              "      <td>3.016616</td>\n",
              "      <td>0.823909</td>\n",
              "      <td>1</td>\n",
              "    </tr>\n",
              "    <tr>\n",
              "      <th>1862</th>\n",
              "      <td>0.604905</td>\n",
              "      <td>2353</td>\n",
              "      <td>3</td>\n",
              "      <td>0.000000</td>\n",
              "      <td>1870</td>\n",
              "      <td>737</td>\n",
              "      <td>7</td>\n",
              "      <td>275</td>\n",
              "      <td>0</td>\n",
              "      <td>0.000361</td>\n",
              "      <td>0.000000</td>\n",
              "      <td>0.000037</td>\n",
              "      <td>0.000183</td>\n",
              "      <td>0.000122</td>\n",
              "      <td>0.000280</td>\n",
              "      <td>463.0</td>\n",
              "      <td>0.000029</td>\n",
              "      <td>0.000019</td>\n",
              "      <td>0.000057</td>\n",
              "      <td>0.000194</td>\n",
              "      <td>0.000361</td>\n",
              "      <td>0.000224</td>\n",
              "      <td>0.000185</td>\n",
              "      <td>0.000090</td>\n",
              "      <td>0.000118</td>\n",
              "      <td>0.000148</td>\n",
              "      <td>0.653846</td>\n",
              "      <td>0.653846</td>\n",
              "      <td>2.985875</td>\n",
              "      <td>0.564271</td>\n",
              "      <td>1</td>\n",
              "    </tr>\n",
              "    <tr>\n",
              "      <th>1863</th>\n",
              "      <td>0.618529</td>\n",
              "      <td>3078</td>\n",
              "      <td>0</td>\n",
              "      <td>0.000000</td>\n",
              "      <td>1870</td>\n",
              "      <td>458</td>\n",
              "      <td>7</td>\n",
              "      <td>289</td>\n",
              "      <td>0</td>\n",
              "      <td>0.001322</td>\n",
              "      <td>0.000027</td>\n",
              "      <td>0.000046</td>\n",
              "      <td>0.001193</td>\n",
              "      <td>0.000096</td>\n",
              "      <td>0.000303</td>\n",
              "      <td>740.0</td>\n",
              "      <td>0.000101</td>\n",
              "      <td>0.000187</td>\n",
              "      <td>0.000590</td>\n",
              "      <td>0.001698</td>\n",
              "      <td>0.002346</td>\n",
              "      <td>0.002203</td>\n",
              "      <td>0.001257</td>\n",
              "      <td>0.001290</td>\n",
              "      <td>0.000985</td>\n",
              "      <td>0.000830</td>\n",
              "      <td>0.451923</td>\n",
              "      <td>0.451923</td>\n",
              "      <td>3.538448</td>\n",
              "      <td>0.400925</td>\n",
              "      <td>0</td>\n",
              "    </tr>\n",
              "  </tbody>\n",
              "</table>\n",
              "<p>1864 rows × 31 columns</p>\n",
              "</div>"
            ],
            "text/plain": [
              "         Score  Genders  Type  ...  members_log  Score-10/1  MembersClass\n",
              "0     0.944142       28     5  ...     6.097590    2.161501             5\n",
              "1     0.891008      742     0  ...     5.436393    1.899104             5\n",
              "2     0.870572     1322     5  ...     5.747344    1.974227             5\n",
              "3     0.738420     1243     5  ...     4.976272    1.221583             5\n",
              "4     0.698910     1946     5  ...     4.121363    1.062791             4\n",
              "...        ...      ...   ...  ...          ...         ...           ...\n",
              "1859  0.726158       87     5  ...     4.162236    1.513218             4\n",
              "1860  0.719346     2351     5  ...     4.016281    1.232410             4\n",
              "1861  0.598093     2353     3  ...     3.016616    0.823909             1\n",
              "1862  0.604905     2353     3  ...     2.985875    0.564271             1\n",
              "1863  0.618529     3078     0  ...     3.538448    0.400925             0\n",
              "\n",
              "[1864 rows x 31 columns]"
            ]
          },
          "metadata": {
            "tags": []
          },
          "execution_count": 26
        }
      ]
    },
    {
      "cell_type": "markdown",
      "metadata": {
        "id": "2KHVWIB6eROa"
      },
      "source": [
        "# **Métricas**"
      ]
    },
    {
      "cell_type": "code",
      "metadata": {
        "id": "BBUs56CENHiG"
      },
      "source": [
        "def eval_metrics(actual, pred):\n",
        "    mse = np.sqrt(mean_squared_error(actual, pred))\n",
        "    mae = mean_absolute_error(actual, pred)\n",
        "    r2 = r2_score(actual, pred)\n",
        "    return mse, mae, r2"
      ],
      "execution_count": null,
      "outputs": []
    },
    {
      "cell_type": "markdown",
      "metadata": {
        "id": "L3mgMFmCchIK"
      },
      "source": [
        "#**KNN**"
      ]
    },
    {
      "cell_type": "code",
      "metadata": {
        "colab": {
          "base_uri": "https://localhost:8080/"
        },
        "id": "VPxmGz9UVnP_",
        "outputId": "0b82ff87-c1a0-4977-91cb-d6beb9bac437"
      },
      "source": [
        "def knnreg(trial):\n",
        "\n",
        "  with mlflow.start_run():\n",
        "\n",
        "    n_neighbors = trial.suggest_int('n_neighbors', 3,100)\n",
        "    p = trial.suggest_int('p', 1,2)\n",
        "    metric = trial.suggest_categorical('metric', ['euclidean', 'l2','manhattan','cityblock','l1', 'chebyshev','minkowski'])\n",
        "\n",
        "    neigh = KNeighborsRegressor(n_neighbors = n_neighbors,algorithm=algorithm,p=p,metric=metric)\n",
        "    neigh.fit(X_train, y_train)\n",
        "\n",
        "    y_pred_val = neigh.predict(X_val)\n",
        "\n",
        "    (mse, mae, r2) = eval_metrics(y_val, y_pred_val)\n",
        "    \n",
        "    mlflow.log_param(\"n_neighbors\", n_neighbors)\n",
        "    mlflow.log_param(\"p\", p)\n",
        "    mlflow.log_param(\"metric\", metric)\n",
        "\n",
        "    mlflow.log_metric(\"mse\", mse)\n",
        "    mlflow.log_metric(\"mae\", mae)\n",
        "    mlflow.log_metric(\"r2\", r2)\n",
        "    #mlflow.log_metric(\"nomemetrica\", nomevariavel)\n",
        "    #mlflow.log_metric(\"nomemetrica\", nomevariavel)\n",
        "\n",
        "    return mean_squared_error(y_val, y_pred_val)\n",
        "\n",
        "\n",
        "\n",
        "\n",
        "study_knn = optuna.create_study(direction='minimize')\n",
        "study_knn.optimize(knnreg,n_trials=200)"
      ],
      "execution_count": null,
      "outputs": [
        {
          "output_type": "stream",
          "text": [
            "\u001b[32m[I 2021-08-15 01:18:21,065]\u001b[0m A new study created in memory with name: no-name-40e4bd70-ef4c-4865-9e3f-7f5006b0c9a0\u001b[0m\n",
            "\u001b[32m[I 2021-08-15 01:18:21,688]\u001b[0m Trial 0 finished with value: 0.0058040720070114075 and parameters: {'n_neighbors': 18, 'weights': 'distance', 'algorithm': 'kd_tree', 'p': 1, 'leaf_size': 126, 'metric': 'manhattan', 'n_jobs': 3}. Best is trial 0 with value: 0.0058040720070114075.\u001b[0m\n",
            "\u001b[32m[I 2021-08-15 01:18:22,529]\u001b[0m Trial 1 finished with value: 0.006234321693199864 and parameters: {'n_neighbors': 17, 'weights': 'uniform', 'algorithm': 'ball_tree', 'p': 2, 'leaf_size': 154, 'metric': 'cityblock', 'n_jobs': 6}. Best is trial 0 with value: 0.0058040720070114075.\u001b[0m\n",
            "\u001b[32m[I 2021-08-15 01:18:23,562]\u001b[0m Trial 2 finished with value: 0.008989211336263576 and parameters: {'n_neighbors': 15, 'weights': 'uniform', 'algorithm': 'brute', 'p': 2, 'leaf_size': 120, 'metric': 'chebyshev', 'n_jobs': 9}. Best is trial 0 with value: 0.0058040720070114075.\u001b[0m\n",
            "\u001b[32m[I 2021-08-15 01:18:24,110]\u001b[0m Trial 3 finished with value: 0.006234321693199864 and parameters: {'n_neighbors': 17, 'weights': 'uniform', 'algorithm': 'kd_tree', 'p': 1, 'leaf_size': 197, 'metric': 'manhattan', 'n_jobs': 3}. Best is trial 0 with value: 0.0058040720070114075.\u001b[0m\n",
            "\u001b[32m[I 2021-08-15 01:18:24,920]\u001b[0m Trial 4 finished with value: 0.0057833240689306 and parameters: {'n_neighbors': 8, 'weights': 'distance', 'algorithm': 'brute', 'p': 2, 'leaf_size': 55, 'metric': 'cityblock', 'n_jobs': 8}. Best is trial 4 with value: 0.0057833240689306.\u001b[0m\n"
          ],
          "name": "stderr"
        }
      ]
    },
    {
      "cell_type": "code",
      "metadata": {
        "colab": {
          "base_uri": "https://localhost:8080/"
        },
        "id": "y_Vv4ZE3fcVK",
        "outputId": "d03a7469-e8b2-4946-d385-6bedc6841a16"
      },
      "source": [
        "trial = study_knn.best_trial\n",
        "print(f'MSE: {trial.value}')\n",
        "print(f'Best hyperparameters: {trial.params}')\n",
        "print(trial)"
      ],
      "execution_count": null,
      "outputs": [
        {
          "output_type": "stream",
          "text": [
            "MSE: 0.0057833240689306\n",
            "Best hyperparameters: {'n_neighbors': 8, 'weights': 'distance', 'algorithm': 'brute', 'p': 2, 'leaf_size': 55, 'metric': 'cityblock', 'n_jobs': 8}\n",
            "FrozenTrial(number=4, values=[0.0057833240689306], datetime_start=datetime.datetime(2021, 8, 15, 1, 18, 24, 114960), datetime_complete=datetime.datetime(2021, 8, 15, 1, 18, 24, 919580), params={'n_neighbors': 8, 'weights': 'distance', 'algorithm': 'brute', 'p': 2, 'leaf_size': 55, 'metric': 'cityblock', 'n_jobs': 8}, distributions={'n_neighbors': IntUniformDistribution(high=20, low=2, step=1), 'weights': CategoricalDistribution(choices=('uniform', 'distance')), 'algorithm': CategoricalDistribution(choices=('ball_tree', 'kd_tree', 'brute')), 'p': IntUniformDistribution(high=2, low=1, step=1), 'leaf_size': IntUniformDistribution(high=200, low=10, step=1), 'metric': CategoricalDistribution(choices=('euclidean', 'l2', 'manhattan', 'cityblock', 'l1', 'chebyshev', 'minkowski')), 'n_jobs': IntUniformDistribution(high=10, low=1, step=1)}, user_attrs={}, system_attrs={}, intermediate_values={}, trial_id=4, state=TrialState.COMPLETE, value=None)\n"
          ],
          "name": "stdout"
        }
      ]
    },
    {
      "cell_type": "code",
      "metadata": {
        "colab": {
          "base_uri": "https://localhost:8080/",
          "height": 542
        },
        "id": "u0DyET1aemRA",
        "outputId": "86331b9f-0944-468a-b6a5-73715acd6bcb"
      },
      "source": [
        "optuna.visualization.plot_optimization_history(study_knn)"
      ],
      "execution_count": null,
      "outputs": [
        {
          "output_type": "display_data",
          "data": {
            "text/html": [
              "<html>\n",
              "<head><meta charset=\"utf-8\" /></head>\n",
              "<body>\n",
              "    <div>\n",
              "            <script src=\"https://cdnjs.cloudflare.com/ajax/libs/mathjax/2.7.5/MathJax.js?config=TeX-AMS-MML_SVG\"></script><script type=\"text/javascript\">if (window.MathJax) {MathJax.Hub.Config({SVG: {font: \"STIX-Web\"}});}</script>\n",
              "                <script type=\"text/javascript\">window.PlotlyConfig = {MathJaxConfig: 'local'};</script>\n",
              "        <script src=\"https://cdn.plot.ly/plotly-latest.min.js\"></script>    \n",
              "            <div id=\"8ba42a01-3773-4f6a-b075-1f81b36d5b10\" class=\"plotly-graph-div\" style=\"height:525px; width:100%;\"></div>\n",
              "            <script type=\"text/javascript\">\n",
              "                \n",
              "                    window.PLOTLYENV=window.PLOTLYENV || {};\n",
              "                    \n",
              "                if (document.getElementById(\"8ba42a01-3773-4f6a-b075-1f81b36d5b10\")) {\n",
              "                    Plotly.newPlot(\n",
              "                        '8ba42a01-3773-4f6a-b075-1f81b36d5b10',\n",
              "                        [{\"mode\": \"markers\", \"name\": \"Objective Value\", \"type\": \"scatter\", \"x\": [0, 1, 2, 3, 4], \"y\": [0.0058040720070114075, 0.006234321693199864, 0.008989211336263576, 0.006234321693199864, 0.0057833240689306]}, {\"name\": \"Best Value\", \"type\": \"scatter\", \"x\": [0, 1, 2, 3, 4], \"y\": [0.0058040720070114075, 0.0058040720070114075, 0.0058040720070114075, 0.0058040720070114075, 0.0057833240689306]}],\n",
              "                        {\"template\": {\"data\": {\"bar\": [{\"error_x\": {\"color\": \"#2a3f5f\"}, \"error_y\": {\"color\": \"#2a3f5f\"}, \"marker\": {\"line\": {\"color\": \"#E5ECF6\", \"width\": 0.5}}, \"type\": \"bar\"}], \"barpolar\": [{\"marker\": {\"line\": {\"color\": \"#E5ECF6\", \"width\": 0.5}}, \"type\": \"barpolar\"}], \"carpet\": [{\"aaxis\": {\"endlinecolor\": \"#2a3f5f\", \"gridcolor\": \"white\", \"linecolor\": \"white\", \"minorgridcolor\": \"white\", \"startlinecolor\": \"#2a3f5f\"}, \"baxis\": {\"endlinecolor\": \"#2a3f5f\", \"gridcolor\": \"white\", \"linecolor\": \"white\", \"minorgridcolor\": \"white\", \"startlinecolor\": \"#2a3f5f\"}, \"type\": \"carpet\"}], \"choropleth\": [{\"colorbar\": {\"outlinewidth\": 0, \"ticks\": \"\"}, \"type\": \"choropleth\"}], \"contour\": [{\"colorbar\": {\"outlinewidth\": 0, \"ticks\": \"\"}, \"colorscale\": [[0.0, \"#0d0887\"], [0.1111111111111111, \"#46039f\"], [0.2222222222222222, \"#7201a8\"], [0.3333333333333333, \"#9c179e\"], [0.4444444444444444, \"#bd3786\"], [0.5555555555555556, \"#d8576b\"], [0.6666666666666666, \"#ed7953\"], [0.7777777777777778, \"#fb9f3a\"], [0.8888888888888888, \"#fdca26\"], [1.0, \"#f0f921\"]], \"type\": \"contour\"}], \"contourcarpet\": [{\"colorbar\": {\"outlinewidth\": 0, \"ticks\": \"\"}, \"type\": \"contourcarpet\"}], \"heatmap\": [{\"colorbar\": {\"outlinewidth\": 0, \"ticks\": \"\"}, \"colorscale\": [[0.0, \"#0d0887\"], [0.1111111111111111, \"#46039f\"], [0.2222222222222222, \"#7201a8\"], [0.3333333333333333, \"#9c179e\"], [0.4444444444444444, \"#bd3786\"], [0.5555555555555556, \"#d8576b\"], [0.6666666666666666, \"#ed7953\"], [0.7777777777777778, \"#fb9f3a\"], [0.8888888888888888, \"#fdca26\"], [1.0, \"#f0f921\"]], \"type\": \"heatmap\"}], \"heatmapgl\": [{\"colorbar\": {\"outlinewidth\": 0, \"ticks\": \"\"}, \"colorscale\": [[0.0, \"#0d0887\"], [0.1111111111111111, \"#46039f\"], [0.2222222222222222, \"#7201a8\"], [0.3333333333333333, \"#9c179e\"], [0.4444444444444444, \"#bd3786\"], [0.5555555555555556, \"#d8576b\"], [0.6666666666666666, \"#ed7953\"], [0.7777777777777778, \"#fb9f3a\"], [0.8888888888888888, \"#fdca26\"], [1.0, \"#f0f921\"]], \"type\": \"heatmapgl\"}], \"histogram\": [{\"marker\": {\"colorbar\": {\"outlinewidth\": 0, \"ticks\": \"\"}}, \"type\": \"histogram\"}], \"histogram2d\": [{\"colorbar\": {\"outlinewidth\": 0, \"ticks\": \"\"}, \"colorscale\": [[0.0, \"#0d0887\"], [0.1111111111111111, \"#46039f\"], [0.2222222222222222, \"#7201a8\"], [0.3333333333333333, \"#9c179e\"], [0.4444444444444444, \"#bd3786\"], [0.5555555555555556, \"#d8576b\"], [0.6666666666666666, \"#ed7953\"], [0.7777777777777778, \"#fb9f3a\"], [0.8888888888888888, \"#fdca26\"], [1.0, \"#f0f921\"]], \"type\": \"histogram2d\"}], \"histogram2dcontour\": [{\"colorbar\": {\"outlinewidth\": 0, \"ticks\": \"\"}, \"colorscale\": [[0.0, \"#0d0887\"], [0.1111111111111111, \"#46039f\"], [0.2222222222222222, \"#7201a8\"], [0.3333333333333333, \"#9c179e\"], [0.4444444444444444, \"#bd3786\"], [0.5555555555555556, \"#d8576b\"], [0.6666666666666666, \"#ed7953\"], [0.7777777777777778, \"#fb9f3a\"], [0.8888888888888888, \"#fdca26\"], [1.0, \"#f0f921\"]], \"type\": \"histogram2dcontour\"}], \"mesh3d\": [{\"colorbar\": {\"outlinewidth\": 0, \"ticks\": \"\"}, \"type\": \"mesh3d\"}], \"parcoords\": [{\"line\": {\"colorbar\": {\"outlinewidth\": 0, \"ticks\": \"\"}}, \"type\": \"parcoords\"}], \"pie\": [{\"automargin\": true, \"type\": \"pie\"}], \"scatter\": [{\"marker\": {\"colorbar\": {\"outlinewidth\": 0, \"ticks\": \"\"}}, \"type\": \"scatter\"}], \"scatter3d\": [{\"line\": {\"colorbar\": {\"outlinewidth\": 0, \"ticks\": \"\"}}, \"marker\": {\"colorbar\": {\"outlinewidth\": 0, \"ticks\": \"\"}}, \"type\": \"scatter3d\"}], \"scattercarpet\": [{\"marker\": {\"colorbar\": {\"outlinewidth\": 0, \"ticks\": \"\"}}, \"type\": \"scattercarpet\"}], \"scattergeo\": [{\"marker\": {\"colorbar\": {\"outlinewidth\": 0, \"ticks\": \"\"}}, \"type\": \"scattergeo\"}], \"scattergl\": [{\"marker\": {\"colorbar\": {\"outlinewidth\": 0, \"ticks\": \"\"}}, \"type\": \"scattergl\"}], \"scattermapbox\": [{\"marker\": {\"colorbar\": {\"outlinewidth\": 0, \"ticks\": \"\"}}, \"type\": \"scattermapbox\"}], \"scatterpolar\": [{\"marker\": {\"colorbar\": {\"outlinewidth\": 0, \"ticks\": \"\"}}, \"type\": \"scatterpolar\"}], \"scatterpolargl\": [{\"marker\": {\"colorbar\": {\"outlinewidth\": 0, \"ticks\": \"\"}}, \"type\": \"scatterpolargl\"}], \"scatterternary\": [{\"marker\": {\"colorbar\": {\"outlinewidth\": 0, \"ticks\": \"\"}}, \"type\": \"scatterternary\"}], \"surface\": [{\"colorbar\": {\"outlinewidth\": 0, \"ticks\": \"\"}, \"colorscale\": [[0.0, \"#0d0887\"], [0.1111111111111111, \"#46039f\"], [0.2222222222222222, \"#7201a8\"], [0.3333333333333333, \"#9c179e\"], [0.4444444444444444, \"#bd3786\"], [0.5555555555555556, \"#d8576b\"], [0.6666666666666666, \"#ed7953\"], [0.7777777777777778, \"#fb9f3a\"], [0.8888888888888888, \"#fdca26\"], [1.0, \"#f0f921\"]], \"type\": \"surface\"}], \"table\": [{\"cells\": {\"fill\": {\"color\": \"#EBF0F8\"}, \"line\": {\"color\": \"white\"}}, \"header\": {\"fill\": {\"color\": \"#C8D4E3\"}, \"line\": {\"color\": \"white\"}}, \"type\": \"table\"}]}, \"layout\": {\"annotationdefaults\": {\"arrowcolor\": \"#2a3f5f\", \"arrowhead\": 0, \"arrowwidth\": 1}, \"coloraxis\": {\"colorbar\": {\"outlinewidth\": 0, \"ticks\": \"\"}}, \"colorscale\": {\"diverging\": [[0, \"#8e0152\"], [0.1, \"#c51b7d\"], [0.2, \"#de77ae\"], [0.3, \"#f1b6da\"], [0.4, \"#fde0ef\"], [0.5, \"#f7f7f7\"], [0.6, \"#e6f5d0\"], [0.7, \"#b8e186\"], [0.8, \"#7fbc41\"], [0.9, \"#4d9221\"], [1, \"#276419\"]], \"sequential\": [[0.0, \"#0d0887\"], [0.1111111111111111, \"#46039f\"], [0.2222222222222222, \"#7201a8\"], [0.3333333333333333, \"#9c179e\"], [0.4444444444444444, \"#bd3786\"], [0.5555555555555556, \"#d8576b\"], [0.6666666666666666, \"#ed7953\"], [0.7777777777777778, \"#fb9f3a\"], [0.8888888888888888, \"#fdca26\"], [1.0, \"#f0f921\"]], \"sequentialminus\": [[0.0, \"#0d0887\"], [0.1111111111111111, \"#46039f\"], [0.2222222222222222, \"#7201a8\"], [0.3333333333333333, \"#9c179e\"], [0.4444444444444444, \"#bd3786\"], [0.5555555555555556, \"#d8576b\"], [0.6666666666666666, \"#ed7953\"], [0.7777777777777778, \"#fb9f3a\"], [0.8888888888888888, \"#fdca26\"], [1.0, \"#f0f921\"]]}, \"colorway\": [\"#636efa\", \"#EF553B\", \"#00cc96\", \"#ab63fa\", \"#FFA15A\", \"#19d3f3\", \"#FF6692\", \"#B6E880\", \"#FF97FF\", \"#FECB52\"], \"font\": {\"color\": \"#2a3f5f\"}, \"geo\": {\"bgcolor\": \"white\", \"lakecolor\": \"white\", \"landcolor\": \"#E5ECF6\", \"showlakes\": true, \"showland\": true, \"subunitcolor\": \"white\"}, \"hoverlabel\": {\"align\": \"left\"}, \"hovermode\": \"closest\", \"mapbox\": {\"style\": \"light\"}, \"paper_bgcolor\": \"white\", \"plot_bgcolor\": \"#E5ECF6\", \"polar\": {\"angularaxis\": {\"gridcolor\": \"white\", \"linecolor\": \"white\", \"ticks\": \"\"}, \"bgcolor\": \"#E5ECF6\", \"radialaxis\": {\"gridcolor\": \"white\", \"linecolor\": \"white\", \"ticks\": \"\"}}, \"scene\": {\"xaxis\": {\"backgroundcolor\": \"#E5ECF6\", \"gridcolor\": \"white\", \"gridwidth\": 2, \"linecolor\": \"white\", \"showbackground\": true, \"ticks\": \"\", \"zerolinecolor\": \"white\"}, \"yaxis\": {\"backgroundcolor\": \"#E5ECF6\", \"gridcolor\": \"white\", \"gridwidth\": 2, \"linecolor\": \"white\", \"showbackground\": true, \"ticks\": \"\", \"zerolinecolor\": \"white\"}, \"zaxis\": {\"backgroundcolor\": \"#E5ECF6\", \"gridcolor\": \"white\", \"gridwidth\": 2, \"linecolor\": \"white\", \"showbackground\": true, \"ticks\": \"\", \"zerolinecolor\": \"white\"}}, \"shapedefaults\": {\"line\": {\"color\": \"#2a3f5f\"}}, \"ternary\": {\"aaxis\": {\"gridcolor\": \"white\", \"linecolor\": \"white\", \"ticks\": \"\"}, \"baxis\": {\"gridcolor\": \"white\", \"linecolor\": \"white\", \"ticks\": \"\"}, \"bgcolor\": \"#E5ECF6\", \"caxis\": {\"gridcolor\": \"white\", \"linecolor\": \"white\", \"ticks\": \"\"}}, \"title\": {\"x\": 0.05}, \"xaxis\": {\"automargin\": true, \"gridcolor\": \"white\", \"linecolor\": \"white\", \"ticks\": \"\", \"title\": {\"standoff\": 15}, \"zerolinecolor\": \"white\", \"zerolinewidth\": 2}, \"yaxis\": {\"automargin\": true, \"gridcolor\": \"white\", \"linecolor\": \"white\", \"ticks\": \"\", \"title\": {\"standoff\": 15}, \"zerolinecolor\": \"white\", \"zerolinewidth\": 2}}}, \"title\": {\"text\": \"Optimization History Plot\"}, \"xaxis\": {\"title\": {\"text\": \"#Trials\"}}, \"yaxis\": {\"title\": {\"text\": \"Objective Value\"}}},\n",
              "                        {\"responsive\": true}\n",
              "                    ).then(function(){\n",
              "                            \n",
              "var gd = document.getElementById('8ba42a01-3773-4f6a-b075-1f81b36d5b10');\n",
              "var x = new MutationObserver(function (mutations, observer) {{\n",
              "        var display = window.getComputedStyle(gd).display;\n",
              "        if (!display || display === 'none') {{\n",
              "            console.log([gd, 'removed!']);\n",
              "            Plotly.purge(gd);\n",
              "            observer.disconnect();\n",
              "        }}\n",
              "}});\n",
              "\n",
              "// Listen for the removal of the full notebook cells\n",
              "var notebookContainer = gd.closest('#notebook-container');\n",
              "if (notebookContainer) {{\n",
              "    x.observe(notebookContainer, {childList: true});\n",
              "}}\n",
              "\n",
              "// Listen for the clearing of the current output cell\n",
              "var outputEl = gd.closest('.output');\n",
              "if (outputEl) {{\n",
              "    x.observe(outputEl, {childList: true});\n",
              "}}\n",
              "\n",
              "                        })\n",
              "                };\n",
              "                \n",
              "            </script>\n",
              "        </div>\n",
              "</body>\n",
              "</html>"
            ]
          },
          "metadata": {
            "tags": []
          }
        }
      ]
    },
    {
      "cell_type": "code",
      "metadata": {
        "colab": {
          "base_uri": "https://localhost:8080/",
          "height": 562
        },
        "id": "SdckVxWfkIyz",
        "outputId": "a06b17d4-c0ad-4a7a-8174-3fa9c649d14c"
      },
      "source": [
        "optuna.visualization.plot_slice(study_knn)"
      ],
      "execution_count": null,
      "outputs": [
        {
          "output_type": "display_data",
          "data": {
            "text/html": [
              "<html>\n",
              "<head><meta charset=\"utf-8\" /></head>\n",
              "<body>\n",
              "    <div>\n",
              "            <script src=\"https://cdnjs.cloudflare.com/ajax/libs/mathjax/2.7.5/MathJax.js?config=TeX-AMS-MML_SVG\"></script><script type=\"text/javascript\">if (window.MathJax) {MathJax.Hub.Config({SVG: {font: \"STIX-Web\"}});}</script>\n",
              "                <script type=\"text/javascript\">window.PlotlyConfig = {MathJaxConfig: 'local'};</script>\n",
              "        <script src=\"https://cdn.plot.ly/plotly-latest.min.js\"></script>    \n",
              "            <div id=\"2c0ff68a-16a2-4702-bacc-a5763ecdc888\" class=\"plotly-graph-div\" style=\"height:525px; width:2100px;\"></div>\n",
              "            <script type=\"text/javascript\">\n",
              "                \n",
              "                    window.PLOTLYENV=window.PLOTLYENV || {};\n",
              "                    \n",
              "                if (document.getElementById(\"2c0ff68a-16a2-4702-bacc-a5763ecdc888\")) {\n",
              "                    Plotly.newPlot(\n",
              "                        '2c0ff68a-16a2-4702-bacc-a5763ecdc888',\n",
              "                        [{\"marker\": {\"color\": [0, 1, 2, 3, 4], \"colorbar\": {\"title\": {\"text\": \"#Trials\"}, \"x\": 1.0, \"xpad\": 40}, \"colorscale\": [[0.0, \"rgb(247,251,255)\"], [0.125, \"rgb(222,235,247)\"], [0.25, \"rgb(198,219,239)\"], [0.375, \"rgb(158,202,225)\"], [0.5, \"rgb(107,174,214)\"], [0.625, \"rgb(66,146,198)\"], [0.75, \"rgb(33,113,181)\"], [0.875, \"rgb(8,81,156)\"], [1.0, \"rgb(8,48,107)\"]], \"line\": {\"color\": \"Grey\", \"width\": 0.5}, \"showscale\": true}, \"mode\": \"markers\", \"showlegend\": false, \"type\": \"scatter\", \"x\": [\"kd_tree\", \"ball_tree\", \"brute\", \"kd_tree\", \"brute\"], \"xaxis\": \"x\", \"y\": [0.0058040720070114075, 0.006234321693199864, 0.008989211336263576, 0.006234321693199864, 0.0057833240689306], \"yaxis\": \"y\"}, {\"marker\": {\"color\": [0, 1, 2, 3, 4], \"colorbar\": {\"title\": {\"text\": \"#Trials\"}, \"x\": 1.0, \"xpad\": 40}, \"colorscale\": [[0.0, \"rgb(247,251,255)\"], [0.125, \"rgb(222,235,247)\"], [0.25, \"rgb(198,219,239)\"], [0.375, \"rgb(158,202,225)\"], [0.5, \"rgb(107,174,214)\"], [0.625, \"rgb(66,146,198)\"], [0.75, \"rgb(33,113,181)\"], [0.875, \"rgb(8,81,156)\"], [1.0, \"rgb(8,48,107)\"]], \"line\": {\"color\": \"Grey\", \"width\": 0.5}, \"showscale\": false}, \"mode\": \"markers\", \"showlegend\": false, \"type\": \"scatter\", \"x\": [126, 154, 120, 197, 55], \"xaxis\": \"x2\", \"y\": [0.0058040720070114075, 0.006234321693199864, 0.008989211336263576, 0.006234321693199864, 0.0057833240689306], \"yaxis\": \"y2\"}, {\"marker\": {\"color\": [0, 1, 2, 3, 4], \"colorbar\": {\"title\": {\"text\": \"#Trials\"}, \"x\": 1.0, \"xpad\": 40}, \"colorscale\": [[0.0, \"rgb(247,251,255)\"], [0.125, \"rgb(222,235,247)\"], [0.25, \"rgb(198,219,239)\"], [0.375, \"rgb(158,202,225)\"], [0.5, \"rgb(107,174,214)\"], [0.625, \"rgb(66,146,198)\"], [0.75, \"rgb(33,113,181)\"], [0.875, \"rgb(8,81,156)\"], [1.0, \"rgb(8,48,107)\"]], \"line\": {\"color\": \"Grey\", \"width\": 0.5}, \"showscale\": false}, \"mode\": \"markers\", \"showlegend\": false, \"type\": \"scatter\", \"x\": [\"manhattan\", \"cityblock\", \"chebyshev\", \"manhattan\", \"cityblock\"], \"xaxis\": \"x3\", \"y\": [0.0058040720070114075, 0.006234321693199864, 0.008989211336263576, 0.006234321693199864, 0.0057833240689306], \"yaxis\": \"y3\"}, {\"marker\": {\"color\": [0, 1, 2, 3, 4], \"colorbar\": {\"title\": {\"text\": \"#Trials\"}, \"x\": 1.0, \"xpad\": 40}, \"colorscale\": [[0.0, \"rgb(247,251,255)\"], [0.125, \"rgb(222,235,247)\"], [0.25, \"rgb(198,219,239)\"], [0.375, \"rgb(158,202,225)\"], [0.5, \"rgb(107,174,214)\"], [0.625, \"rgb(66,146,198)\"], [0.75, \"rgb(33,113,181)\"], [0.875, \"rgb(8,81,156)\"], [1.0, \"rgb(8,48,107)\"]], \"line\": {\"color\": \"Grey\", \"width\": 0.5}, \"showscale\": false}, \"mode\": \"markers\", \"showlegend\": false, \"type\": \"scatter\", \"x\": [3, 6, 9, 3, 8], \"xaxis\": \"x4\", \"y\": [0.0058040720070114075, 0.006234321693199864, 0.008989211336263576, 0.006234321693199864, 0.0057833240689306], \"yaxis\": \"y4\"}, {\"marker\": {\"color\": [0, 1, 2, 3, 4], \"colorbar\": {\"title\": {\"text\": \"#Trials\"}, \"x\": 1.0, \"xpad\": 40}, \"colorscale\": [[0.0, \"rgb(247,251,255)\"], [0.125, \"rgb(222,235,247)\"], [0.25, \"rgb(198,219,239)\"], [0.375, \"rgb(158,202,225)\"], [0.5, \"rgb(107,174,214)\"], [0.625, \"rgb(66,146,198)\"], [0.75, \"rgb(33,113,181)\"], [0.875, \"rgb(8,81,156)\"], [1.0, \"rgb(8,48,107)\"]], \"line\": {\"color\": \"Grey\", \"width\": 0.5}, \"showscale\": false}, \"mode\": \"markers\", \"showlegend\": false, \"type\": \"scatter\", \"x\": [18, 17, 15, 17, 8], \"xaxis\": \"x5\", \"y\": [0.0058040720070114075, 0.006234321693199864, 0.008989211336263576, 0.006234321693199864, 0.0057833240689306], \"yaxis\": \"y5\"}, {\"marker\": {\"color\": [0, 1, 2, 3, 4], \"colorbar\": {\"title\": {\"text\": \"#Trials\"}, \"x\": 1.0, \"xpad\": 40}, \"colorscale\": [[0.0, \"rgb(247,251,255)\"], [0.125, \"rgb(222,235,247)\"], [0.25, \"rgb(198,219,239)\"], [0.375, \"rgb(158,202,225)\"], [0.5, \"rgb(107,174,214)\"], [0.625, \"rgb(66,146,198)\"], [0.75, \"rgb(33,113,181)\"], [0.875, \"rgb(8,81,156)\"], [1.0, \"rgb(8,48,107)\"]], \"line\": {\"color\": \"Grey\", \"width\": 0.5}, \"showscale\": false}, \"mode\": \"markers\", \"showlegend\": false, \"type\": \"scatter\", \"x\": [1, 2, 2, 1, 2], \"xaxis\": \"x6\", \"y\": [0.0058040720070114075, 0.006234321693199864, 0.008989211336263576, 0.006234321693199864, 0.0057833240689306], \"yaxis\": \"y6\"}, {\"marker\": {\"color\": [0, 1, 2, 3, 4], \"colorbar\": {\"title\": {\"text\": \"#Trials\"}, \"x\": 1.0, \"xpad\": 40}, \"colorscale\": [[0.0, \"rgb(247,251,255)\"], [0.125, \"rgb(222,235,247)\"], [0.25, \"rgb(198,219,239)\"], [0.375, \"rgb(158,202,225)\"], [0.5, \"rgb(107,174,214)\"], [0.625, \"rgb(66,146,198)\"], [0.75, \"rgb(33,113,181)\"], [0.875, \"rgb(8,81,156)\"], [1.0, \"rgb(8,48,107)\"]], \"line\": {\"color\": \"Grey\", \"width\": 0.5}, \"showscale\": false}, \"mode\": \"markers\", \"showlegend\": false, \"type\": \"scatter\", \"x\": [\"distance\", \"uniform\", \"uniform\", \"uniform\", \"distance\"], \"xaxis\": \"x7\", \"y\": [0.0058040720070114075, 0.006234321693199864, 0.008989211336263576, 0.006234321693199864, 0.0057833240689306], \"yaxis\": \"y7\"}],\n",
              "                        {\"template\": {\"data\": {\"bar\": [{\"error_x\": {\"color\": \"#2a3f5f\"}, \"error_y\": {\"color\": \"#2a3f5f\"}, \"marker\": {\"line\": {\"color\": \"#E5ECF6\", \"width\": 0.5}}, \"type\": \"bar\"}], \"barpolar\": [{\"marker\": {\"line\": {\"color\": \"#E5ECF6\", \"width\": 0.5}}, \"type\": \"barpolar\"}], \"carpet\": [{\"aaxis\": {\"endlinecolor\": \"#2a3f5f\", \"gridcolor\": \"white\", \"linecolor\": \"white\", \"minorgridcolor\": \"white\", \"startlinecolor\": \"#2a3f5f\"}, \"baxis\": {\"endlinecolor\": \"#2a3f5f\", \"gridcolor\": \"white\", \"linecolor\": \"white\", \"minorgridcolor\": \"white\", \"startlinecolor\": \"#2a3f5f\"}, \"type\": \"carpet\"}], \"choropleth\": [{\"colorbar\": {\"outlinewidth\": 0, \"ticks\": \"\"}, \"type\": \"choropleth\"}], \"contour\": [{\"colorbar\": {\"outlinewidth\": 0, \"ticks\": \"\"}, \"colorscale\": [[0.0, \"#0d0887\"], [0.1111111111111111, \"#46039f\"], [0.2222222222222222, \"#7201a8\"], [0.3333333333333333, \"#9c179e\"], [0.4444444444444444, \"#bd3786\"], [0.5555555555555556, \"#d8576b\"], [0.6666666666666666, \"#ed7953\"], [0.7777777777777778, \"#fb9f3a\"], [0.8888888888888888, \"#fdca26\"], [1.0, \"#f0f921\"]], \"type\": \"contour\"}], \"contourcarpet\": [{\"colorbar\": {\"outlinewidth\": 0, \"ticks\": \"\"}, \"type\": \"contourcarpet\"}], \"heatmap\": [{\"colorbar\": {\"outlinewidth\": 0, \"ticks\": \"\"}, \"colorscale\": [[0.0, \"#0d0887\"], [0.1111111111111111, \"#46039f\"], [0.2222222222222222, \"#7201a8\"], [0.3333333333333333, \"#9c179e\"], [0.4444444444444444, \"#bd3786\"], [0.5555555555555556, \"#d8576b\"], [0.6666666666666666, \"#ed7953\"], [0.7777777777777778, \"#fb9f3a\"], [0.8888888888888888, \"#fdca26\"], [1.0, \"#f0f921\"]], \"type\": \"heatmap\"}], \"heatmapgl\": [{\"colorbar\": {\"outlinewidth\": 0, \"ticks\": \"\"}, \"colorscale\": [[0.0, \"#0d0887\"], [0.1111111111111111, \"#46039f\"], [0.2222222222222222, \"#7201a8\"], [0.3333333333333333, \"#9c179e\"], [0.4444444444444444, \"#bd3786\"], [0.5555555555555556, \"#d8576b\"], [0.6666666666666666, \"#ed7953\"], [0.7777777777777778, \"#fb9f3a\"], [0.8888888888888888, \"#fdca26\"], [1.0, \"#f0f921\"]], \"type\": \"heatmapgl\"}], \"histogram\": [{\"marker\": {\"colorbar\": {\"outlinewidth\": 0, \"ticks\": \"\"}}, \"type\": \"histogram\"}], \"histogram2d\": [{\"colorbar\": {\"outlinewidth\": 0, \"ticks\": \"\"}, \"colorscale\": [[0.0, \"#0d0887\"], [0.1111111111111111, \"#46039f\"], [0.2222222222222222, \"#7201a8\"], [0.3333333333333333, \"#9c179e\"], [0.4444444444444444, \"#bd3786\"], [0.5555555555555556, \"#d8576b\"], [0.6666666666666666, \"#ed7953\"], [0.7777777777777778, \"#fb9f3a\"], [0.8888888888888888, \"#fdca26\"], [1.0, \"#f0f921\"]], \"type\": \"histogram2d\"}], \"histogram2dcontour\": [{\"colorbar\": {\"outlinewidth\": 0, \"ticks\": \"\"}, \"colorscale\": [[0.0, \"#0d0887\"], [0.1111111111111111, \"#46039f\"], [0.2222222222222222, \"#7201a8\"], [0.3333333333333333, \"#9c179e\"], [0.4444444444444444, \"#bd3786\"], [0.5555555555555556, \"#d8576b\"], [0.6666666666666666, \"#ed7953\"], [0.7777777777777778, \"#fb9f3a\"], [0.8888888888888888, \"#fdca26\"], [1.0, \"#f0f921\"]], \"type\": \"histogram2dcontour\"}], \"mesh3d\": [{\"colorbar\": {\"outlinewidth\": 0, \"ticks\": \"\"}, \"type\": \"mesh3d\"}], \"parcoords\": [{\"line\": {\"colorbar\": {\"outlinewidth\": 0, \"ticks\": \"\"}}, \"type\": \"parcoords\"}], \"pie\": [{\"automargin\": true, \"type\": \"pie\"}], \"scatter\": [{\"marker\": {\"colorbar\": {\"outlinewidth\": 0, \"ticks\": \"\"}}, \"type\": \"scatter\"}], \"scatter3d\": [{\"line\": {\"colorbar\": {\"outlinewidth\": 0, \"ticks\": \"\"}}, \"marker\": {\"colorbar\": {\"outlinewidth\": 0, \"ticks\": \"\"}}, \"type\": \"scatter3d\"}], \"scattercarpet\": [{\"marker\": {\"colorbar\": {\"outlinewidth\": 0, \"ticks\": \"\"}}, \"type\": \"scattercarpet\"}], \"scattergeo\": [{\"marker\": {\"colorbar\": {\"outlinewidth\": 0, \"ticks\": \"\"}}, \"type\": \"scattergeo\"}], \"scattergl\": [{\"marker\": {\"colorbar\": {\"outlinewidth\": 0, \"ticks\": \"\"}}, \"type\": \"scattergl\"}], \"scattermapbox\": [{\"marker\": {\"colorbar\": {\"outlinewidth\": 0, \"ticks\": \"\"}}, \"type\": \"scattermapbox\"}], \"scatterpolar\": [{\"marker\": {\"colorbar\": {\"outlinewidth\": 0, \"ticks\": \"\"}}, \"type\": \"scatterpolar\"}], \"scatterpolargl\": [{\"marker\": {\"colorbar\": {\"outlinewidth\": 0, \"ticks\": \"\"}}, \"type\": \"scatterpolargl\"}], \"scatterternary\": [{\"marker\": {\"colorbar\": {\"outlinewidth\": 0, \"ticks\": \"\"}}, \"type\": \"scatterternary\"}], \"surface\": [{\"colorbar\": {\"outlinewidth\": 0, \"ticks\": \"\"}, \"colorscale\": [[0.0, \"#0d0887\"], [0.1111111111111111, \"#46039f\"], [0.2222222222222222, \"#7201a8\"], [0.3333333333333333, \"#9c179e\"], [0.4444444444444444, \"#bd3786\"], [0.5555555555555556, \"#d8576b\"], [0.6666666666666666, \"#ed7953\"], [0.7777777777777778, \"#fb9f3a\"], [0.8888888888888888, \"#fdca26\"], [1.0, \"#f0f921\"]], \"type\": \"surface\"}], \"table\": [{\"cells\": {\"fill\": {\"color\": \"#EBF0F8\"}, \"line\": {\"color\": \"white\"}}, \"header\": {\"fill\": {\"color\": \"#C8D4E3\"}, \"line\": {\"color\": \"white\"}}, \"type\": \"table\"}]}, \"layout\": {\"annotationdefaults\": {\"arrowcolor\": \"#2a3f5f\", \"arrowhead\": 0, \"arrowwidth\": 1}, \"coloraxis\": {\"colorbar\": {\"outlinewidth\": 0, \"ticks\": \"\"}}, \"colorscale\": {\"diverging\": [[0, \"#8e0152\"], [0.1, \"#c51b7d\"], [0.2, \"#de77ae\"], [0.3, \"#f1b6da\"], [0.4, \"#fde0ef\"], [0.5, \"#f7f7f7\"], [0.6, \"#e6f5d0\"], [0.7, \"#b8e186\"], [0.8, \"#7fbc41\"], [0.9, \"#4d9221\"], [1, \"#276419\"]], \"sequential\": [[0.0, \"#0d0887\"], [0.1111111111111111, \"#46039f\"], [0.2222222222222222, \"#7201a8\"], [0.3333333333333333, \"#9c179e\"], [0.4444444444444444, \"#bd3786\"], [0.5555555555555556, \"#d8576b\"], [0.6666666666666666, \"#ed7953\"], [0.7777777777777778, \"#fb9f3a\"], [0.8888888888888888, \"#fdca26\"], [1.0, \"#f0f921\"]], \"sequentialminus\": [[0.0, \"#0d0887\"], [0.1111111111111111, \"#46039f\"], [0.2222222222222222, \"#7201a8\"], [0.3333333333333333, \"#9c179e\"], [0.4444444444444444, \"#bd3786\"], [0.5555555555555556, \"#d8576b\"], [0.6666666666666666, \"#ed7953\"], [0.7777777777777778, \"#fb9f3a\"], [0.8888888888888888, \"#fdca26\"], [1.0, \"#f0f921\"]]}, \"colorway\": [\"#636efa\", \"#EF553B\", \"#00cc96\", \"#ab63fa\", \"#FFA15A\", \"#19d3f3\", \"#FF6692\", \"#B6E880\", \"#FF97FF\", \"#FECB52\"], \"font\": {\"color\": \"#2a3f5f\"}, \"geo\": {\"bgcolor\": \"white\", \"lakecolor\": \"white\", \"landcolor\": \"#E5ECF6\", \"showlakes\": true, \"showland\": true, \"subunitcolor\": \"white\"}, \"hoverlabel\": {\"align\": \"left\"}, \"hovermode\": \"closest\", \"mapbox\": {\"style\": \"light\"}, \"paper_bgcolor\": \"white\", \"plot_bgcolor\": \"#E5ECF6\", \"polar\": {\"angularaxis\": {\"gridcolor\": \"white\", \"linecolor\": \"white\", \"ticks\": \"\"}, \"bgcolor\": \"#E5ECF6\", \"radialaxis\": {\"gridcolor\": \"white\", \"linecolor\": \"white\", \"ticks\": \"\"}}, \"scene\": {\"xaxis\": {\"backgroundcolor\": \"#E5ECF6\", \"gridcolor\": \"white\", \"gridwidth\": 2, \"linecolor\": \"white\", \"showbackground\": true, \"ticks\": \"\", \"zerolinecolor\": \"white\"}, \"yaxis\": {\"backgroundcolor\": \"#E5ECF6\", \"gridcolor\": \"white\", \"gridwidth\": 2, \"linecolor\": \"white\", \"showbackground\": true, \"ticks\": \"\", \"zerolinecolor\": \"white\"}, \"zaxis\": {\"backgroundcolor\": \"#E5ECF6\", \"gridcolor\": \"white\", \"gridwidth\": 2, \"linecolor\": \"white\", \"showbackground\": true, \"ticks\": \"\", \"zerolinecolor\": \"white\"}}, \"shapedefaults\": {\"line\": {\"color\": \"#2a3f5f\"}}, \"ternary\": {\"aaxis\": {\"gridcolor\": \"white\", \"linecolor\": \"white\", \"ticks\": \"\"}, \"baxis\": {\"gridcolor\": \"white\", \"linecolor\": \"white\", \"ticks\": \"\"}, \"bgcolor\": \"#E5ECF6\", \"caxis\": {\"gridcolor\": \"white\", \"linecolor\": \"white\", \"ticks\": \"\"}}, \"title\": {\"x\": 0.05}, \"xaxis\": {\"automargin\": true, \"gridcolor\": \"white\", \"linecolor\": \"white\", \"ticks\": \"\", \"title\": {\"standoff\": 15}, \"zerolinecolor\": \"white\", \"zerolinewidth\": 2}, \"yaxis\": {\"automargin\": true, \"gridcolor\": \"white\", \"linecolor\": \"white\", \"ticks\": \"\", \"title\": {\"standoff\": 15}, \"zerolinecolor\": \"white\", \"zerolinewidth\": 2}}}, \"title\": {\"text\": \"Slice Plot\"}, \"width\": 2100, \"xaxis\": {\"anchor\": \"y\", \"domain\": [0.0, 0.1183673469387755], \"title\": {\"text\": \"algorithm\"}}, \"xaxis2\": {\"anchor\": \"y2\", \"domain\": [0.14693877551020407, 0.26530612244897955], \"title\": {\"text\": \"leaf_size\"}}, \"xaxis3\": {\"anchor\": \"y3\", \"domain\": [0.29387755102040813, 0.4122448979591836], \"title\": {\"text\": \"metric\"}}, \"xaxis4\": {\"anchor\": \"y4\", \"domain\": [0.4408163265306122, 0.5591836734693877], \"title\": {\"text\": \"n_jobs\"}}, \"xaxis5\": {\"anchor\": \"y5\", \"domain\": [0.5877551020408163, 0.7061224489795918], \"title\": {\"text\": \"n_neighbors\"}}, \"xaxis6\": {\"anchor\": \"y6\", \"domain\": [0.7346938775510204, 0.8530612244897959], \"title\": {\"text\": \"p\"}}, \"xaxis7\": {\"anchor\": \"y7\", \"domain\": [0.8816326530612244, 0.9999999999999999], \"title\": {\"text\": \"weights\"}}, \"yaxis\": {\"anchor\": \"x\", \"domain\": [0.0, 1.0], \"title\": {\"text\": \"Objective Value\"}}, \"yaxis2\": {\"anchor\": \"x2\", \"domain\": [0.0, 1.0], \"matches\": \"y\", \"showticklabels\": false}, \"yaxis3\": {\"anchor\": \"x3\", \"domain\": [0.0, 1.0], \"matches\": \"y\", \"showticklabels\": false}, \"yaxis4\": {\"anchor\": \"x4\", \"domain\": [0.0, 1.0], \"matches\": \"y\", \"showticklabels\": false}, \"yaxis5\": {\"anchor\": \"x5\", \"domain\": [0.0, 1.0], \"matches\": \"y\", \"showticklabels\": false}, \"yaxis6\": {\"anchor\": \"x6\", \"domain\": [0.0, 1.0], \"matches\": \"y\", \"showticklabels\": false}, \"yaxis7\": {\"anchor\": \"x7\", \"domain\": [0.0, 1.0], \"matches\": \"y\", \"showticklabels\": false}},\n",
              "                        {\"responsive\": true}\n",
              "                    ).then(function(){\n",
              "                            \n",
              "var gd = document.getElementById('2c0ff68a-16a2-4702-bacc-a5763ecdc888');\n",
              "var x = new MutationObserver(function (mutations, observer) {{\n",
              "        var display = window.getComputedStyle(gd).display;\n",
              "        if (!display || display === 'none') {{\n",
              "            console.log([gd, 'removed!']);\n",
              "            Plotly.purge(gd);\n",
              "            observer.disconnect();\n",
              "        }}\n",
              "}});\n",
              "\n",
              "// Listen for the removal of the full notebook cells\n",
              "var notebookContainer = gd.closest('#notebook-container');\n",
              "if (notebookContainer) {{\n",
              "    x.observe(notebookContainer, {childList: true});\n",
              "}}\n",
              "\n",
              "// Listen for the clearing of the current output cell\n",
              "var outputEl = gd.closest('.output');\n",
              "if (outputEl) {{\n",
              "    x.observe(outputEl, {childList: true});\n",
              "}}\n",
              "\n",
              "                        })\n",
              "                };\n",
              "                \n",
              "            </script>\n",
              "        </div>\n",
              "</body>\n",
              "</html>"
            ]
          },
          "metadata": {
            "tags": []
          }
        }
      ]
    },
    {
      "cell_type": "code",
      "metadata": {
        "colab": {
          "base_uri": "https://localhost:8080/",
          "height": 542
        },
        "id": "kpxijIw6k3PW",
        "outputId": "4842a48f-12fb-49b6-80aa-68751ee1e8f8"
      },
      "source": [
        "optuna.visualization.plot_param_importances(study_knn)"
      ],
      "execution_count": null,
      "outputs": [
        {
          "output_type": "display_data",
          "data": {
            "text/html": [
              "<html>\n",
              "<head><meta charset=\"utf-8\" /></head>\n",
              "<body>\n",
              "    <div>\n",
              "            <script src=\"https://cdnjs.cloudflare.com/ajax/libs/mathjax/2.7.5/MathJax.js?config=TeX-AMS-MML_SVG\"></script><script type=\"text/javascript\">if (window.MathJax) {MathJax.Hub.Config({SVG: {font: \"STIX-Web\"}});}</script>\n",
              "                <script type=\"text/javascript\">window.PlotlyConfig = {MathJaxConfig: 'local'};</script>\n",
              "        <script src=\"https://cdn.plot.ly/plotly-latest.min.js\"></script>    \n",
              "            <div id=\"20c0625d-a1cf-4656-b221-424e567cd4a3\" class=\"plotly-graph-div\" style=\"height:525px; width:100%;\"></div>\n",
              "            <script type=\"text/javascript\">\n",
              "                \n",
              "                    window.PLOTLYENV=window.PLOTLYENV || {};\n",
              "                    \n",
              "                if (document.getElementById(\"20c0625d-a1cf-4656-b221-424e567cd4a3\")) {\n",
              "                    Plotly.newPlot(\n",
              "                        '20c0625d-a1cf-4656-b221-424e567cd4a3',\n",
              "                        [{\"cliponaxis\": false, \"hovertemplate\": [\"p (IntUniformDistribution): 0.0<extra></extra>\", \"algorithm (CategoricalDistribution): 0.018867924528301886<extra></extra>\", \"n_neighbors (IntUniformDistribution): 0.11320754716981132<extra></extra>\", \"weights (CategoricalDistribution): 0.11320754716981132<extra></extra>\", \"leaf_size (IntUniformDistribution): 0.1509433962264151<extra></extra>\", \"metric (CategoricalDistribution): 0.2830188679245283<extra></extra>\", \"n_jobs (IntUniformDistribution): 0.32075471698113206<extra></extra>\"], \"marker\": {\"color\": \"rgb(66,146,198)\"}, \"orientation\": \"h\", \"text\": [\"0.0\", \"0.018867924528301886\", \"0.11320754716981132\", \"0.11320754716981132\", \"0.1509433962264151\", \"0.2830188679245283\", \"0.32075471698113206\"], \"textposition\": \"outside\", \"texttemplate\": \"%{text:.2f}\", \"type\": \"bar\", \"x\": [0.0, 0.018867924528301886, 0.11320754716981132, 0.11320754716981132, 0.1509433962264151, 0.2830188679245283, 0.32075471698113206], \"y\": [\"p\", \"algorithm\", \"n_neighbors\", \"weights\", \"leaf_size\", \"metric\", \"n_jobs\"]}],\n",
              "                        {\"showlegend\": false, \"template\": {\"data\": {\"bar\": [{\"error_x\": {\"color\": \"#2a3f5f\"}, \"error_y\": {\"color\": \"#2a3f5f\"}, \"marker\": {\"line\": {\"color\": \"#E5ECF6\", \"width\": 0.5}}, \"type\": \"bar\"}], \"barpolar\": [{\"marker\": {\"line\": {\"color\": \"#E5ECF6\", \"width\": 0.5}}, \"type\": \"barpolar\"}], \"carpet\": [{\"aaxis\": {\"endlinecolor\": \"#2a3f5f\", \"gridcolor\": \"white\", \"linecolor\": \"white\", \"minorgridcolor\": \"white\", \"startlinecolor\": \"#2a3f5f\"}, \"baxis\": {\"endlinecolor\": \"#2a3f5f\", \"gridcolor\": \"white\", \"linecolor\": \"white\", \"minorgridcolor\": \"white\", \"startlinecolor\": \"#2a3f5f\"}, \"type\": \"carpet\"}], \"choropleth\": [{\"colorbar\": {\"outlinewidth\": 0, \"ticks\": \"\"}, \"type\": \"choropleth\"}], \"contour\": [{\"colorbar\": {\"outlinewidth\": 0, \"ticks\": \"\"}, \"colorscale\": [[0.0, \"#0d0887\"], [0.1111111111111111, \"#46039f\"], [0.2222222222222222, \"#7201a8\"], [0.3333333333333333, \"#9c179e\"], [0.4444444444444444, \"#bd3786\"], [0.5555555555555556, \"#d8576b\"], [0.6666666666666666, \"#ed7953\"], [0.7777777777777778, \"#fb9f3a\"], [0.8888888888888888, \"#fdca26\"], [1.0, \"#f0f921\"]], \"type\": \"contour\"}], \"contourcarpet\": [{\"colorbar\": {\"outlinewidth\": 0, \"ticks\": \"\"}, \"type\": \"contourcarpet\"}], \"heatmap\": [{\"colorbar\": {\"outlinewidth\": 0, \"ticks\": \"\"}, \"colorscale\": [[0.0, \"#0d0887\"], [0.1111111111111111, \"#46039f\"], [0.2222222222222222, \"#7201a8\"], [0.3333333333333333, \"#9c179e\"], [0.4444444444444444, \"#bd3786\"], [0.5555555555555556, \"#d8576b\"], [0.6666666666666666, \"#ed7953\"], [0.7777777777777778, \"#fb9f3a\"], [0.8888888888888888, \"#fdca26\"], [1.0, \"#f0f921\"]], \"type\": \"heatmap\"}], \"heatmapgl\": [{\"colorbar\": {\"outlinewidth\": 0, \"ticks\": \"\"}, \"colorscale\": [[0.0, \"#0d0887\"], [0.1111111111111111, \"#46039f\"], [0.2222222222222222, \"#7201a8\"], [0.3333333333333333, \"#9c179e\"], [0.4444444444444444, \"#bd3786\"], [0.5555555555555556, \"#d8576b\"], [0.6666666666666666, \"#ed7953\"], [0.7777777777777778, \"#fb9f3a\"], [0.8888888888888888, \"#fdca26\"], [1.0, \"#f0f921\"]], \"type\": \"heatmapgl\"}], \"histogram\": [{\"marker\": {\"colorbar\": {\"outlinewidth\": 0, \"ticks\": \"\"}}, \"type\": \"histogram\"}], \"histogram2d\": [{\"colorbar\": {\"outlinewidth\": 0, \"ticks\": \"\"}, \"colorscale\": [[0.0, \"#0d0887\"], [0.1111111111111111, \"#46039f\"], [0.2222222222222222, \"#7201a8\"], [0.3333333333333333, \"#9c179e\"], [0.4444444444444444, \"#bd3786\"], [0.5555555555555556, \"#d8576b\"], [0.6666666666666666, \"#ed7953\"], [0.7777777777777778, \"#fb9f3a\"], [0.8888888888888888, \"#fdca26\"], [1.0, \"#f0f921\"]], \"type\": \"histogram2d\"}], \"histogram2dcontour\": [{\"colorbar\": {\"outlinewidth\": 0, \"ticks\": \"\"}, \"colorscale\": [[0.0, \"#0d0887\"], [0.1111111111111111, \"#46039f\"], [0.2222222222222222, \"#7201a8\"], [0.3333333333333333, \"#9c179e\"], [0.4444444444444444, \"#bd3786\"], [0.5555555555555556, \"#d8576b\"], [0.6666666666666666, \"#ed7953\"], [0.7777777777777778, \"#fb9f3a\"], [0.8888888888888888, \"#fdca26\"], [1.0, \"#f0f921\"]], \"type\": \"histogram2dcontour\"}], \"mesh3d\": [{\"colorbar\": {\"outlinewidth\": 0, \"ticks\": \"\"}, \"type\": \"mesh3d\"}], \"parcoords\": [{\"line\": {\"colorbar\": {\"outlinewidth\": 0, \"ticks\": \"\"}}, \"type\": \"parcoords\"}], \"pie\": [{\"automargin\": true, \"type\": \"pie\"}], \"scatter\": [{\"marker\": {\"colorbar\": {\"outlinewidth\": 0, \"ticks\": \"\"}}, \"type\": \"scatter\"}], \"scatter3d\": [{\"line\": {\"colorbar\": {\"outlinewidth\": 0, \"ticks\": \"\"}}, \"marker\": {\"colorbar\": {\"outlinewidth\": 0, \"ticks\": \"\"}}, \"type\": \"scatter3d\"}], \"scattercarpet\": [{\"marker\": {\"colorbar\": {\"outlinewidth\": 0, \"ticks\": \"\"}}, \"type\": \"scattercarpet\"}], \"scattergeo\": [{\"marker\": {\"colorbar\": {\"outlinewidth\": 0, \"ticks\": \"\"}}, \"type\": \"scattergeo\"}], \"scattergl\": [{\"marker\": {\"colorbar\": {\"outlinewidth\": 0, \"ticks\": \"\"}}, \"type\": \"scattergl\"}], \"scattermapbox\": [{\"marker\": {\"colorbar\": {\"outlinewidth\": 0, \"ticks\": \"\"}}, \"type\": \"scattermapbox\"}], \"scatterpolar\": [{\"marker\": {\"colorbar\": {\"outlinewidth\": 0, \"ticks\": \"\"}}, \"type\": \"scatterpolar\"}], \"scatterpolargl\": [{\"marker\": {\"colorbar\": {\"outlinewidth\": 0, \"ticks\": \"\"}}, \"type\": \"scatterpolargl\"}], \"scatterternary\": [{\"marker\": {\"colorbar\": {\"outlinewidth\": 0, \"ticks\": \"\"}}, \"type\": \"scatterternary\"}], \"surface\": [{\"colorbar\": {\"outlinewidth\": 0, \"ticks\": \"\"}, \"colorscale\": [[0.0, \"#0d0887\"], [0.1111111111111111, \"#46039f\"], [0.2222222222222222, \"#7201a8\"], [0.3333333333333333, \"#9c179e\"], [0.4444444444444444, \"#bd3786\"], [0.5555555555555556, \"#d8576b\"], [0.6666666666666666, \"#ed7953\"], [0.7777777777777778, \"#fb9f3a\"], [0.8888888888888888, \"#fdca26\"], [1.0, \"#f0f921\"]], \"type\": \"surface\"}], \"table\": [{\"cells\": {\"fill\": {\"color\": \"#EBF0F8\"}, \"line\": {\"color\": \"white\"}}, \"header\": {\"fill\": {\"color\": \"#C8D4E3\"}, \"line\": {\"color\": \"white\"}}, \"type\": \"table\"}]}, \"layout\": {\"annotationdefaults\": {\"arrowcolor\": \"#2a3f5f\", \"arrowhead\": 0, \"arrowwidth\": 1}, \"coloraxis\": {\"colorbar\": {\"outlinewidth\": 0, \"ticks\": \"\"}}, \"colorscale\": {\"diverging\": [[0, \"#8e0152\"], [0.1, \"#c51b7d\"], [0.2, \"#de77ae\"], [0.3, \"#f1b6da\"], [0.4, \"#fde0ef\"], [0.5, \"#f7f7f7\"], [0.6, \"#e6f5d0\"], [0.7, \"#b8e186\"], [0.8, \"#7fbc41\"], [0.9, \"#4d9221\"], [1, \"#276419\"]], \"sequential\": [[0.0, \"#0d0887\"], [0.1111111111111111, \"#46039f\"], [0.2222222222222222, \"#7201a8\"], [0.3333333333333333, \"#9c179e\"], [0.4444444444444444, \"#bd3786\"], [0.5555555555555556, \"#d8576b\"], [0.6666666666666666, \"#ed7953\"], [0.7777777777777778, \"#fb9f3a\"], [0.8888888888888888, \"#fdca26\"], [1.0, \"#f0f921\"]], \"sequentialminus\": [[0.0, \"#0d0887\"], [0.1111111111111111, \"#46039f\"], [0.2222222222222222, \"#7201a8\"], [0.3333333333333333, \"#9c179e\"], [0.4444444444444444, \"#bd3786\"], [0.5555555555555556, \"#d8576b\"], [0.6666666666666666, \"#ed7953\"], [0.7777777777777778, \"#fb9f3a\"], [0.8888888888888888, \"#fdca26\"], [1.0, \"#f0f921\"]]}, \"colorway\": [\"#636efa\", \"#EF553B\", \"#00cc96\", \"#ab63fa\", \"#FFA15A\", \"#19d3f3\", \"#FF6692\", \"#B6E880\", \"#FF97FF\", \"#FECB52\"], \"font\": {\"color\": \"#2a3f5f\"}, \"geo\": {\"bgcolor\": \"white\", \"lakecolor\": \"white\", \"landcolor\": \"#E5ECF6\", \"showlakes\": true, \"showland\": true, \"subunitcolor\": \"white\"}, \"hoverlabel\": {\"align\": \"left\"}, \"hovermode\": \"closest\", \"mapbox\": {\"style\": \"light\"}, \"paper_bgcolor\": \"white\", \"plot_bgcolor\": \"#E5ECF6\", \"polar\": {\"angularaxis\": {\"gridcolor\": \"white\", \"linecolor\": \"white\", \"ticks\": \"\"}, \"bgcolor\": \"#E5ECF6\", \"radialaxis\": {\"gridcolor\": \"white\", \"linecolor\": \"white\", \"ticks\": \"\"}}, \"scene\": {\"xaxis\": {\"backgroundcolor\": \"#E5ECF6\", \"gridcolor\": \"white\", \"gridwidth\": 2, \"linecolor\": \"white\", \"showbackground\": true, \"ticks\": \"\", \"zerolinecolor\": \"white\"}, \"yaxis\": {\"backgroundcolor\": \"#E5ECF6\", \"gridcolor\": \"white\", \"gridwidth\": 2, \"linecolor\": \"white\", \"showbackground\": true, \"ticks\": \"\", \"zerolinecolor\": \"white\"}, \"zaxis\": {\"backgroundcolor\": \"#E5ECF6\", \"gridcolor\": \"white\", \"gridwidth\": 2, \"linecolor\": \"white\", \"showbackground\": true, \"ticks\": \"\", \"zerolinecolor\": \"white\"}}, \"shapedefaults\": {\"line\": {\"color\": \"#2a3f5f\"}}, \"ternary\": {\"aaxis\": {\"gridcolor\": \"white\", \"linecolor\": \"white\", \"ticks\": \"\"}, \"baxis\": {\"gridcolor\": \"white\", \"linecolor\": \"white\", \"ticks\": \"\"}, \"bgcolor\": \"#E5ECF6\", \"caxis\": {\"gridcolor\": \"white\", \"linecolor\": \"white\", \"ticks\": \"\"}}, \"title\": {\"x\": 0.05}, \"xaxis\": {\"automargin\": true, \"gridcolor\": \"white\", \"linecolor\": \"white\", \"ticks\": \"\", \"title\": {\"standoff\": 15}, \"zerolinecolor\": \"white\", \"zerolinewidth\": 2}, \"yaxis\": {\"automargin\": true, \"gridcolor\": \"white\", \"linecolor\": \"white\", \"ticks\": \"\", \"title\": {\"standoff\": 15}, \"zerolinecolor\": \"white\", \"zerolinewidth\": 2}}}, \"title\": {\"text\": \"Hyperparameter Importances\"}, \"xaxis\": {\"title\": {\"text\": \"Importance for Objective Value\"}}, \"yaxis\": {\"title\": {\"text\": \"Hyperparameter\"}}},\n",
              "                        {\"responsive\": true}\n",
              "                    ).then(function(){\n",
              "                            \n",
              "var gd = document.getElementById('20c0625d-a1cf-4656-b221-424e567cd4a3');\n",
              "var x = new MutationObserver(function (mutations, observer) {{\n",
              "        var display = window.getComputedStyle(gd).display;\n",
              "        if (!display || display === 'none') {{\n",
              "            console.log([gd, 'removed!']);\n",
              "            Plotly.purge(gd);\n",
              "            observer.disconnect();\n",
              "        }}\n",
              "}});\n",
              "\n",
              "// Listen for the removal of the full notebook cells\n",
              "var notebookContainer = gd.closest('#notebook-container');\n",
              "if (notebookContainer) {{\n",
              "    x.observe(notebookContainer, {childList: true});\n",
              "}}\n",
              "\n",
              "// Listen for the clearing of the current output cell\n",
              "var outputEl = gd.closest('.output');\n",
              "if (outputEl) {{\n",
              "    x.observe(outputEl, {childList: true});\n",
              "}}\n",
              "\n",
              "                        })\n",
              "                };\n",
              "                \n",
              "            </script>\n",
              "        </div>\n",
              "</body>\n",
              "</html>"
            ]
          },
          "metadata": {
            "tags": []
          }
        }
      ]
    },
    {
      "cell_type": "markdown",
      "metadata": {
        "id": "_K8mBYKocqqO"
      },
      "source": [
        "# **Árvore de decisão**"
      ]
    },
    {
      "cell_type": "code",
      "metadata": {
        "colab": {
          "base_uri": "https://localhost:8080/"
        },
        "id": "KskjySLwfWVK",
        "outputId": "20ed3322-d45f-4901-916d-c551e893cb22"
      },
      "source": [
        "\n",
        "def arvoredec(trial):\n",
        "\n",
        "  with mlflow.start_run():\n",
        "\n",
        "    max_depth = trial.suggest_int('max_depth',9,100,log=True)#low = none\n",
        "    min_samples_leaf = trial.suggest_int('min_samples_leaf',1,10)\n",
        "    max_leaf_nodes = trial.suggest_int('max_leaf_nodes',0,100)#low = none\n",
        "\n",
        "    if(max_depth == 9):\n",
        "      max_depth = None\n",
        "    if(max_leaf_nodes == 0):\n",
        "      max_leaf_nodes = None\n",
        "    elif(max_leaf_nodes == 1):\n",
        "      max_leaf_nodes +=1\n",
        "\n",
        "    clf = tree.DecisionTreeRegressor(max_depth=max_depth,min_samples_leaf=min_samples_leaf,max_leaf_nodes=max_leaf_nodes)\n",
        "    clf = clf.fit(X_train, y_train)\n",
        "\n",
        "    y_pred_val = clf.predict(X_val)\n",
        "\n",
        "    (mse, mae, r2) = eval_metrics(y_val, y_pred_val)\n",
        "    \n",
        "    mlflow.log_param(\"n_neighbors\", n_neighbors)\n",
        "    mlflow.log_param(\"p\", p)\n",
        "    mlflow.log_param(\"metric\", metric)\n",
        "\n",
        "    mlflow.log_metric(\"mse\", mse)\n",
        "    mlflow.log_metric(\"mae\", mae)\n",
        "    mlflow.log_metric(\"r2\", r2)\n",
        "    #mlflow.log_metric(\"nomemetrica\", nomevariavel)\n",
        "    #mlflow.log_metric(\"nomemetrica\", nomevariavel)\n",
        "\n",
        "    return mean_squared_error(y_val, y_pred_val)\n",
        "\n",
        "study_decisiontree = optuna.create_study(direction='minimize')\n",
        "study_decisiontree.optimize(arvoredec,n_trials=5)"
      ],
      "execution_count": null,
      "outputs": [
        {
          "output_type": "stream",
          "text": [
            "\u001b[32m[I 2021-08-15 01:18:26,537]\u001b[0m A new study created in memory with name: no-name-c4fc7065-bd42-4a69-968d-e148826a5b91\u001b[0m\n",
            "\u001b[32m[I 2021-08-15 01:18:26,560]\u001b[0m Trial 0 finished with value: 0.014273373428816865 and parameters: {'criterion': 'friedman_mse', 'splitter': 'random', 'max_depth': 33, 'min_samples_split': 11, 'min_samples_leaf': 7, 'min_weight_fraction_leaf': 0.0626388794473719, 'max_features': 'log2', 'max_leaf_nodes': 69, 'min_impurity_decrease': 0.6380374289233538, 'ccp_alpha': 0.43027294152091056}. Best is trial 0 with value: 0.014273373428816865.\u001b[0m\n",
            "\u001b[32m[I 2021-08-15 01:18:26,576]\u001b[0m Trial 1 finished with value: 0.014273373428816865 and parameters: {'criterion': 'mse', 'splitter': 'random', 'max_depth': 79, 'min_samples_split': 14, 'min_samples_leaf': 5, 'min_weight_fraction_leaf': 0.364024423354406, 'max_features': 'none', 'max_leaf_nodes': 64, 'min_impurity_decrease': 0.23104434990996203, 'ccp_alpha': 0.33013948290901873}. Best is trial 0 with value: 0.014273373428816865.\u001b[0m\n",
            "\u001b[32m[I 2021-08-15 01:18:26,592]\u001b[0m Trial 2 finished with value: 0.014273373428816865 and parameters: {'criterion': 'friedman_mse', 'splitter': 'random', 'max_depth': 82, 'min_samples_split': 16, 'min_samples_leaf': 4, 'min_weight_fraction_leaf': 0.46704470368074047, 'max_features': 'none', 'max_leaf_nodes': 58, 'min_impurity_decrease': 0.6672051908251, 'ccp_alpha': 0.9232138529595695}. Best is trial 0 with value: 0.014273373428816865.\u001b[0m\n",
            "\u001b[32m[I 2021-08-15 01:18:26,612]\u001b[0m Trial 3 finished with value: 0.014273373428816865 and parameters: {'criterion': 'friedman_mse', 'splitter': 'best', 'max_depth': 48, 'min_samples_split': 6, 'min_samples_leaf': 7, 'min_weight_fraction_leaf': 0.1326063713353267, 'max_features': 'log2', 'max_leaf_nodes': 29, 'min_impurity_decrease': 0.9082063105034406, 'ccp_alpha': 0.8952722206229456}. Best is trial 0 with value: 0.014273373428816865.\u001b[0m\n",
            "\u001b[32m[I 2021-08-15 01:18:26,627]\u001b[0m Trial 4 finished with value: 0.014273373428816865 and parameters: {'criterion': 'mse', 'splitter': 'random', 'max_depth': 77, 'min_samples_split': 12, 'min_samples_leaf': 9, 'min_weight_fraction_leaf': 0.47744427440012344, 'max_features': 'log2', 'max_leaf_nodes': 20, 'min_impurity_decrease': 0.5383141851012917, 'ccp_alpha': 0.8254203200624892}. Best is trial 0 with value: 0.014273373428816865.\u001b[0m\n"
          ],
          "name": "stderr"
        }
      ]
    },
    {
      "cell_type": "code",
      "metadata": {
        "colab": {
          "base_uri": "https://localhost:8080/"
        },
        "id": "uq3APpGXvGD2",
        "outputId": "d68921d1-0428-42f4-bb3e-1d276b53780f"
      },
      "source": [
        "trial = study_decisiontree.best_trial\n",
        "print(f'MSE: {trial.value}')\n",
        "print(f'Best hyperparameters: {trial.params}')"
      ],
      "execution_count": null,
      "outputs": [
        {
          "output_type": "stream",
          "text": [
            "MSE: 0.014273373428816865\n",
            "Best hyperparameters: {'criterion': 'friedman_mse', 'splitter': 'random', 'max_depth': 33, 'min_samples_split': 11, 'min_samples_leaf': 7, 'min_weight_fraction_leaf': 0.0626388794473719, 'max_features': 'log2', 'max_leaf_nodes': 69, 'min_impurity_decrease': 0.6380374289233538, 'ccp_alpha': 0.43027294152091056}\n"
          ],
          "name": "stdout"
        }
      ]
    },
    {
      "cell_type": "code",
      "metadata": {
        "colab": {
          "base_uri": "https://localhost:8080/",
          "height": 542
        },
        "id": "BjBbjQ0QvTUg",
        "outputId": "c6ba316f-36a0-4652-ca60-d4bfa5a251ba"
      },
      "source": [
        "optuna.visualization.plot_optimization_history(study_decisiontree)"
      ],
      "execution_count": null,
      "outputs": [
        {
          "output_type": "display_data",
          "data": {
            "text/html": [
              "<html>\n",
              "<head><meta charset=\"utf-8\" /></head>\n",
              "<body>\n",
              "    <div>\n",
              "            <script src=\"https://cdnjs.cloudflare.com/ajax/libs/mathjax/2.7.5/MathJax.js?config=TeX-AMS-MML_SVG\"></script><script type=\"text/javascript\">if (window.MathJax) {MathJax.Hub.Config({SVG: {font: \"STIX-Web\"}});}</script>\n",
              "                <script type=\"text/javascript\">window.PlotlyConfig = {MathJaxConfig: 'local'};</script>\n",
              "        <script src=\"https://cdn.plot.ly/plotly-latest.min.js\"></script>    \n",
              "            <div id=\"d983ea27-8027-41ab-babd-72f75bb4db25\" class=\"plotly-graph-div\" style=\"height:525px; width:100%;\"></div>\n",
              "            <script type=\"text/javascript\">\n",
              "                \n",
              "                    window.PLOTLYENV=window.PLOTLYENV || {};\n",
              "                    \n",
              "                if (document.getElementById(\"d983ea27-8027-41ab-babd-72f75bb4db25\")) {\n",
              "                    Plotly.newPlot(\n",
              "                        'd983ea27-8027-41ab-babd-72f75bb4db25',\n",
              "                        [{\"mode\": \"markers\", \"name\": \"Objective Value\", \"type\": \"scatter\", \"x\": [0, 1, 2, 3, 4], \"y\": [0.014273373428816865, 0.014273373428816865, 0.014273373428816865, 0.014273373428816865, 0.014273373428816865]}, {\"name\": \"Best Value\", \"type\": \"scatter\", \"x\": [0, 1, 2, 3, 4], \"y\": [0.014273373428816865, 0.014273373428816865, 0.014273373428816865, 0.014273373428816865, 0.014273373428816865]}],\n",
              "                        {\"template\": {\"data\": {\"bar\": [{\"error_x\": {\"color\": \"#2a3f5f\"}, \"error_y\": {\"color\": \"#2a3f5f\"}, \"marker\": {\"line\": {\"color\": \"#E5ECF6\", \"width\": 0.5}}, \"type\": \"bar\"}], \"barpolar\": [{\"marker\": {\"line\": {\"color\": \"#E5ECF6\", \"width\": 0.5}}, \"type\": \"barpolar\"}], \"carpet\": [{\"aaxis\": {\"endlinecolor\": \"#2a3f5f\", \"gridcolor\": \"white\", \"linecolor\": \"white\", \"minorgridcolor\": \"white\", \"startlinecolor\": \"#2a3f5f\"}, \"baxis\": {\"endlinecolor\": \"#2a3f5f\", \"gridcolor\": \"white\", \"linecolor\": \"white\", \"minorgridcolor\": \"white\", \"startlinecolor\": \"#2a3f5f\"}, \"type\": \"carpet\"}], \"choropleth\": [{\"colorbar\": {\"outlinewidth\": 0, \"ticks\": \"\"}, \"type\": \"choropleth\"}], \"contour\": [{\"colorbar\": {\"outlinewidth\": 0, \"ticks\": \"\"}, \"colorscale\": [[0.0, \"#0d0887\"], [0.1111111111111111, \"#46039f\"], [0.2222222222222222, \"#7201a8\"], [0.3333333333333333, \"#9c179e\"], [0.4444444444444444, \"#bd3786\"], [0.5555555555555556, \"#d8576b\"], [0.6666666666666666, \"#ed7953\"], [0.7777777777777778, \"#fb9f3a\"], [0.8888888888888888, \"#fdca26\"], [1.0, \"#f0f921\"]], \"type\": \"contour\"}], \"contourcarpet\": [{\"colorbar\": {\"outlinewidth\": 0, \"ticks\": \"\"}, \"type\": \"contourcarpet\"}], \"heatmap\": [{\"colorbar\": {\"outlinewidth\": 0, \"ticks\": \"\"}, \"colorscale\": [[0.0, \"#0d0887\"], [0.1111111111111111, \"#46039f\"], [0.2222222222222222, \"#7201a8\"], [0.3333333333333333, \"#9c179e\"], [0.4444444444444444, \"#bd3786\"], [0.5555555555555556, \"#d8576b\"], [0.6666666666666666, \"#ed7953\"], [0.7777777777777778, \"#fb9f3a\"], [0.8888888888888888, \"#fdca26\"], [1.0, \"#f0f921\"]], \"type\": \"heatmap\"}], \"heatmapgl\": [{\"colorbar\": {\"outlinewidth\": 0, \"ticks\": \"\"}, \"colorscale\": [[0.0, \"#0d0887\"], [0.1111111111111111, \"#46039f\"], [0.2222222222222222, \"#7201a8\"], [0.3333333333333333, \"#9c179e\"], [0.4444444444444444, \"#bd3786\"], [0.5555555555555556, \"#d8576b\"], [0.6666666666666666, \"#ed7953\"], [0.7777777777777778, \"#fb9f3a\"], [0.8888888888888888, \"#fdca26\"], [1.0, \"#f0f921\"]], \"type\": \"heatmapgl\"}], \"histogram\": [{\"marker\": {\"colorbar\": {\"outlinewidth\": 0, \"ticks\": \"\"}}, \"type\": \"histogram\"}], \"histogram2d\": [{\"colorbar\": {\"outlinewidth\": 0, \"ticks\": \"\"}, \"colorscale\": [[0.0, \"#0d0887\"], [0.1111111111111111, \"#46039f\"], [0.2222222222222222, \"#7201a8\"], [0.3333333333333333, \"#9c179e\"], [0.4444444444444444, \"#bd3786\"], [0.5555555555555556, \"#d8576b\"], [0.6666666666666666, \"#ed7953\"], [0.7777777777777778, \"#fb9f3a\"], [0.8888888888888888, \"#fdca26\"], [1.0, \"#f0f921\"]], \"type\": \"histogram2d\"}], \"histogram2dcontour\": [{\"colorbar\": {\"outlinewidth\": 0, \"ticks\": \"\"}, \"colorscale\": [[0.0, \"#0d0887\"], [0.1111111111111111, \"#46039f\"], [0.2222222222222222, \"#7201a8\"], [0.3333333333333333, \"#9c179e\"], [0.4444444444444444, \"#bd3786\"], [0.5555555555555556, \"#d8576b\"], [0.6666666666666666, \"#ed7953\"], [0.7777777777777778, \"#fb9f3a\"], [0.8888888888888888, \"#fdca26\"], [1.0, \"#f0f921\"]], \"type\": \"histogram2dcontour\"}], \"mesh3d\": [{\"colorbar\": {\"outlinewidth\": 0, \"ticks\": \"\"}, \"type\": \"mesh3d\"}], \"parcoords\": [{\"line\": {\"colorbar\": {\"outlinewidth\": 0, \"ticks\": \"\"}}, \"type\": \"parcoords\"}], \"pie\": [{\"automargin\": true, \"type\": \"pie\"}], \"scatter\": [{\"marker\": {\"colorbar\": {\"outlinewidth\": 0, \"ticks\": \"\"}}, \"type\": \"scatter\"}], \"scatter3d\": [{\"line\": {\"colorbar\": {\"outlinewidth\": 0, \"ticks\": \"\"}}, \"marker\": {\"colorbar\": {\"outlinewidth\": 0, \"ticks\": \"\"}}, \"type\": \"scatter3d\"}], \"scattercarpet\": [{\"marker\": {\"colorbar\": {\"outlinewidth\": 0, \"ticks\": \"\"}}, \"type\": \"scattercarpet\"}], \"scattergeo\": [{\"marker\": {\"colorbar\": {\"outlinewidth\": 0, \"ticks\": \"\"}}, \"type\": \"scattergeo\"}], \"scattergl\": [{\"marker\": {\"colorbar\": {\"outlinewidth\": 0, \"ticks\": \"\"}}, \"type\": \"scattergl\"}], \"scattermapbox\": [{\"marker\": {\"colorbar\": {\"outlinewidth\": 0, \"ticks\": \"\"}}, \"type\": \"scattermapbox\"}], \"scatterpolar\": [{\"marker\": {\"colorbar\": {\"outlinewidth\": 0, \"ticks\": \"\"}}, \"type\": \"scatterpolar\"}], \"scatterpolargl\": [{\"marker\": {\"colorbar\": {\"outlinewidth\": 0, \"ticks\": \"\"}}, \"type\": \"scatterpolargl\"}], \"scatterternary\": [{\"marker\": {\"colorbar\": {\"outlinewidth\": 0, \"ticks\": \"\"}}, \"type\": \"scatterternary\"}], \"surface\": [{\"colorbar\": {\"outlinewidth\": 0, \"ticks\": \"\"}, \"colorscale\": [[0.0, \"#0d0887\"], [0.1111111111111111, \"#46039f\"], [0.2222222222222222, \"#7201a8\"], [0.3333333333333333, \"#9c179e\"], [0.4444444444444444, \"#bd3786\"], [0.5555555555555556, \"#d8576b\"], [0.6666666666666666, \"#ed7953\"], [0.7777777777777778, \"#fb9f3a\"], [0.8888888888888888, \"#fdca26\"], [1.0, \"#f0f921\"]], \"type\": \"surface\"}], \"table\": [{\"cells\": {\"fill\": {\"color\": \"#EBF0F8\"}, \"line\": {\"color\": \"white\"}}, \"header\": {\"fill\": {\"color\": \"#C8D4E3\"}, \"line\": {\"color\": \"white\"}}, \"type\": \"table\"}]}, \"layout\": {\"annotationdefaults\": {\"arrowcolor\": \"#2a3f5f\", \"arrowhead\": 0, \"arrowwidth\": 1}, \"coloraxis\": {\"colorbar\": {\"outlinewidth\": 0, \"ticks\": \"\"}}, \"colorscale\": {\"diverging\": [[0, \"#8e0152\"], [0.1, \"#c51b7d\"], [0.2, \"#de77ae\"], [0.3, \"#f1b6da\"], [0.4, \"#fde0ef\"], [0.5, \"#f7f7f7\"], [0.6, \"#e6f5d0\"], [0.7, \"#b8e186\"], [0.8, \"#7fbc41\"], [0.9, \"#4d9221\"], [1, \"#276419\"]], \"sequential\": [[0.0, \"#0d0887\"], [0.1111111111111111, \"#46039f\"], [0.2222222222222222, \"#7201a8\"], [0.3333333333333333, \"#9c179e\"], [0.4444444444444444, \"#bd3786\"], [0.5555555555555556, \"#d8576b\"], [0.6666666666666666, \"#ed7953\"], [0.7777777777777778, \"#fb9f3a\"], [0.8888888888888888, \"#fdca26\"], [1.0, \"#f0f921\"]], \"sequentialminus\": [[0.0, \"#0d0887\"], [0.1111111111111111, \"#46039f\"], [0.2222222222222222, \"#7201a8\"], [0.3333333333333333, \"#9c179e\"], [0.4444444444444444, \"#bd3786\"], [0.5555555555555556, \"#d8576b\"], [0.6666666666666666, \"#ed7953\"], [0.7777777777777778, \"#fb9f3a\"], [0.8888888888888888, \"#fdca26\"], [1.0, \"#f0f921\"]]}, \"colorway\": [\"#636efa\", \"#EF553B\", \"#00cc96\", \"#ab63fa\", \"#FFA15A\", \"#19d3f3\", \"#FF6692\", \"#B6E880\", \"#FF97FF\", \"#FECB52\"], \"font\": {\"color\": \"#2a3f5f\"}, \"geo\": {\"bgcolor\": \"white\", \"lakecolor\": \"white\", \"landcolor\": \"#E5ECF6\", \"showlakes\": true, \"showland\": true, \"subunitcolor\": \"white\"}, \"hoverlabel\": {\"align\": \"left\"}, \"hovermode\": \"closest\", \"mapbox\": {\"style\": \"light\"}, \"paper_bgcolor\": \"white\", \"plot_bgcolor\": \"#E5ECF6\", \"polar\": {\"angularaxis\": {\"gridcolor\": \"white\", \"linecolor\": \"white\", \"ticks\": \"\"}, \"bgcolor\": \"#E5ECF6\", \"radialaxis\": {\"gridcolor\": \"white\", \"linecolor\": \"white\", \"ticks\": \"\"}}, \"scene\": {\"xaxis\": {\"backgroundcolor\": \"#E5ECF6\", \"gridcolor\": \"white\", \"gridwidth\": 2, \"linecolor\": \"white\", \"showbackground\": true, \"ticks\": \"\", \"zerolinecolor\": \"white\"}, \"yaxis\": {\"backgroundcolor\": \"#E5ECF6\", \"gridcolor\": \"white\", \"gridwidth\": 2, \"linecolor\": \"white\", \"showbackground\": true, \"ticks\": \"\", \"zerolinecolor\": \"white\"}, \"zaxis\": {\"backgroundcolor\": \"#E5ECF6\", \"gridcolor\": \"white\", \"gridwidth\": 2, \"linecolor\": \"white\", \"showbackground\": true, \"ticks\": \"\", \"zerolinecolor\": \"white\"}}, \"shapedefaults\": {\"line\": {\"color\": \"#2a3f5f\"}}, \"ternary\": {\"aaxis\": {\"gridcolor\": \"white\", \"linecolor\": \"white\", \"ticks\": \"\"}, \"baxis\": {\"gridcolor\": \"white\", \"linecolor\": \"white\", \"ticks\": \"\"}, \"bgcolor\": \"#E5ECF6\", \"caxis\": {\"gridcolor\": \"white\", \"linecolor\": \"white\", \"ticks\": \"\"}}, \"title\": {\"x\": 0.05}, \"xaxis\": {\"automargin\": true, \"gridcolor\": \"white\", \"linecolor\": \"white\", \"ticks\": \"\", \"title\": {\"standoff\": 15}, \"zerolinecolor\": \"white\", \"zerolinewidth\": 2}, \"yaxis\": {\"automargin\": true, \"gridcolor\": \"white\", \"linecolor\": \"white\", \"ticks\": \"\", \"title\": {\"standoff\": 15}, \"zerolinecolor\": \"white\", \"zerolinewidth\": 2}}}, \"title\": {\"text\": \"Optimization History Plot\"}, \"xaxis\": {\"title\": {\"text\": \"#Trials\"}}, \"yaxis\": {\"title\": {\"text\": \"Objective Value\"}}},\n",
              "                        {\"responsive\": true}\n",
              "                    ).then(function(){\n",
              "                            \n",
              "var gd = document.getElementById('d983ea27-8027-41ab-babd-72f75bb4db25');\n",
              "var x = new MutationObserver(function (mutations, observer) {{\n",
              "        var display = window.getComputedStyle(gd).display;\n",
              "        if (!display || display === 'none') {{\n",
              "            console.log([gd, 'removed!']);\n",
              "            Plotly.purge(gd);\n",
              "            observer.disconnect();\n",
              "        }}\n",
              "}});\n",
              "\n",
              "// Listen for the removal of the full notebook cells\n",
              "var notebookContainer = gd.closest('#notebook-container');\n",
              "if (notebookContainer) {{\n",
              "    x.observe(notebookContainer, {childList: true});\n",
              "}}\n",
              "\n",
              "// Listen for the clearing of the current output cell\n",
              "var outputEl = gd.closest('.output');\n",
              "if (outputEl) {{\n",
              "    x.observe(outputEl, {childList: true});\n",
              "}}\n",
              "\n",
              "                        })\n",
              "                };\n",
              "                \n",
              "            </script>\n",
              "        </div>\n",
              "</body>\n",
              "</html>"
            ]
          },
          "metadata": {
            "tags": []
          }
        }
      ]
    },
    {
      "cell_type": "code",
      "metadata": {
        "colab": {
          "base_uri": "https://localhost:8080/",
          "height": 562
        },
        "id": "txRIy_G2vKF6",
        "outputId": "b0f08ec2-5845-4c2f-b50b-e974b27ca48f"
      },
      "source": [
        "optuna.visualization.plot_slice(study_decisiontree)"
      ],
      "execution_count": null,
      "outputs": [
        {
          "output_type": "display_data",
          "data": {
            "text/html": [
              "<html>\n",
              "<head><meta charset=\"utf-8\" /></head>\n",
              "<body>\n",
              "    <div>\n",
              "            <script src=\"https://cdnjs.cloudflare.com/ajax/libs/mathjax/2.7.5/MathJax.js?config=TeX-AMS-MML_SVG\"></script><script type=\"text/javascript\">if (window.MathJax) {MathJax.Hub.Config({SVG: {font: \"STIX-Web\"}});}</script>\n",
              "                <script type=\"text/javascript\">window.PlotlyConfig = {MathJaxConfig: 'local'};</script>\n",
              "        <script src=\"https://cdn.plot.ly/plotly-latest.min.js\"></script>    \n",
              "            <div id=\"ec47ec25-9909-457e-bb55-75600da14e19\" class=\"plotly-graph-div\" style=\"height:525px; width:3000px;\"></div>\n",
              "            <script type=\"text/javascript\">\n",
              "                \n",
              "                    window.PLOTLYENV=window.PLOTLYENV || {};\n",
              "                    \n",
              "                if (document.getElementById(\"ec47ec25-9909-457e-bb55-75600da14e19\")) {\n",
              "                    Plotly.newPlot(\n",
              "                        'ec47ec25-9909-457e-bb55-75600da14e19',\n",
              "                        [{\"marker\": {\"color\": [0, 1, 2, 3, 4], \"colorbar\": {\"title\": {\"text\": \"#Trials\"}, \"x\": 1.0, \"xpad\": 40}, \"colorscale\": [[0.0, \"rgb(247,251,255)\"], [0.125, \"rgb(222,235,247)\"], [0.25, \"rgb(198,219,239)\"], [0.375, \"rgb(158,202,225)\"], [0.5, \"rgb(107,174,214)\"], [0.625, \"rgb(66,146,198)\"], [0.75, \"rgb(33,113,181)\"], [0.875, \"rgb(8,81,156)\"], [1.0, \"rgb(8,48,107)\"]], \"line\": {\"color\": \"Grey\", \"width\": 0.5}, \"showscale\": true}, \"mode\": \"markers\", \"showlegend\": false, \"type\": \"scatter\", \"x\": [0.43027294152091056, 0.33013948290901873, 0.9232138529595695, 0.8952722206229456, 0.8254203200624892], \"xaxis\": \"x\", \"y\": [0.014273373428816865, 0.014273373428816865, 0.014273373428816865, 0.014273373428816865, 0.014273373428816865], \"yaxis\": \"y\"}, {\"marker\": {\"color\": [0, 1, 2, 3, 4], \"colorbar\": {\"title\": {\"text\": \"#Trials\"}, \"x\": 1.0, \"xpad\": 40}, \"colorscale\": [[0.0, \"rgb(247,251,255)\"], [0.125, \"rgb(222,235,247)\"], [0.25, \"rgb(198,219,239)\"], [0.375, \"rgb(158,202,225)\"], [0.5, \"rgb(107,174,214)\"], [0.625, \"rgb(66,146,198)\"], [0.75, \"rgb(33,113,181)\"], [0.875, \"rgb(8,81,156)\"], [1.0, \"rgb(8,48,107)\"]], \"line\": {\"color\": \"Grey\", \"width\": 0.5}, \"showscale\": false}, \"mode\": \"markers\", \"showlegend\": false, \"type\": \"scatter\", \"x\": [\"friedman_mse\", \"mse\", \"friedman_mse\", \"friedman_mse\", \"mse\"], \"xaxis\": \"x2\", \"y\": [0.014273373428816865, 0.014273373428816865, 0.014273373428816865, 0.014273373428816865, 0.014273373428816865], \"yaxis\": \"y2\"}, {\"marker\": {\"color\": [0, 1, 2, 3, 4], \"colorbar\": {\"title\": {\"text\": \"#Trials\"}, \"x\": 1.0, \"xpad\": 40}, \"colorscale\": [[0.0, \"rgb(247,251,255)\"], [0.125, \"rgb(222,235,247)\"], [0.25, \"rgb(198,219,239)\"], [0.375, \"rgb(158,202,225)\"], [0.5, \"rgb(107,174,214)\"], [0.625, \"rgb(66,146,198)\"], [0.75, \"rgb(33,113,181)\"], [0.875, \"rgb(8,81,156)\"], [1.0, \"rgb(8,48,107)\"]], \"line\": {\"color\": \"Grey\", \"width\": 0.5}, \"showscale\": false}, \"mode\": \"markers\", \"showlegend\": false, \"type\": \"scatter\", \"x\": [33, 79, 82, 48, 77], \"xaxis\": \"x3\", \"y\": [0.014273373428816865, 0.014273373428816865, 0.014273373428816865, 0.014273373428816865, 0.014273373428816865], \"yaxis\": \"y3\"}, {\"marker\": {\"color\": [0, 1, 2, 3, 4], \"colorbar\": {\"title\": {\"text\": \"#Trials\"}, \"x\": 1.0, \"xpad\": 40}, \"colorscale\": [[0.0, \"rgb(247,251,255)\"], [0.125, \"rgb(222,235,247)\"], [0.25, \"rgb(198,219,239)\"], [0.375, \"rgb(158,202,225)\"], [0.5, \"rgb(107,174,214)\"], [0.625, \"rgb(66,146,198)\"], [0.75, \"rgb(33,113,181)\"], [0.875, \"rgb(8,81,156)\"], [1.0, \"rgb(8,48,107)\"]], \"line\": {\"color\": \"Grey\", \"width\": 0.5}, \"showscale\": false}, \"mode\": \"markers\", \"showlegend\": false, \"type\": \"scatter\", \"x\": [\"log2\", \"none\", \"none\", \"log2\", \"log2\"], \"xaxis\": \"x4\", \"y\": [0.014273373428816865, 0.014273373428816865, 0.014273373428816865, 0.014273373428816865, 0.014273373428816865], \"yaxis\": \"y4\"}, {\"marker\": {\"color\": [0, 1, 2, 3, 4], \"colorbar\": {\"title\": {\"text\": \"#Trials\"}, \"x\": 1.0, \"xpad\": 40}, \"colorscale\": [[0.0, \"rgb(247,251,255)\"], [0.125, \"rgb(222,235,247)\"], [0.25, \"rgb(198,219,239)\"], [0.375, \"rgb(158,202,225)\"], [0.5, \"rgb(107,174,214)\"], [0.625, \"rgb(66,146,198)\"], [0.75, \"rgb(33,113,181)\"], [0.875, \"rgb(8,81,156)\"], [1.0, \"rgb(8,48,107)\"]], \"line\": {\"color\": \"Grey\", \"width\": 0.5}, \"showscale\": false}, \"mode\": \"markers\", \"showlegend\": false, \"type\": \"scatter\", \"x\": [69, 64, 58, 29, 20], \"xaxis\": \"x5\", \"y\": [0.014273373428816865, 0.014273373428816865, 0.014273373428816865, 0.014273373428816865, 0.014273373428816865], \"yaxis\": \"y5\"}, {\"marker\": {\"color\": [0, 1, 2, 3, 4], \"colorbar\": {\"title\": {\"text\": \"#Trials\"}, \"x\": 1.0, \"xpad\": 40}, \"colorscale\": [[0.0, \"rgb(247,251,255)\"], [0.125, \"rgb(222,235,247)\"], [0.25, \"rgb(198,219,239)\"], [0.375, \"rgb(158,202,225)\"], [0.5, \"rgb(107,174,214)\"], [0.625, \"rgb(66,146,198)\"], [0.75, \"rgb(33,113,181)\"], [0.875, \"rgb(8,81,156)\"], [1.0, \"rgb(8,48,107)\"]], \"line\": {\"color\": \"Grey\", \"width\": 0.5}, \"showscale\": false}, \"mode\": \"markers\", \"showlegend\": false, \"type\": \"scatter\", \"x\": [0.6380374289233538, 0.23104434990996203, 0.6672051908251, 0.9082063105034406, 0.5383141851012917], \"xaxis\": \"x6\", \"y\": [0.014273373428816865, 0.014273373428816865, 0.014273373428816865, 0.014273373428816865, 0.014273373428816865], \"yaxis\": \"y6\"}, {\"marker\": {\"color\": [0, 1, 2, 3, 4], \"colorbar\": {\"title\": {\"text\": \"#Trials\"}, \"x\": 1.0, \"xpad\": 40}, \"colorscale\": [[0.0, \"rgb(247,251,255)\"], [0.125, \"rgb(222,235,247)\"], [0.25, \"rgb(198,219,239)\"], [0.375, \"rgb(158,202,225)\"], [0.5, \"rgb(107,174,214)\"], [0.625, \"rgb(66,146,198)\"], [0.75, \"rgb(33,113,181)\"], [0.875, \"rgb(8,81,156)\"], [1.0, \"rgb(8,48,107)\"]], \"line\": {\"color\": \"Grey\", \"width\": 0.5}, \"showscale\": false}, \"mode\": \"markers\", \"showlegend\": false, \"type\": \"scatter\", \"x\": [7, 5, 4, 7, 9], \"xaxis\": \"x7\", \"y\": [0.014273373428816865, 0.014273373428816865, 0.014273373428816865, 0.014273373428816865, 0.014273373428816865], \"yaxis\": \"y7\"}, {\"marker\": {\"color\": [0, 1, 2, 3, 4], \"colorbar\": {\"title\": {\"text\": \"#Trials\"}, \"x\": 1.0, \"xpad\": 40}, \"colorscale\": [[0.0, \"rgb(247,251,255)\"], [0.125, \"rgb(222,235,247)\"], [0.25, \"rgb(198,219,239)\"], [0.375, \"rgb(158,202,225)\"], [0.5, \"rgb(107,174,214)\"], [0.625, \"rgb(66,146,198)\"], [0.75, \"rgb(33,113,181)\"], [0.875, \"rgb(8,81,156)\"], [1.0, \"rgb(8,48,107)\"]], \"line\": {\"color\": \"Grey\", \"width\": 0.5}, \"showscale\": false}, \"mode\": \"markers\", \"showlegend\": false, \"type\": \"scatter\", \"x\": [11, 14, 16, 6, 12], \"xaxis\": \"x8\", \"y\": [0.014273373428816865, 0.014273373428816865, 0.014273373428816865, 0.014273373428816865, 0.014273373428816865], \"yaxis\": \"y8\"}, {\"marker\": {\"color\": [0, 1, 2, 3, 4], \"colorbar\": {\"title\": {\"text\": \"#Trials\"}, \"x\": 1.0, \"xpad\": 40}, \"colorscale\": [[0.0, \"rgb(247,251,255)\"], [0.125, \"rgb(222,235,247)\"], [0.25, \"rgb(198,219,239)\"], [0.375, \"rgb(158,202,225)\"], [0.5, \"rgb(107,174,214)\"], [0.625, \"rgb(66,146,198)\"], [0.75, \"rgb(33,113,181)\"], [0.875, \"rgb(8,81,156)\"], [1.0, \"rgb(8,48,107)\"]], \"line\": {\"color\": \"Grey\", \"width\": 0.5}, \"showscale\": false}, \"mode\": \"markers\", \"showlegend\": false, \"type\": \"scatter\", \"x\": [0.0626388794473719, 0.364024423354406, 0.46704470368074047, 0.1326063713353267, 0.47744427440012344], \"xaxis\": \"x9\", \"y\": [0.014273373428816865, 0.014273373428816865, 0.014273373428816865, 0.014273373428816865, 0.014273373428816865], \"yaxis\": \"y9\"}, {\"marker\": {\"color\": [0, 1, 2, 3, 4], \"colorbar\": {\"title\": {\"text\": \"#Trials\"}, \"x\": 1.0, \"xpad\": 40}, \"colorscale\": [[0.0, \"rgb(247,251,255)\"], [0.125, \"rgb(222,235,247)\"], [0.25, \"rgb(198,219,239)\"], [0.375, \"rgb(158,202,225)\"], [0.5, \"rgb(107,174,214)\"], [0.625, \"rgb(66,146,198)\"], [0.75, \"rgb(33,113,181)\"], [0.875, \"rgb(8,81,156)\"], [1.0, \"rgb(8,48,107)\"]], \"line\": {\"color\": \"Grey\", \"width\": 0.5}, \"showscale\": false}, \"mode\": \"markers\", \"showlegend\": false, \"type\": \"scatter\", \"x\": [\"random\", \"random\", \"random\", \"best\", \"random\"], \"xaxis\": \"x10\", \"y\": [0.014273373428816865, 0.014273373428816865, 0.014273373428816865, 0.014273373428816865, 0.014273373428816865], \"yaxis\": \"y10\"}],\n",
              "                        {\"template\": {\"data\": {\"bar\": [{\"error_x\": {\"color\": \"#2a3f5f\"}, \"error_y\": {\"color\": \"#2a3f5f\"}, \"marker\": {\"line\": {\"color\": \"#E5ECF6\", \"width\": 0.5}}, \"type\": \"bar\"}], \"barpolar\": [{\"marker\": {\"line\": {\"color\": \"#E5ECF6\", \"width\": 0.5}}, \"type\": \"barpolar\"}], \"carpet\": [{\"aaxis\": {\"endlinecolor\": \"#2a3f5f\", \"gridcolor\": \"white\", \"linecolor\": \"white\", \"minorgridcolor\": \"white\", \"startlinecolor\": \"#2a3f5f\"}, \"baxis\": {\"endlinecolor\": \"#2a3f5f\", \"gridcolor\": \"white\", \"linecolor\": \"white\", \"minorgridcolor\": \"white\", \"startlinecolor\": \"#2a3f5f\"}, \"type\": \"carpet\"}], \"choropleth\": [{\"colorbar\": {\"outlinewidth\": 0, \"ticks\": \"\"}, \"type\": \"choropleth\"}], \"contour\": [{\"colorbar\": {\"outlinewidth\": 0, \"ticks\": \"\"}, \"colorscale\": [[0.0, \"#0d0887\"], [0.1111111111111111, \"#46039f\"], [0.2222222222222222, \"#7201a8\"], [0.3333333333333333, \"#9c179e\"], [0.4444444444444444, \"#bd3786\"], [0.5555555555555556, \"#d8576b\"], [0.6666666666666666, \"#ed7953\"], [0.7777777777777778, \"#fb9f3a\"], [0.8888888888888888, \"#fdca26\"], [1.0, \"#f0f921\"]], \"type\": \"contour\"}], \"contourcarpet\": [{\"colorbar\": {\"outlinewidth\": 0, \"ticks\": \"\"}, \"type\": \"contourcarpet\"}], \"heatmap\": [{\"colorbar\": {\"outlinewidth\": 0, \"ticks\": \"\"}, \"colorscale\": [[0.0, \"#0d0887\"], [0.1111111111111111, \"#46039f\"], [0.2222222222222222, \"#7201a8\"], [0.3333333333333333, \"#9c179e\"], [0.4444444444444444, \"#bd3786\"], [0.5555555555555556, \"#d8576b\"], [0.6666666666666666, \"#ed7953\"], [0.7777777777777778, \"#fb9f3a\"], [0.8888888888888888, \"#fdca26\"], [1.0, \"#f0f921\"]], \"type\": \"heatmap\"}], \"heatmapgl\": [{\"colorbar\": {\"outlinewidth\": 0, \"ticks\": \"\"}, \"colorscale\": [[0.0, \"#0d0887\"], [0.1111111111111111, \"#46039f\"], [0.2222222222222222, \"#7201a8\"], [0.3333333333333333, \"#9c179e\"], [0.4444444444444444, \"#bd3786\"], [0.5555555555555556, \"#d8576b\"], [0.6666666666666666, \"#ed7953\"], [0.7777777777777778, \"#fb9f3a\"], [0.8888888888888888, \"#fdca26\"], [1.0, \"#f0f921\"]], \"type\": \"heatmapgl\"}], \"histogram\": [{\"marker\": {\"colorbar\": {\"outlinewidth\": 0, \"ticks\": \"\"}}, \"type\": \"histogram\"}], \"histogram2d\": [{\"colorbar\": {\"outlinewidth\": 0, \"ticks\": \"\"}, \"colorscale\": [[0.0, \"#0d0887\"], [0.1111111111111111, \"#46039f\"], [0.2222222222222222, \"#7201a8\"], [0.3333333333333333, \"#9c179e\"], [0.4444444444444444, \"#bd3786\"], [0.5555555555555556, \"#d8576b\"], [0.6666666666666666, \"#ed7953\"], [0.7777777777777778, \"#fb9f3a\"], [0.8888888888888888, \"#fdca26\"], [1.0, \"#f0f921\"]], \"type\": \"histogram2d\"}], \"histogram2dcontour\": [{\"colorbar\": {\"outlinewidth\": 0, \"ticks\": \"\"}, \"colorscale\": [[0.0, \"#0d0887\"], [0.1111111111111111, \"#46039f\"], [0.2222222222222222, \"#7201a8\"], [0.3333333333333333, \"#9c179e\"], [0.4444444444444444, \"#bd3786\"], [0.5555555555555556, \"#d8576b\"], [0.6666666666666666, \"#ed7953\"], [0.7777777777777778, \"#fb9f3a\"], [0.8888888888888888, \"#fdca26\"], [1.0, \"#f0f921\"]], \"type\": \"histogram2dcontour\"}], \"mesh3d\": [{\"colorbar\": {\"outlinewidth\": 0, \"ticks\": \"\"}, \"type\": \"mesh3d\"}], \"parcoords\": [{\"line\": {\"colorbar\": {\"outlinewidth\": 0, \"ticks\": \"\"}}, \"type\": \"parcoords\"}], \"pie\": [{\"automargin\": true, \"type\": \"pie\"}], \"scatter\": [{\"marker\": {\"colorbar\": {\"outlinewidth\": 0, \"ticks\": \"\"}}, \"type\": \"scatter\"}], \"scatter3d\": [{\"line\": {\"colorbar\": {\"outlinewidth\": 0, \"ticks\": \"\"}}, \"marker\": {\"colorbar\": {\"outlinewidth\": 0, \"ticks\": \"\"}}, \"type\": \"scatter3d\"}], \"scattercarpet\": [{\"marker\": {\"colorbar\": {\"outlinewidth\": 0, \"ticks\": \"\"}}, \"type\": \"scattercarpet\"}], \"scattergeo\": [{\"marker\": {\"colorbar\": {\"outlinewidth\": 0, \"ticks\": \"\"}}, \"type\": \"scattergeo\"}], \"scattergl\": [{\"marker\": {\"colorbar\": {\"outlinewidth\": 0, \"ticks\": \"\"}}, \"type\": \"scattergl\"}], \"scattermapbox\": [{\"marker\": {\"colorbar\": {\"outlinewidth\": 0, \"ticks\": \"\"}}, \"type\": \"scattermapbox\"}], \"scatterpolar\": [{\"marker\": {\"colorbar\": {\"outlinewidth\": 0, \"ticks\": \"\"}}, \"type\": \"scatterpolar\"}], \"scatterpolargl\": [{\"marker\": {\"colorbar\": {\"outlinewidth\": 0, \"ticks\": \"\"}}, \"type\": \"scatterpolargl\"}], \"scatterternary\": [{\"marker\": {\"colorbar\": {\"outlinewidth\": 0, \"ticks\": \"\"}}, \"type\": \"scatterternary\"}], \"surface\": [{\"colorbar\": {\"outlinewidth\": 0, \"ticks\": \"\"}, \"colorscale\": [[0.0, \"#0d0887\"], [0.1111111111111111, \"#46039f\"], [0.2222222222222222, \"#7201a8\"], [0.3333333333333333, \"#9c179e\"], [0.4444444444444444, \"#bd3786\"], [0.5555555555555556, \"#d8576b\"], [0.6666666666666666, \"#ed7953\"], [0.7777777777777778, \"#fb9f3a\"], [0.8888888888888888, \"#fdca26\"], [1.0, \"#f0f921\"]], \"type\": \"surface\"}], \"table\": [{\"cells\": {\"fill\": {\"color\": \"#EBF0F8\"}, \"line\": {\"color\": \"white\"}}, \"header\": {\"fill\": {\"color\": \"#C8D4E3\"}, \"line\": {\"color\": \"white\"}}, \"type\": \"table\"}]}, \"layout\": {\"annotationdefaults\": {\"arrowcolor\": \"#2a3f5f\", \"arrowhead\": 0, \"arrowwidth\": 1}, \"coloraxis\": {\"colorbar\": {\"outlinewidth\": 0, \"ticks\": \"\"}}, \"colorscale\": {\"diverging\": [[0, \"#8e0152\"], [0.1, \"#c51b7d\"], [0.2, \"#de77ae\"], [0.3, \"#f1b6da\"], [0.4, \"#fde0ef\"], [0.5, \"#f7f7f7\"], [0.6, \"#e6f5d0\"], [0.7, \"#b8e186\"], [0.8, \"#7fbc41\"], [0.9, \"#4d9221\"], [1, \"#276419\"]], \"sequential\": [[0.0, \"#0d0887\"], [0.1111111111111111, \"#46039f\"], [0.2222222222222222, \"#7201a8\"], [0.3333333333333333, \"#9c179e\"], [0.4444444444444444, \"#bd3786\"], [0.5555555555555556, \"#d8576b\"], [0.6666666666666666, \"#ed7953\"], [0.7777777777777778, \"#fb9f3a\"], [0.8888888888888888, \"#fdca26\"], [1.0, \"#f0f921\"]], \"sequentialminus\": [[0.0, \"#0d0887\"], [0.1111111111111111, \"#46039f\"], [0.2222222222222222, \"#7201a8\"], [0.3333333333333333, \"#9c179e\"], [0.4444444444444444, \"#bd3786\"], [0.5555555555555556, \"#d8576b\"], [0.6666666666666666, \"#ed7953\"], [0.7777777777777778, \"#fb9f3a\"], [0.8888888888888888, \"#fdca26\"], [1.0, \"#f0f921\"]]}, \"colorway\": [\"#636efa\", \"#EF553B\", \"#00cc96\", \"#ab63fa\", \"#FFA15A\", \"#19d3f3\", \"#FF6692\", \"#B6E880\", \"#FF97FF\", \"#FECB52\"], \"font\": {\"color\": \"#2a3f5f\"}, \"geo\": {\"bgcolor\": \"white\", \"lakecolor\": \"white\", \"landcolor\": \"#E5ECF6\", \"showlakes\": true, \"showland\": true, \"subunitcolor\": \"white\"}, \"hoverlabel\": {\"align\": \"left\"}, \"hovermode\": \"closest\", \"mapbox\": {\"style\": \"light\"}, \"paper_bgcolor\": \"white\", \"plot_bgcolor\": \"#E5ECF6\", \"polar\": {\"angularaxis\": {\"gridcolor\": \"white\", \"linecolor\": \"white\", \"ticks\": \"\"}, \"bgcolor\": \"#E5ECF6\", \"radialaxis\": {\"gridcolor\": \"white\", \"linecolor\": \"white\", \"ticks\": \"\"}}, \"scene\": {\"xaxis\": {\"backgroundcolor\": \"#E5ECF6\", \"gridcolor\": \"white\", \"gridwidth\": 2, \"linecolor\": \"white\", \"showbackground\": true, \"ticks\": \"\", \"zerolinecolor\": \"white\"}, \"yaxis\": {\"backgroundcolor\": \"#E5ECF6\", \"gridcolor\": \"white\", \"gridwidth\": 2, \"linecolor\": \"white\", \"showbackground\": true, \"ticks\": \"\", \"zerolinecolor\": \"white\"}, \"zaxis\": {\"backgroundcolor\": \"#E5ECF6\", \"gridcolor\": \"white\", \"gridwidth\": 2, \"linecolor\": \"white\", \"showbackground\": true, \"ticks\": \"\", \"zerolinecolor\": \"white\"}}, \"shapedefaults\": {\"line\": {\"color\": \"#2a3f5f\"}}, \"ternary\": {\"aaxis\": {\"gridcolor\": \"white\", \"linecolor\": \"white\", \"ticks\": \"\"}, \"baxis\": {\"gridcolor\": \"white\", \"linecolor\": \"white\", \"ticks\": \"\"}, \"bgcolor\": \"#E5ECF6\", \"caxis\": {\"gridcolor\": \"white\", \"linecolor\": \"white\", \"ticks\": \"\"}}, \"title\": {\"x\": 0.05}, \"xaxis\": {\"automargin\": true, \"gridcolor\": \"white\", \"linecolor\": \"white\", \"ticks\": \"\", \"title\": {\"standoff\": 15}, \"zerolinecolor\": \"white\", \"zerolinewidth\": 2}, \"yaxis\": {\"automargin\": true, \"gridcolor\": \"white\", \"linecolor\": \"white\", \"ticks\": \"\", \"title\": {\"standoff\": 15}, \"zerolinecolor\": \"white\", \"zerolinewidth\": 2}}}, \"title\": {\"text\": \"Slice Plot\"}, \"width\": 3000, \"xaxis\": {\"anchor\": \"y\", \"domain\": [0.0, 0.082], \"title\": {\"text\": \"ccp_alpha\"}}, \"xaxis10\": {\"anchor\": \"y10\", \"domain\": [0.9179999999999999, 0.9999999999999999], \"title\": {\"text\": \"splitter\"}}, \"xaxis2\": {\"anchor\": \"y2\", \"domain\": [0.10200000000000001, 0.184], \"title\": {\"text\": \"criterion\"}}, \"xaxis3\": {\"anchor\": \"y3\", \"domain\": [0.20400000000000001, 0.28600000000000003], \"title\": {\"text\": \"max_depth\"}}, \"xaxis4\": {\"anchor\": \"y4\", \"domain\": [0.306, 0.388], \"title\": {\"text\": \"max_features\"}}, \"xaxis5\": {\"anchor\": \"y5\", \"domain\": [0.40800000000000003, 0.49000000000000005], \"title\": {\"text\": \"max_leaf_nodes\"}}, \"xaxis6\": {\"anchor\": \"y6\", \"domain\": [0.51, 0.592], \"title\": {\"text\": \"min_impurity_decrease\"}}, \"xaxis7\": {\"anchor\": \"y7\", \"domain\": [0.6120000000000001, 0.6940000000000001], \"title\": {\"text\": \"min_samples_leaf\"}}, \"xaxis8\": {\"anchor\": \"y8\", \"domain\": [0.7140000000000001, 0.796], \"title\": {\"text\": \"min_samples_split\"}}, \"xaxis9\": {\"anchor\": \"y9\", \"domain\": [0.8160000000000001, 0.898], \"title\": {\"text\": \"min_weight_fraction_leaf\"}}, \"yaxis\": {\"anchor\": \"x\", \"domain\": [0.0, 1.0], \"title\": {\"text\": \"Objective Value\"}}, \"yaxis10\": {\"anchor\": \"x10\", \"domain\": [0.0, 1.0], \"matches\": \"y\", \"showticklabels\": false}, \"yaxis2\": {\"anchor\": \"x2\", \"domain\": [0.0, 1.0], \"matches\": \"y\", \"showticklabels\": false}, \"yaxis3\": {\"anchor\": \"x3\", \"domain\": [0.0, 1.0], \"matches\": \"y\", \"showticklabels\": false}, \"yaxis4\": {\"anchor\": \"x4\", \"domain\": [0.0, 1.0], \"matches\": \"y\", \"showticklabels\": false}, \"yaxis5\": {\"anchor\": \"x5\", \"domain\": [0.0, 1.0], \"matches\": \"y\", \"showticklabels\": false}, \"yaxis6\": {\"anchor\": \"x6\", \"domain\": [0.0, 1.0], \"matches\": \"y\", \"showticklabels\": false}, \"yaxis7\": {\"anchor\": \"x7\", \"domain\": [0.0, 1.0], \"matches\": \"y\", \"showticklabels\": false}, \"yaxis8\": {\"anchor\": \"x8\", \"domain\": [0.0, 1.0], \"matches\": \"y\", \"showticklabels\": false}, \"yaxis9\": {\"anchor\": \"x9\", \"domain\": [0.0, 1.0], \"matches\": \"y\", \"showticklabels\": false}},\n",
              "                        {\"responsive\": true}\n",
              "                    ).then(function(){\n",
              "                            \n",
              "var gd = document.getElementById('ec47ec25-9909-457e-bb55-75600da14e19');\n",
              "var x = new MutationObserver(function (mutations, observer) {{\n",
              "        var display = window.getComputedStyle(gd).display;\n",
              "        if (!display || display === 'none') {{\n",
              "            console.log([gd, 'removed!']);\n",
              "            Plotly.purge(gd);\n",
              "            observer.disconnect();\n",
              "        }}\n",
              "}});\n",
              "\n",
              "// Listen for the removal of the full notebook cells\n",
              "var notebookContainer = gd.closest('#notebook-container');\n",
              "if (notebookContainer) {{\n",
              "    x.observe(notebookContainer, {childList: true});\n",
              "}}\n",
              "\n",
              "// Listen for the clearing of the current output cell\n",
              "var outputEl = gd.closest('.output');\n",
              "if (outputEl) {{\n",
              "    x.observe(outputEl, {childList: true});\n",
              "}}\n",
              "\n",
              "                        })\n",
              "                };\n",
              "                \n",
              "            </script>\n",
              "        </div>\n",
              "</body>\n",
              "</html>"
            ]
          },
          "metadata": {
            "tags": []
          }
        }
      ]
    },
    {
      "cell_type": "code",
      "metadata": {
        "colab": {
          "base_uri": "https://localhost:8080/",
          "height": 542
        },
        "id": "A1BOMc-lvPG_",
        "outputId": "4497b4f0-ed5f-4b1e-aa3d-43aac5693d0e"
      },
      "source": [
        "optuna.visualization.plot_param_importances(study_decisiontree)"
      ],
      "execution_count": null,
      "outputs": [
        {
          "output_type": "display_data",
          "data": {
            "text/html": [
              "<html>\n",
              "<head><meta charset=\"utf-8\" /></head>\n",
              "<body>\n",
              "    <div>\n",
              "            <script src=\"https://cdnjs.cloudflare.com/ajax/libs/mathjax/2.7.5/MathJax.js?config=TeX-AMS-MML_SVG\"></script><script type=\"text/javascript\">if (window.MathJax) {MathJax.Hub.Config({SVG: {font: \"STIX-Web\"}});}</script>\n",
              "                <script type=\"text/javascript\">window.PlotlyConfig = {MathJaxConfig: 'local'};</script>\n",
              "        <script src=\"https://cdn.plot.ly/plotly-latest.min.js\"></script>    \n",
              "            <div id=\"a18152c3-0bdf-4004-aa15-1e80e6df9187\" class=\"plotly-graph-div\" style=\"height:525px; width:100%;\"></div>\n",
              "            <script type=\"text/javascript\">\n",
              "                \n",
              "                    window.PLOTLYENV=window.PLOTLYENV || {};\n",
              "                    \n",
              "                if (document.getElementById(\"a18152c3-0bdf-4004-aa15-1e80e6df9187\")) {\n",
              "                    Plotly.newPlot(\n",
              "                        'a18152c3-0bdf-4004-aa15-1e80e6df9187',\n",
              "                        [{\"cliponaxis\": false, \"hovertemplate\": [\"ccp_alpha (UniformDistribution): 0.0<extra></extra>\", \"criterion (CategoricalDistribution): 0.0<extra></extra>\", \"max_features (CategoricalDistribution): 0.0<extra></extra>\", \"min_impurity_decrease (UniformDistribution): 0.0<extra></extra>\", \"min_samples_leaf (IntUniformDistribution): 0.0<extra></extra>\", \"min_samples_split (IntUniformDistribution): 0.0<extra></extra>\", \"min_weight_fraction_leaf (UniformDistribution): 0.0<extra></extra>\", \"splitter (CategoricalDistribution): 0.0<extra></extra>\", \"max_depth (IntUniformDistribution): 0.5<extra></extra>\", \"max_leaf_nodes (IntUniformDistribution): 0.5<extra></extra>\"], \"marker\": {\"color\": \"rgb(66,146,198)\"}, \"orientation\": \"h\", \"text\": [\"0.0\", \"0.0\", \"0.0\", \"0.0\", \"0.0\", \"0.0\", \"0.0\", \"0.0\", \"0.5\", \"0.5\"], \"textposition\": \"outside\", \"texttemplate\": \"%{text:.2f}\", \"type\": \"bar\", \"x\": [0.0, 0.0, 0.0, 0.0, 0.0, 0.0, 0.0, 0.0, 0.5, 0.5], \"y\": [\"ccp_alpha\", \"criterion\", \"max_features\", \"min_impurity_decrease\", \"min_samples_leaf\", \"min_samples_split\", \"min_weight_fraction_leaf\", \"splitter\", \"max_depth\", \"max_leaf_nodes\"]}],\n",
              "                        {\"showlegend\": false, \"template\": {\"data\": {\"bar\": [{\"error_x\": {\"color\": \"#2a3f5f\"}, \"error_y\": {\"color\": \"#2a3f5f\"}, \"marker\": {\"line\": {\"color\": \"#E5ECF6\", \"width\": 0.5}}, \"type\": \"bar\"}], \"barpolar\": [{\"marker\": {\"line\": {\"color\": \"#E5ECF6\", \"width\": 0.5}}, \"type\": \"barpolar\"}], \"carpet\": [{\"aaxis\": {\"endlinecolor\": \"#2a3f5f\", \"gridcolor\": \"white\", \"linecolor\": \"white\", \"minorgridcolor\": \"white\", \"startlinecolor\": \"#2a3f5f\"}, \"baxis\": {\"endlinecolor\": \"#2a3f5f\", \"gridcolor\": \"white\", \"linecolor\": \"white\", \"minorgridcolor\": \"white\", \"startlinecolor\": \"#2a3f5f\"}, \"type\": \"carpet\"}], \"choropleth\": [{\"colorbar\": {\"outlinewidth\": 0, \"ticks\": \"\"}, \"type\": \"choropleth\"}], \"contour\": [{\"colorbar\": {\"outlinewidth\": 0, \"ticks\": \"\"}, \"colorscale\": [[0.0, \"#0d0887\"], [0.1111111111111111, \"#46039f\"], [0.2222222222222222, \"#7201a8\"], [0.3333333333333333, \"#9c179e\"], [0.4444444444444444, \"#bd3786\"], [0.5555555555555556, \"#d8576b\"], [0.6666666666666666, \"#ed7953\"], [0.7777777777777778, \"#fb9f3a\"], [0.8888888888888888, \"#fdca26\"], [1.0, \"#f0f921\"]], \"type\": \"contour\"}], \"contourcarpet\": [{\"colorbar\": {\"outlinewidth\": 0, \"ticks\": \"\"}, \"type\": \"contourcarpet\"}], \"heatmap\": [{\"colorbar\": {\"outlinewidth\": 0, \"ticks\": \"\"}, \"colorscale\": [[0.0, \"#0d0887\"], [0.1111111111111111, \"#46039f\"], [0.2222222222222222, \"#7201a8\"], [0.3333333333333333, \"#9c179e\"], [0.4444444444444444, \"#bd3786\"], [0.5555555555555556, \"#d8576b\"], [0.6666666666666666, \"#ed7953\"], [0.7777777777777778, \"#fb9f3a\"], [0.8888888888888888, \"#fdca26\"], [1.0, \"#f0f921\"]], \"type\": \"heatmap\"}], \"heatmapgl\": [{\"colorbar\": {\"outlinewidth\": 0, \"ticks\": \"\"}, \"colorscale\": [[0.0, \"#0d0887\"], [0.1111111111111111, \"#46039f\"], [0.2222222222222222, \"#7201a8\"], [0.3333333333333333, \"#9c179e\"], [0.4444444444444444, \"#bd3786\"], [0.5555555555555556, \"#d8576b\"], [0.6666666666666666, \"#ed7953\"], [0.7777777777777778, \"#fb9f3a\"], [0.8888888888888888, \"#fdca26\"], [1.0, \"#f0f921\"]], \"type\": \"heatmapgl\"}], \"histogram\": [{\"marker\": {\"colorbar\": {\"outlinewidth\": 0, \"ticks\": \"\"}}, \"type\": \"histogram\"}], \"histogram2d\": [{\"colorbar\": {\"outlinewidth\": 0, \"ticks\": \"\"}, \"colorscale\": [[0.0, \"#0d0887\"], [0.1111111111111111, \"#46039f\"], [0.2222222222222222, \"#7201a8\"], [0.3333333333333333, \"#9c179e\"], [0.4444444444444444, \"#bd3786\"], [0.5555555555555556, \"#d8576b\"], [0.6666666666666666, \"#ed7953\"], [0.7777777777777778, \"#fb9f3a\"], [0.8888888888888888, \"#fdca26\"], [1.0, \"#f0f921\"]], \"type\": \"histogram2d\"}], \"histogram2dcontour\": [{\"colorbar\": {\"outlinewidth\": 0, \"ticks\": \"\"}, \"colorscale\": [[0.0, \"#0d0887\"], [0.1111111111111111, \"#46039f\"], [0.2222222222222222, \"#7201a8\"], [0.3333333333333333, \"#9c179e\"], [0.4444444444444444, \"#bd3786\"], [0.5555555555555556, \"#d8576b\"], [0.6666666666666666, \"#ed7953\"], [0.7777777777777778, \"#fb9f3a\"], [0.8888888888888888, \"#fdca26\"], [1.0, \"#f0f921\"]], \"type\": \"histogram2dcontour\"}], \"mesh3d\": [{\"colorbar\": {\"outlinewidth\": 0, \"ticks\": \"\"}, \"type\": \"mesh3d\"}], \"parcoords\": [{\"line\": {\"colorbar\": {\"outlinewidth\": 0, \"ticks\": \"\"}}, \"type\": \"parcoords\"}], \"pie\": [{\"automargin\": true, \"type\": \"pie\"}], \"scatter\": [{\"marker\": {\"colorbar\": {\"outlinewidth\": 0, \"ticks\": \"\"}}, \"type\": \"scatter\"}], \"scatter3d\": [{\"line\": {\"colorbar\": {\"outlinewidth\": 0, \"ticks\": \"\"}}, \"marker\": {\"colorbar\": {\"outlinewidth\": 0, \"ticks\": \"\"}}, \"type\": \"scatter3d\"}], \"scattercarpet\": [{\"marker\": {\"colorbar\": {\"outlinewidth\": 0, \"ticks\": \"\"}}, \"type\": \"scattercarpet\"}], \"scattergeo\": [{\"marker\": {\"colorbar\": {\"outlinewidth\": 0, \"ticks\": \"\"}}, \"type\": \"scattergeo\"}], \"scattergl\": [{\"marker\": {\"colorbar\": {\"outlinewidth\": 0, \"ticks\": \"\"}}, \"type\": \"scattergl\"}], \"scattermapbox\": [{\"marker\": {\"colorbar\": {\"outlinewidth\": 0, \"ticks\": \"\"}}, \"type\": \"scattermapbox\"}], \"scatterpolar\": [{\"marker\": {\"colorbar\": {\"outlinewidth\": 0, \"ticks\": \"\"}}, \"type\": \"scatterpolar\"}], \"scatterpolargl\": [{\"marker\": {\"colorbar\": {\"outlinewidth\": 0, \"ticks\": \"\"}}, \"type\": \"scatterpolargl\"}], \"scatterternary\": [{\"marker\": {\"colorbar\": {\"outlinewidth\": 0, \"ticks\": \"\"}}, \"type\": \"scatterternary\"}], \"surface\": [{\"colorbar\": {\"outlinewidth\": 0, \"ticks\": \"\"}, \"colorscale\": [[0.0, \"#0d0887\"], [0.1111111111111111, \"#46039f\"], [0.2222222222222222, \"#7201a8\"], [0.3333333333333333, \"#9c179e\"], [0.4444444444444444, \"#bd3786\"], [0.5555555555555556, \"#d8576b\"], [0.6666666666666666, \"#ed7953\"], [0.7777777777777778, \"#fb9f3a\"], [0.8888888888888888, \"#fdca26\"], [1.0, \"#f0f921\"]], \"type\": \"surface\"}], \"table\": [{\"cells\": {\"fill\": {\"color\": \"#EBF0F8\"}, \"line\": {\"color\": \"white\"}}, \"header\": {\"fill\": {\"color\": \"#C8D4E3\"}, \"line\": {\"color\": \"white\"}}, \"type\": \"table\"}]}, \"layout\": {\"annotationdefaults\": {\"arrowcolor\": \"#2a3f5f\", \"arrowhead\": 0, \"arrowwidth\": 1}, \"coloraxis\": {\"colorbar\": {\"outlinewidth\": 0, \"ticks\": \"\"}}, \"colorscale\": {\"diverging\": [[0, \"#8e0152\"], [0.1, \"#c51b7d\"], [0.2, \"#de77ae\"], [0.3, \"#f1b6da\"], [0.4, \"#fde0ef\"], [0.5, \"#f7f7f7\"], [0.6, \"#e6f5d0\"], [0.7, \"#b8e186\"], [0.8, \"#7fbc41\"], [0.9, \"#4d9221\"], [1, \"#276419\"]], \"sequential\": [[0.0, \"#0d0887\"], [0.1111111111111111, \"#46039f\"], [0.2222222222222222, \"#7201a8\"], [0.3333333333333333, \"#9c179e\"], [0.4444444444444444, \"#bd3786\"], [0.5555555555555556, \"#d8576b\"], [0.6666666666666666, \"#ed7953\"], [0.7777777777777778, \"#fb9f3a\"], [0.8888888888888888, \"#fdca26\"], [1.0, \"#f0f921\"]], \"sequentialminus\": [[0.0, \"#0d0887\"], [0.1111111111111111, \"#46039f\"], [0.2222222222222222, \"#7201a8\"], [0.3333333333333333, \"#9c179e\"], [0.4444444444444444, \"#bd3786\"], [0.5555555555555556, \"#d8576b\"], [0.6666666666666666, \"#ed7953\"], [0.7777777777777778, \"#fb9f3a\"], [0.8888888888888888, \"#fdca26\"], [1.0, \"#f0f921\"]]}, \"colorway\": [\"#636efa\", \"#EF553B\", \"#00cc96\", \"#ab63fa\", \"#FFA15A\", \"#19d3f3\", \"#FF6692\", \"#B6E880\", \"#FF97FF\", \"#FECB52\"], \"font\": {\"color\": \"#2a3f5f\"}, \"geo\": {\"bgcolor\": \"white\", \"lakecolor\": \"white\", \"landcolor\": \"#E5ECF6\", \"showlakes\": true, \"showland\": true, \"subunitcolor\": \"white\"}, \"hoverlabel\": {\"align\": \"left\"}, \"hovermode\": \"closest\", \"mapbox\": {\"style\": \"light\"}, \"paper_bgcolor\": \"white\", \"plot_bgcolor\": \"#E5ECF6\", \"polar\": {\"angularaxis\": {\"gridcolor\": \"white\", \"linecolor\": \"white\", \"ticks\": \"\"}, \"bgcolor\": \"#E5ECF6\", \"radialaxis\": {\"gridcolor\": \"white\", \"linecolor\": \"white\", \"ticks\": \"\"}}, \"scene\": {\"xaxis\": {\"backgroundcolor\": \"#E5ECF6\", \"gridcolor\": \"white\", \"gridwidth\": 2, \"linecolor\": \"white\", \"showbackground\": true, \"ticks\": \"\", \"zerolinecolor\": \"white\"}, \"yaxis\": {\"backgroundcolor\": \"#E5ECF6\", \"gridcolor\": \"white\", \"gridwidth\": 2, \"linecolor\": \"white\", \"showbackground\": true, \"ticks\": \"\", \"zerolinecolor\": \"white\"}, \"zaxis\": {\"backgroundcolor\": \"#E5ECF6\", \"gridcolor\": \"white\", \"gridwidth\": 2, \"linecolor\": \"white\", \"showbackground\": true, \"ticks\": \"\", \"zerolinecolor\": \"white\"}}, \"shapedefaults\": {\"line\": {\"color\": \"#2a3f5f\"}}, \"ternary\": {\"aaxis\": {\"gridcolor\": \"white\", \"linecolor\": \"white\", \"ticks\": \"\"}, \"baxis\": {\"gridcolor\": \"white\", \"linecolor\": \"white\", \"ticks\": \"\"}, \"bgcolor\": \"#E5ECF6\", \"caxis\": {\"gridcolor\": \"white\", \"linecolor\": \"white\", \"ticks\": \"\"}}, \"title\": {\"x\": 0.05}, \"xaxis\": {\"automargin\": true, \"gridcolor\": \"white\", \"linecolor\": \"white\", \"ticks\": \"\", \"title\": {\"standoff\": 15}, \"zerolinecolor\": \"white\", \"zerolinewidth\": 2}, \"yaxis\": {\"automargin\": true, \"gridcolor\": \"white\", \"linecolor\": \"white\", \"ticks\": \"\", \"title\": {\"standoff\": 15}, \"zerolinecolor\": \"white\", \"zerolinewidth\": 2}}}, \"title\": {\"text\": \"Hyperparameter Importances\"}, \"xaxis\": {\"title\": {\"text\": \"Importance for Objective Value\"}}, \"yaxis\": {\"title\": {\"text\": \"Hyperparameter\"}}},\n",
              "                        {\"responsive\": true}\n",
              "                    ).then(function(){\n",
              "                            \n",
              "var gd = document.getElementById('a18152c3-0bdf-4004-aa15-1e80e6df9187');\n",
              "var x = new MutationObserver(function (mutations, observer) {{\n",
              "        var display = window.getComputedStyle(gd).display;\n",
              "        if (!display || display === 'none') {{\n",
              "            console.log([gd, 'removed!']);\n",
              "            Plotly.purge(gd);\n",
              "            observer.disconnect();\n",
              "        }}\n",
              "}});\n",
              "\n",
              "// Listen for the removal of the full notebook cells\n",
              "var notebookContainer = gd.closest('#notebook-container');\n",
              "if (notebookContainer) {{\n",
              "    x.observe(notebookContainer, {childList: true});\n",
              "}}\n",
              "\n",
              "// Listen for the clearing of the current output cell\n",
              "var outputEl = gd.closest('.output');\n",
              "if (outputEl) {{\n",
              "    x.observe(outputEl, {childList: true});\n",
              "}}\n",
              "\n",
              "                        })\n",
              "                };\n",
              "                \n",
              "            </script>\n",
              "        </div>\n",
              "</body>\n",
              "</html>"
            ]
          },
          "metadata": {
            "tags": []
          }
        }
      ]
    },
    {
      "cell_type": "markdown",
      "metadata": {
        "id": "kHQgp-F1dEDx"
      },
      "source": [
        "# **Random Forest**"
      ]
    },
    {
      "cell_type": "code",
      "metadata": {
        "id": "LsyC2FyZf0cS",
        "colab": {
          "base_uri": "https://localhost:8080/"
        },
        "outputId": "833ccb6b-bf2c-497d-934b-958f57dfd708"
      },
      "source": [
        "def linearreg():\n",
        "\n",
        "  with mlflow.start_run():\n",
        "\n",
        "    line = LinearRegression()\n",
        "    line.fit(X_train, y_train)\n",
        "\n",
        "    y_pred_val = line.predict(X_val)\n",
        "    y_pred_test = line.predict(X_test)\n",
        "\n",
        "    print(\"Precisão RegressãoLinear:\", mean_squared_error(y_val, y_pred_val))\n",
        "    print(\"Precisão RegressãoLinear:\", mean_squared_error(y_test, y_pred_test))\n",
        "\n",
        "    #mlflow.log_param(\"nomeparametro\", nomevariavel)\n",
        "    #mlflow.log_param(\"nomeparametro\", nomevariavel)\n",
        "    #mlflow.log_metric(\"nomemetrica\", nomevariavel)\n",
        "    #mlflow.log_metric(\"nomemetrica\", nomevariavel)\n",
        "    #mlflow.log_metric(\"nomemetrica\", nomevariavel)\n",
        "linearreg()"
      ],
      "execution_count": null,
      "outputs": [
        {
          "output_type": "stream",
          "text": [
            "Precisão RegressãoLinear: 0.009169214222337603\n",
            "Precisão RegressãoLinear: 0.008749372990591323\n"
          ],
          "name": "stdout"
        }
      ]
    },
    {
      "cell_type": "markdown",
      "metadata": {
        "id": "Avwiqzgbc8oS"
      },
      "source": [
        "# **Rede Neural**"
      ]
    },
    {
      "cell_type": "code",
      "metadata": {
        "id": "z5H3jxDjdBCI",
        "colab": {
          "base_uri": "https://localhost:8080/"
        },
        "outputId": "3cfa3787-33a4-4107-b166-66b9dd530909"
      },
      "source": [
        "def svm():\n",
        "\n",
        "  with mlflow.start_run():\n",
        "\n",
        "    svm_model = SVR()\n",
        "    svm_model.fit(X_train, y_train)\n",
        "\n",
        "    y_pred_val = svm_model.predict(X_val)\n",
        "    y_pred_test = svm_model.predict(X_test)\n",
        "\n",
        "    print(\"Precisão MaquinaVetorSuporte:\", mean_squared_error(y_val, y_pred_val))\n",
        "    print(\"Precisão MaquinaVetorSuporte:\", mean_squared_error(y_test, y_pred_test))\n",
        "\n",
        "svm()"
      ],
      "execution_count": null,
      "outputs": [
        {
          "output_type": "stream",
          "text": [
            "Precisão MaquinaVetorSuporte: 0.006434381148298782\n",
            "Precisão MaquinaVetorSuporte: 0.00618941513542107\n"
          ],
          "name": "stdout"
        }
      ]
    },
    {
      "cell_type": "markdown",
      "metadata": {
        "id": "RZBvpotEdLX1"
      },
      "source": [
        "# **Ngrok para visualisar mlflow**"
      ]
    },
    {
      "cell_type": "code",
      "metadata": {
        "colab": {
          "base_uri": "https://localhost:8080/"
        },
        "id": "V-wvtxOCRweA",
        "outputId": "43208771-b641-4273-9a3d-af1319b2600f"
      },
      "source": [
        "get_ipython().system_raw(\"mlflow ui --port 5000 &\")\n",
        "from pyngrok import ngrok\n",
        "ngrok.kill()\n",
        "NGROK_AUTH_TOKEN = \"\"\n",
        "ngrok.set_auth_token(NGROK_AUTH_TOKEN)\n",
        "\n",
        "ngrok_tunnel = ngrok.connect(addr=\"5000\", proto=\"http\", bind_tls=True)\n",
        "print(\"MLflow Tracking UI:\", ngrok_tunnel.public_url)"
      ],
      "execution_count": null,
      "outputs": [
        {
          "output_type": "stream",
          "text": [
            "MLflow Tracking UI: https://c7a56ab792cf.ngrok.io\n"
          ],
          "name": "stdout"
        }
      ]
    }
  ]
}