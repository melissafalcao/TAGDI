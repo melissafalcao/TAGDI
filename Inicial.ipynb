{
  "nbformat": 4,
  "nbformat_minor": 0,
  "metadata": {
    "colab": {
      "name": "Inicial.ipynb",
      "provenance": [],
      "collapsed_sections": []
    },
    "kernelspec": {
      "name": "python3",
      "display_name": "Python 3"
    },
    "language_info": {
      "name": "python"
    }
  },
  "cells": [
    {
      "cell_type": "markdown",
      "metadata": {
        "id": "7H3ab_gha4Bj"
      },
      "source": [
        "# MyAnimeList Database 2020\n",
        "\n",
        "This dataset contains information about 17.562 anime and the preference from 325.772 different users. In particular, this dataset contain:\n",
        "\n",
        "*   The anime list per user. Include dropped, complete, plan to watch, currently watching and on hold.\n",
        "*   Ratings given by users to the animes that they has watched completely.\n",
        "*   Information about the anime like genre, stats, studio, etc.\n",
        "*   HTML with anime information to do data scrapping. These files contain information such as reviews, synopsis, information about the staff, anime statistics, genre, etc."
      ]
    },
    {
      "cell_type": "code",
      "metadata": {
        "id": "Kdz1zrJtbi9u"
      },
      "source": [
        "import pandas as pd\n",
        "import numpy as np\n",
        "from matplotlib import pyplot as plt\n",
        "import seaborn as sns"
      ],
      "execution_count": null,
      "outputs": []
    },
    {
      "cell_type": "code",
      "metadata": {
        "id": "a8kG2svCaxtH"
      },
      "source": [
        "ds = \"../Dataset/anime.csv\"\n",
        "\n",
        "df = pd.read_csv(ds)"
      ],
      "execution_count": null,
      "outputs": []
    },
    {
      "cell_type": "code",
      "metadata": {
        "id": "KcS_j2-bc3ev"
      },
      "source": [
        "df"
      ],
      "execution_count": null,
      "outputs": []
    }
  ]
}